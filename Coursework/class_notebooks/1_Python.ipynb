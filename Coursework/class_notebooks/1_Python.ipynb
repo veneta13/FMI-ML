{
  "nbformat": 4,
  "nbformat_minor": 0,
  "metadata": {
    "colab": {
      "name": "1_Python.ipynb",
      "provenance": [],
      "collapsed_sections": [],
      "toc_visible": true
    },
    "kernelspec": {
      "name": "python3",
      "display_name": "Python 3"
    },
    "language_info": {
      "name": "python"
    }
  },
  "cells": [
    {
      "cell_type": "markdown",
      "metadata": {
        "id": "view-in-github"
      },
      "source": [
        "<a href=\"https://colab.research.google.com/github/SimeonHristov99/ML_21-22/blob/main/Week_01_Hello%2C_Python.ipynb\" target=\"_parent\"><img src=\"https://colab.research.google.com/assets/colab-badge.svg\" alt=\"Open In Colab\"/></a>"
      ]
    },
    {
      "cell_type": "markdown",
      "source": [
        "# Hello, Python!\n",
        "\n",
        "<!-- # === h1 -->"
      ],
      "metadata": {
        "id": "kuOoRyThTCQm"
      }
    },
    {
      "cell_type": "markdown",
      "source": [
        "## Introduction"
      ],
      "metadata": {
        "id": "RbZlp6bWjuw2"
      }
    },
    {
      "cell_type": "markdown",
      "source": [
        "Notebooks are composed of editable blocks (called \"cells\") of text and code."
      ],
      "metadata": {
        "id": "ZfgIi69TVtyI"
      }
    },
    {
      "cell_type": "markdown",
      "source": [
        "I am a text cell :). Double click to edit me."
      ],
      "metadata": {
        "id": "yn86IDmHWET-"
      }
    },
    {
      "cell_type": "code",
      "source": [
        "# I am a code cell :). Click one time to edit me."
      ],
      "metadata": {
        "id": "3NR3bk8OWBUI"
      },
      "execution_count": null,
      "outputs": []
    },
    {
      "cell_type": "markdown",
      "source": [
        "Run a cell: click on the cell and press `Ctrl + Enter`. If you press `Shift + Enter`, you'll execute the current cell and go to the next cell."
      ],
      "metadata": {
        "id": "8oHsf-tOVvFl"
      }
    },
    {
      "cell_type": "markdown",
      "source": [
        "Shortcuts:\n",
        "\n",
        "- `Ctrl + Shift + Space`: See docstring.\n",
        "- `Ctrl + M + B`: New code cell.\n",
        "- `Ctrl + M + M`: Turn code cell into markdown cell.\n",
        "- `Ctrl + M + D`: Delete cell."
      ],
      "metadata": {
        "id": "nsU-W0DtVwXL"
      }
    },
    {
      "cell_type": "markdown",
      "source": [
        "Notes:\n",
        "\n",
        "- Basic Python operations\n",
        "\n",
        "| Operator | Name           | Description                                    |\n",
        "| -------- | -------------- | ---------------------------------------------- |\n",
        "| a + b    | Addition       | Sum of a and b                                 |\n",
        "| a - b    | Subtraction    | Difference of a and b                          |\n",
        "| a * b    | Multiplication | Product of a and b                             |\n",
        "| a / b    | True division  | Quotient of a and b                            |\n",
        "| a // b   | Floor division | Quotient of a and b, removing fractional parts |\n",
        "| a % b    | Modulus        | Integer remainder after division of a by b     |\n",
        "| a ** b   | Exponentiation | a raised to the power of b                     |\n",
        "| -a       | Negation       | The negative of a                              |\n",
        "\n",
        "- `type(19.95)`: Check the type of a variable or a constant.\n",
        "- `abs(-32)` --> 32\n",
        "- `float(10)` --> 10.0\n",
        "- `int(3.33)` --> 3\n",
        "- `str(3.33)` --> '3.33'"
      ],
      "metadata": {
        "id": "FsMT_yZCgE7l"
      }
    },
    {
      "cell_type": "markdown",
      "source": [
        "## Basics"
      ],
      "metadata": {
        "id": "MafAwtYKi3ZS"
      }
    },
    {
      "cell_type": "code",
      "source": [
        "# create a variable called color with an appropriate value and print it\n",
        "color = 'white'\n",
        "print(color)\n",
        "'Hello, world'"
      ],
      "metadata": {
        "id": "3G8VmNwfi4GN",
        "colab": {
          "base_uri": "https://localhost:8080/",
          "height": 53
        },
        "outputId": "fe8b7fe8-8ea7-4d84-bd4d-73d6171369fa"
      },
      "execution_count": null,
      "outputs": [
        {
          "output_type": "stream",
          "name": "stdout",
          "text": [
            "white\n"
          ]
        },
        {
          "output_type": "execute_result",
          "data": {
            "application/vnd.google.colaboratory.intrinsic+json": {
              "type": "string"
            },
            "text/plain": [
              "'Hello, world'"
            ]
          },
          "metadata": {},
          "execution_count": 2
        }
      ]
    },
    {
      "cell_type": "code",
      "source": [
        "pi = 3.14159 # approximate\n",
        "diameter = 3\n",
        "\n",
        "# Create a variable called 'radius' equal to half the diameter\n",
        "radius = diameter / 2\n",
        "\n",
        "# Create a variable called 'area', using the formula for the area of a circle: pi times the radius squared\n",
        "area = pi * radius ** 2\n",
        "area"
      ],
      "metadata": {
        "id": "CX0pVmP-i9FG",
        "colab": {
          "base_uri": "https://localhost:8080/"
        },
        "outputId": "938b29e9-d1fd-4eb3-e33c-d01e28ca9dcc"
      },
      "execution_count": null,
      "outputs": [
        {
          "output_type": "execute_result",
          "data": {
            "text/plain": [
              "7.0685775"
            ]
          },
          "metadata": {},
          "execution_count": 3
        }
      ]
    },
    {
      "cell_type": "code",
      "source": [
        "a = [1, 2, 3]\n",
        "b = [3, 2, 1]\n",
        "\n",
        "# Swap the values to which a and b refer.\n",
        "a, b = b, a"
      ],
      "metadata": {
        "id": "I1pDK5sZjTsW"
      },
      "execution_count": null,
      "outputs": []
    },
    {
      "cell_type": "code",
      "source": [
        "a, b"
      ],
      "metadata": {
        "colab": {
          "base_uri": "https://localhost:8080/"
        },
        "id": "oVqpCiU6FWRP",
        "outputId": "fac3c229-c716-477c-b5f6-3fe916604391"
      },
      "execution_count": null,
      "outputs": [
        {
          "output_type": "execute_result",
          "data": {
            "text/plain": [
              "([3, 2, 1], [1, 2, 3])"
            ]
          },
          "metadata": {},
          "execution_count": 5
        }
      ]
    },
    {
      "cell_type": "code",
      "source": [
        "# Reverse a\n",
        "a[::-1]"
      ],
      "metadata": {
        "colab": {
          "base_uri": "https://localhost:8080/"
        },
        "id": "AWxDsV95Fqp4",
        "outputId": "d1fd35dd-cee2-4d29-dbf0-dfb298824f6b"
      },
      "execution_count": null,
      "outputs": [
        {
          "output_type": "execute_result",
          "data": {
            "text/plain": [
              "[1, 2, 3]"
            ]
          },
          "metadata": {},
          "execution_count": 6
        }
      ]
    },
    {
      "cell_type": "code",
      "source": [
        "# Add parentheses and operators to the following expression so that it evaluates to 1.\n",
        "5 // (3 + 2)"
      ],
      "metadata": {
        "id": "sFvc5AwWjfv5",
        "colab": {
          "base_uri": "https://localhost:8080/"
        },
        "outputId": "d58887c3-11d5-4099-fd88-cd76bb2862ce"
      },
      "execution_count": null,
      "outputs": [
        {
          "output_type": "execute_result",
          "data": {
            "text/plain": [
              "1"
            ]
          },
          "metadata": {},
          "execution_count": 7
        }
      ]
    },
    {
      "cell_type": "code",
      "source": [
        "# In case you need a documentation for a particular function\n",
        "help(round)"
      ],
      "metadata": {
        "colab": {
          "base_uri": "https://localhost:8080/"
        },
        "id": "-MsWB8o9j6bU",
        "outputId": "fe8f884b-4d4d-4bf8-8766-059d4fc4c554"
      },
      "execution_count": null,
      "outputs": [
        {
          "output_type": "stream",
          "name": "stdout",
          "text": [
            "Help on built-in function round in module builtins:\n",
            "\n",
            "round(number, ndigits=None)\n",
            "    Round a number to a given precision in decimal digits.\n",
            "    \n",
            "    The return value is an integer if ndigits is omitted or None.  Otherwise\n",
            "    the return value has the same type as the number.  ndigits may be negative.\n",
            "\n"
          ]
        }
      ]
    },
    {
      "cell_type": "markdown",
      "source": [
        "`help()` displays two things:\n",
        "\n",
        "  1. the header of that function `round(number, ndigits=None)`. In this case, this tells us that `round()` takes an argument we can describe as number. Additionally, we can optionally give a separate argument which could be described as `ndigits`.\n",
        "  2. A brief description of what the function does.\n",
        "\n",
        "> **Common pitfall**: when you're looking up a function, remember to pass in the name of the function itself, and not the result of calling that function."
      ],
      "metadata": {
        "id": "spJIAdhhkF2c"
      }
    },
    {
      "cell_type": "code",
      "source": [
        "help(help)"
      ],
      "metadata": {
        "colab": {
          "base_uri": "https://localhost:8080/"
        },
        "id": "0WsJxI-zGNVY",
        "outputId": "dd4b94d5-32ad-44b4-d09e-9dc9fe2fa731"
      },
      "execution_count": null,
      "outputs": [
        {
          "output_type": "stream",
          "name": "stdout",
          "text": [
            "Help on _Helper in module _sitebuiltins object:\n",
            "\n",
            "class _Helper(builtins.object)\n",
            " |  Define the builtin 'help'.\n",
            " |  \n",
            " |  This is a wrapper around pydoc.help that provides a helpful message\n",
            " |  when 'help' is typed at the Python interactive prompt.\n",
            " |  \n",
            " |  Calling help() at the Python prompt starts an interactive help session.\n",
            " |  Calling help(thing) prints help for the python object 'thing'.\n",
            " |  \n",
            " |  Methods defined here:\n",
            " |  \n",
            " |  __call__(self, *args, **kwds)\n",
            " |      Call self as a function.\n",
            " |  \n",
            " |  __repr__(self)\n",
            " |      Return repr(self).\n",
            " |  \n",
            " |  ----------------------------------------------------------------------\n",
            " |  Data descriptors defined here:\n",
            " |  \n",
            " |  __dict__\n",
            " |      dictionary for instance variables (if defined)\n",
            " |  \n",
            " |  __weakref__\n",
            " |      list of weak references to the object (if defined)\n",
            "\n"
          ]
        }
      ]
    },
    {
      "cell_type": "markdown",
      "source": [
        "**Functions and Docstrings**"
      ],
      "metadata": {
        "id": "ml6Ljhkylxy1"
      }
    },
    {
      "cell_type": "code",
      "source": [
        "def least_difference(a, b, c):\n",
        "  \"\"\"Return the smallest difference between any two numbers\n",
        "  among a, b and c.\n",
        "  \n",
        "  >>> least_difference(1, 5, -5)\n",
        "  4\n",
        "  \"\"\"\n",
        "  v1 = abs(a - b)\n",
        "  v2 = abs(b - c)\n",
        "  v3 = abs(a - c)\n",
        "  return min(v1, v2, v3)\n",
        "\n",
        "least_difference(1, 5, -5)"
      ],
      "metadata": {
        "id": "LhwthoXZlz3v",
        "colab": {
          "base_uri": "https://localhost:8080/"
        },
        "outputId": "671ec79d-5f7e-47f2-aa9a-fccbf7bc0205"
      },
      "execution_count": null,
      "outputs": [
        {
          "output_type": "execute_result",
          "data": {
            "text/plain": [
              "4"
            ]
          },
          "metadata": {},
          "execution_count": 10
        }
      ]
    },
    {
      "cell_type": "code",
      "source": [
        "help(least_difference)"
      ],
      "metadata": {
        "colab": {
          "base_uri": "https://localhost:8080/"
        },
        "id": "JqmUkKJ8l162",
        "outputId": "112d4a93-e904-4fcc-f7ed-19f3462ea7e4"
      },
      "execution_count": null,
      "outputs": [
        {
          "output_type": "stream",
          "name": "stdout",
          "text": [
            "Help on function least_difference in module __main__:\n",
            "\n",
            "least_difference(a, b, c)\n",
            "    Return the smallest difference between any two numbers\n",
            "    among a, b and c.\n",
            "    \n",
            "    >>> least_difference(1, 5, -5)\n",
            "    4\n",
            "\n"
          ]
        }
      ]
    },
    {
      "cell_type": "markdown",
      "source": [
        "**Keyword (default) arguments**"
      ],
      "metadata": {
        "id": "QLcwfTEqmSEt"
      }
    },
    {
      "cell_type": "code",
      "source": [
        "def greet(who=\"Colin\"):\n",
        "    print(f'Hello, {who}')\n",
        "    \n",
        "greet()\n",
        "greet(who='Simo')\n",
        "greet('Simo2')"
      ],
      "metadata": {
        "id": "utG6PQQEmUUa",
        "colab": {
          "base_uri": "https://localhost:8080/"
        },
        "outputId": "e734f991-368c-4231-fdbd-536b24e85c26"
      },
      "execution_count": null,
      "outputs": [
        {
          "output_type": "stream",
          "name": "stdout",
          "text": [
            "Hello, Colin\n",
            "Hello, Simo\n",
            "Hello, Simo2\n"
          ]
        }
      ]
    },
    {
      "cell_type": "code",
      "source": [
        "\"'sdgsdsd\""
      ],
      "metadata": {
        "id": "feRfsT4mmWw9",
        "colab": {
          "base_uri": "https://localhost:8080/",
          "height": 35
        },
        "outputId": "b0c1ce96-6829-4d60-d9d3-5b1a26b16556"
      },
      "execution_count": null,
      "outputs": [
        {
          "output_type": "execute_result",
          "data": {
            "application/vnd.google.colaboratory.intrinsic+json": {
              "type": "string"
            },
            "text/plain": [
              "\"'sdgsdsd\""
            ]
          },
          "metadata": {},
          "execution_count": 13
        }
      ]
    },
    {
      "cell_type": "markdown",
      "source": [
        "**Lambda functions**"
      ],
      "metadata": {
        "id": "QANOtviQnNTL"
      }
    },
    {
      "cell_type": "code",
      "source": [
        "def is_odd():\n",
        "  return lambda x: x % 2 != 0"
      ],
      "metadata": {
        "id": "rR7VrlFLnPX3"
      },
      "execution_count": null,
      "outputs": []
    },
    {
      "cell_type": "code",
      "source": [
        "is_odd()(6)"
      ],
      "metadata": {
        "colab": {
          "base_uri": "https://localhost:8080/"
        },
        "id": "iDxpokgbHmZB",
        "outputId": "74eda067-bf24-4431-9582-a4b6fc082704"
      },
      "execution_count": null,
      "outputs": [
        {
          "output_type": "execute_result",
          "data": {
            "text/plain": [
              "False"
            ]
          },
          "metadata": {},
          "execution_count": 15
        }
      ]
    },
    {
      "cell_type": "markdown",
      "source": [
        "**Combining Boolean Values**\n",
        "\n",
        "You can combine boolean values using the standard concepts of \"and\", \"or\", and \"not\". In fact, the words to do this are: and, or, and not.\n",
        "\n",
        "With these, we can make our can_run_for_president function more accurate."
      ],
      "metadata": {
        "id": "Eih70rO5n2a5"
      }
    },
    {
      "cell_type": "code",
      "source": [
        "def can_run_for_president(age, is_natural_born_citizen):\n",
        "  \"\"\"Can someone of the given age and citizenship status run for president in the US?\"\"\"\n",
        "  # The US Constitution says you must be a natural born citizen *and* at least 35 years old\n",
        "  return is_natural_born_citizen and age >= 35\n",
        "\n",
        "print(can_run_for_president(19, True))\n",
        "print(can_run_for_president(55, False))\n",
        "print(can_run_for_president(55, True))"
      ],
      "metadata": {
        "colab": {
          "base_uri": "https://localhost:8080/"
        },
        "id": "tuSylIptoC3v",
        "outputId": "235a6c0c-8d8f-49ab-8774-6e66a9741a8d"
      },
      "execution_count": null,
      "outputs": [
        {
          "output_type": "stream",
          "name": "stdout",
          "text": [
            "False\n",
            "False\n",
            "True\n"
          ]
        }
      ]
    },
    {
      "cell_type": "markdown",
      "source": [
        "**Conditionals**\n",
        "\n",
        "Booleans are most useful when combined with conditional statements, using the keywords `if`, `elif`, and `else`."
      ],
      "metadata": {
        "id": "skDjKbNloeYn"
      }
    },
    {
      "cell_type": "code",
      "source": [
        "def inspect(x):\n",
        "  if x == 0:\n",
        "    print(x, \"is zero\")\n",
        "  elif x > 0:\n",
        "    print(x, \"is positive\")\n",
        "  elif x < 0:\n",
        "    print(x, \"is negative\")\n",
        "  else:\n",
        "    print(x, \"is unlike anything I've ever seen...\")\n",
        "\n",
        "inspect(0)\n",
        "inspect(-15)"
      ],
      "metadata": {
        "colab": {
          "base_uri": "https://localhost:8080/"
        },
        "id": "UzLUxhpJolQS",
        "outputId": "5d35ce36-4e8b-4e68-bd86-48042acf5787"
      },
      "execution_count": null,
      "outputs": [
        {
          "output_type": "stream",
          "name": "stdout",
          "text": [
            "0 is zero\n",
            "-15 is negative\n"
          ]
        }
      ]
    },
    {
      "cell_type": "code",
      "source": [
        "def f(x):\n",
        "  if x > 0:\n",
        "    print(f'Only printed when x is positive; x = {x}')\n",
        "    print(f'Also only printed when x is positive; x = {x}')\n",
        "\n",
        "  print(f'Always printed, regardless of x\\'s value; x = {x}')\n",
        "  # print(f\"Always printed, regardless of x's value; x = {x}\")\n",
        "\n",
        "\n",
        "\n",
        "f(1)\n",
        "f(10)\n",
        "f(0)\n",
        "\n",
        "# How to get the following output?\n",
        "# Only printed when x is positive; x = 1\n",
        "# Also only printed when x is positive; x = 1\n",
        "# Always printed, regardless of x's value; x = 1\n",
        "# Always printed, regardless of x's value; x = 0"
      ],
      "metadata": {
        "id": "3WFLqJoJopS7",
        "colab": {
          "base_uri": "https://localhost:8080/"
        },
        "outputId": "f50adaa5-dc91-47fe-edaa-7fa67652dad4"
      },
      "execution_count": null,
      "outputs": [
        {
          "output_type": "stream",
          "name": "stdout",
          "text": [
            "Only printed when x is positive; x = 1\n",
            "Also only printed when x is positive; x = 1\n",
            "Always printed, regardless of x's value; x = 1\n",
            "Only printed when x is positive; x = 10\n",
            "Also only printed when x is positive; x = 10\n",
            "Always printed, regardless of x's value; x = 10\n",
            "Always printed, regardless of x's value; x = 0\n"
          ]
        }
      ]
    },
    {
      "cell_type": "markdown",
      "source": [
        "**Boolean conversion**\n",
        "\n",
        "We've seen `int()`, which turns things into `int`s, and `float()`, which turns things into `float`s. Python also has a `bool()` function which turns things into `bool`s."
      ],
      "metadata": {
        "id": "33XHnxlOpMaw"
      }
    },
    {
      "cell_type": "code",
      "source": [
        "print(bool(1)) # all numbers are treated as true, except 0\n",
        "print(bool(0))\n",
        "print(bool(\"asf\")) # all strings are treated as true, except the empty string \"\"\n",
        "print(bool(\"\"))"
      ],
      "metadata": {
        "colab": {
          "base_uri": "https://localhost:8080/"
        },
        "id": "LwOWsL7lpUuq",
        "outputId": "74a609fd-e3e2-4a91-b052-223290749b4e"
      },
      "execution_count": null,
      "outputs": [
        {
          "output_type": "stream",
          "name": "stdout",
          "text": [
            "True\n",
            "False\n",
            "True\n",
            "False\n"
          ]
        }
      ]
    },
    {
      "cell_type": "markdown",
      "source": [
        "> **Tip**: Generally empty sequences (strings, lists, tuples, dictionaries) are `false`y and the rest are `truth`y."
      ],
      "metadata": {
        "id": "bE_5G3j0pZ3C"
      }
    },
    {
      "cell_type": "markdown",
      "source": [
        "## Lists"
      ],
      "metadata": {
        "id": "q5NJjvZ5qm2P"
      }
    },
    {
      "cell_type": "code",
      "source": [
        "# A list can contain a mix of different types of variables\n",
        "my_favourite_things = [32, 'raindrops on roses', help]\n",
        "my_favourite_things"
      ],
      "metadata": {
        "colab": {
          "base_uri": "https://localhost:8080/"
        },
        "id": "A6NmCZUYqpgp",
        "outputId": "95715913-4748-40e0-b71a-93467478bca9"
      },
      "execution_count": null,
      "outputs": [
        {
          "output_type": "execute_result",
          "data": {
            "text/plain": [
              "[32,\n",
              " 'raindrops on roses',\n",
              " Type help() for interactive help, or help(object) for help about object.]"
            ]
          },
          "metadata": {},
          "execution_count": 20
        }
      ]
    },
    {
      "cell_type": "code",
      "source": [
        "my_favourite_things[1]"
      ],
      "metadata": {
        "colab": {
          "base_uri": "https://localhost:8080/",
          "height": 35
        },
        "id": "4vzKrOD8quI0",
        "outputId": "10a7c89d-f38d-46d9-9a02-26c52c657899"
      },
      "execution_count": null,
      "outputs": [
        {
          "output_type": "execute_result",
          "data": {
            "application/vnd.google.colaboratory.intrinsic+json": {
              "type": "string"
            },
            "text/plain": [
              "'raindrops on roses'"
            ]
          },
          "metadata": {},
          "execution_count": 21
        }
      ]
    },
    {
      "cell_type": "code",
      "source": [
        "my_favourite_things[-1]"
      ],
      "metadata": {
        "colab": {
          "base_uri": "https://localhost:8080/"
        },
        "id": "ZJ7uPfXIqwNh",
        "outputId": "d469e98a-127d-4249-f0a1-acf64bf0ae68"
      },
      "execution_count": null,
      "outputs": [
        {
          "output_type": "execute_result",
          "data": {
            "text/plain": [
              "Type help() for interactive help, or help(object) for help about object."
            ]
          },
          "metadata": {},
          "execution_count": 22
        }
      ]
    },
    {
      "cell_type": "code",
      "source": [
        "my_favourite_things[-2]"
      ],
      "metadata": {
        "colab": {
          "base_uri": "https://localhost:8080/",
          "height": 35
        },
        "id": "GimwT8Qkqxqu",
        "outputId": "8dd39aba-89e4-4904-af8b-2503b9e4d6a7"
      },
      "execution_count": null,
      "outputs": [
        {
          "output_type": "execute_result",
          "data": {
            "application/vnd.google.colaboratory.intrinsic+json": {
              "type": "string"
            },
            "text/plain": [
              "'raindrops on roses'"
            ]
          },
          "metadata": {},
          "execution_count": 23
        }
      ]
    },
    {
      "cell_type": "code",
      "source": [
        "my_favourite_things[1:]"
      ],
      "metadata": {
        "colab": {
          "base_uri": "https://localhost:8080/"
        },
        "id": "_GgT_h1CqzLY",
        "outputId": "3da2b595-8802-44c8-8bea-96f608081900"
      },
      "execution_count": null,
      "outputs": [
        {
          "output_type": "execute_result",
          "data": {
            "text/plain": [
              "['raindrops on roses',\n",
              " Type help() for interactive help, or help(object) for help about object.]"
            ]
          },
          "metadata": {},
          "execution_count": 24
        }
      ]
    },
    {
      "cell_type": "code",
      "source": [
        "my_favourite_things[0:1]"
      ],
      "metadata": {
        "colab": {
          "base_uri": "https://localhost:8080/"
        },
        "id": "epQC_U7kq09d",
        "outputId": "5c700d8b-e831-405c-f6cc-91c59bdf9a60"
      },
      "execution_count": null,
      "outputs": [
        {
          "output_type": "execute_result",
          "data": {
            "text/plain": [
              "[32]"
            ]
          },
          "metadata": {},
          "execution_count": 25
        }
      ]
    },
    {
      "cell_type": "code",
      "source": [
        "planets = ['Mercury', 'Venus', 'Earth', 'Mars', 'Jupiter', 'Saturn', 'Uranus', 'Neptune']\n",
        "planets[3] = 'Malacandra'\n",
        "planets"
      ],
      "metadata": {
        "colab": {
          "base_uri": "https://localhost:8080/"
        },
        "id": "7DEtMRBAq9U4",
        "outputId": "0e2925dd-5fd6-42dc-d1df-9c1bdeffb711"
      },
      "execution_count": null,
      "outputs": [
        {
          "output_type": "execute_result",
          "data": {
            "text/plain": [
              "['Mercury',\n",
              " 'Venus',\n",
              " 'Earth',\n",
              " 'Malacandra',\n",
              " 'Jupiter',\n",
              " 'Saturn',\n",
              " 'Uranus',\n",
              " 'Neptune']"
            ]
          },
          "metadata": {},
          "execution_count": 26
        }
      ]
    },
    {
      "cell_type": "code",
      "source": [
        "planets[:-2]"
      ],
      "metadata": {
        "colab": {
          "base_uri": "https://localhost:8080/"
        },
        "id": "_IwnFcNsJ3YU",
        "outputId": "6b878662-02b9-42c6-afad-33b25767bb0e"
      },
      "execution_count": null,
      "outputs": [
        {
          "output_type": "execute_result",
          "data": {
            "text/plain": [
              "['Mercury', 'Venus', 'Earth', 'Malacandra', 'Jupiter', 'Saturn']"
            ]
          },
          "metadata": {},
          "execution_count": 27
        }
      ]
    },
    {
      "cell_type": "markdown",
      "source": [
        "**Useful list functions**"
      ],
      "metadata": {
        "id": "7arjipPurKqj"
      }
    },
    {
      "cell_type": "markdown",
      "source": [
        "Check out all of them [here](https://docs.python.org/3/tutorial/datastructures.html)."
      ],
      "metadata": {
        "id": "Cqm9Klsor-8a"
      }
    },
    {
      "cell_type": "code",
      "source": [
        "# How many planets are there?\n",
        "len(planets)"
      ],
      "metadata": {
        "id": "eNCW4GXsrM-b",
        "colab": {
          "base_uri": "https://localhost:8080/"
        },
        "outputId": "8d370d97-0c61-45e5-9be6-bf8ee3487bc2"
      },
      "execution_count": null,
      "outputs": [
        {
          "output_type": "execute_result",
          "data": {
            "text/plain": [
              "8"
            ]
          },
          "metadata": {},
          "execution_count": 28
        }
      ]
    },
    {
      "cell_type": "code",
      "source": [
        "# The planets sorted in alphabetical order\n",
        "sorted(planets)"
      ],
      "metadata": {
        "id": "FXl9bVPJrRDF",
        "colab": {
          "base_uri": "https://localhost:8080/"
        },
        "outputId": "a484235e-f08f-4d95-f1cd-c5445e1be6a0"
      },
      "execution_count": null,
      "outputs": [
        {
          "output_type": "execute_result",
          "data": {
            "text/plain": [
              "['Earth',\n",
              " 'Jupiter',\n",
              " 'Malacandra',\n",
              " 'Mercury',\n",
              " 'Neptune',\n",
              " 'Saturn',\n",
              " 'Uranus',\n",
              " 'Venus']"
            ]
          },
          "metadata": {},
          "execution_count": 29
        }
      ]
    },
    {
      "cell_type": "code",
      "source": [
        "planets.sort()"
      ],
      "metadata": {
        "id": "9yEEUaMDKEC_"
      },
      "execution_count": null,
      "outputs": []
    },
    {
      "cell_type": "code",
      "source": [
        "planets"
      ],
      "metadata": {
        "colab": {
          "base_uri": "https://localhost:8080/"
        },
        "id": "GPolxo9gKGDv",
        "outputId": "50a7f5e2-9a1b-406b-a28a-6cef4830c85e"
      },
      "execution_count": null,
      "outputs": [
        {
          "output_type": "execute_result",
          "data": {
            "text/plain": [
              "['Earth',\n",
              " 'Jupiter',\n",
              " 'Malacandra',\n",
              " 'Mercury',\n",
              " 'Neptune',\n",
              " 'Saturn',\n",
              " 'Uranus',\n",
              " 'Venus']"
            ]
          },
          "metadata": {},
          "execution_count": 31
        }
      ]
    },
    {
      "cell_type": "code",
      "source": [
        "primes = [2, 3, 5, 7]\n",
        "\n",
        "# Find the sum of the prime numbers\n",
        "sum(primes)"
      ],
      "metadata": {
        "id": "UCrLbtE4rRgN",
        "colab": {
          "base_uri": "https://localhost:8080/"
        },
        "outputId": "ad9e75c3-407f-4e12-b303-9d0a04055c6a"
      },
      "execution_count": null,
      "outputs": [
        {
          "output_type": "execute_result",
          "data": {
            "text/plain": [
              "17"
            ]
          },
          "metadata": {},
          "execution_count": 32
        }
      ]
    },
    {
      "cell_type": "code",
      "source": [
        "# Find the largest number\n",
        "max(primes)"
      ],
      "metadata": {
        "id": "8cY2hDMfrVWt",
        "colab": {
          "base_uri": "https://localhost:8080/"
        },
        "outputId": "fd188249-aae1-4539-dfbd-b0502d783fc3"
      },
      "execution_count": null,
      "outputs": [
        {
          "output_type": "execute_result",
          "data": {
            "text/plain": [
              "7"
            ]
          },
          "metadata": {},
          "execution_count": 33
        }
      ]
    },
    {
      "cell_type": "code",
      "source": [
        "# Add 'Pluto' to the list of planets.\n",
        "planets.append('Pluto')"
      ],
      "metadata": {
        "id": "NQTXZGX_rW6w"
      },
      "execution_count": null,
      "outputs": []
    },
    {
      "cell_type": "code",
      "source": [
        "primes"
      ],
      "metadata": {
        "colab": {
          "base_uri": "https://localhost:8080/"
        },
        "id": "e3oCA-6JKdPO",
        "outputId": "1fbdb5ff-3b95-4e3e-f162-649a3a554491"
      },
      "execution_count": null,
      "outputs": [
        {
          "output_type": "execute_result",
          "data": {
            "text/plain": [
              "[2, 3, 5, 7]"
            ]
          },
          "metadata": {},
          "execution_count": 35
        }
      ]
    },
    {
      "cell_type": "code",
      "source": [
        "planets"
      ],
      "metadata": {
        "colab": {
          "base_uri": "https://localhost:8080/"
        },
        "id": "eySAtGhTKhuq",
        "outputId": "09b3fc0e-8a04-41f2-85fb-a5c476f21c7f"
      },
      "execution_count": null,
      "outputs": [
        {
          "output_type": "execute_result",
          "data": {
            "text/plain": [
              "['Earth',\n",
              " 'Jupiter',\n",
              " 'Malacandra',\n",
              " 'Mercury',\n",
              " 'Neptune',\n",
              " 'Saturn',\n",
              " 'Uranus',\n",
              " 'Venus',\n",
              " 'Pluto']"
            ]
          },
          "metadata": {},
          "execution_count": 36
        }
      ]
    },
    {
      "cell_type": "code",
      "source": [
        "# Remove 'Pluto' from the list of planets.\n",
        "primes.pop()"
      ],
      "metadata": {
        "id": "d0wxPkQrrt4B",
        "colab": {
          "base_uri": "https://localhost:8080/"
        },
        "outputId": "2883fe03-6317-4174-afe6-baeb9fa89262"
      },
      "execution_count": null,
      "outputs": [
        {
          "output_type": "execute_result",
          "data": {
            "text/plain": [
              "7"
            ]
          },
          "metadata": {},
          "execution_count": 37
        }
      ]
    },
    {
      "cell_type": "code",
      "source": [
        "primes"
      ],
      "metadata": {
        "colab": {
          "base_uri": "https://localhost:8080/"
        },
        "id": "zA3eZ05gKo8N",
        "outputId": "b877423c-76bc-4638-e96c-8ae50973de9a"
      },
      "execution_count": null,
      "outputs": [
        {
          "output_type": "execute_result",
          "data": {
            "text/plain": [
              "[2, 3, 5]"
            ]
          },
          "metadata": {},
          "execution_count": 38
        }
      ]
    },
    {
      "cell_type": "code",
      "source": [
        "# Get the index of `Earth`\n",
        "planets.index('Earth')"
      ],
      "metadata": {
        "id": "-RitsrMSrx_8",
        "colab": {
          "base_uri": "https://localhost:8080/"
        },
        "outputId": "e8a034cc-e739-4bd6-c966-71e61b9c2b13"
      },
      "execution_count": null,
      "outputs": [
        {
          "output_type": "execute_result",
          "data": {
            "text/plain": [
              "0"
            ]
          },
          "metadata": {},
          "execution_count": 39
        }
      ]
    },
    {
      "cell_type": "code",
      "source": [
        "planets.append('Earth')\n",
        "planets.index('Earth')"
      ],
      "metadata": {
        "colab": {
          "base_uri": "https://localhost:8080/"
        },
        "id": "W69KUOiJK1ih",
        "outputId": "24dacfa2-afcb-4eb7-a7bb-e946f3f3cc7e"
      },
      "execution_count": null,
      "outputs": [
        {
          "output_type": "execute_result",
          "data": {
            "text/plain": [
              "0"
            ]
          },
          "metadata": {},
          "execution_count": 40
        }
      ]
    },
    {
      "cell_type": "code",
      "source": [
        "# planets.index(7)"
      ],
      "metadata": {
        "id": "z6TRRPS5K7gW"
      },
      "execution_count": null,
      "outputs": []
    },
    {
      "cell_type": "code",
      "source": [
        "# Is `Earth` a planet?\n",
        "'Earth' in planets"
      ],
      "metadata": {
        "id": "sZC1F13Zr3iu",
        "colab": {
          "base_uri": "https://localhost:8080/"
        },
        "outputId": "379dde91-f622-465c-c929-ded18f1b0a0b"
      },
      "execution_count": null,
      "outputs": [
        {
          "output_type": "execute_result",
          "data": {
            "text/plain": [
              "True"
            ]
          },
          "metadata": {},
          "execution_count": 42
        }
      ]
    },
    {
      "cell_type": "code",
      "source": [
        "# Is `Pluto` a planet?\n",
        "'Pluto' in planets"
      ],
      "metadata": {
        "id": "OtKKD9_hsO0N",
        "colab": {
          "base_uri": "https://localhost:8080/"
        },
        "outputId": "6fe5e8c6-a5cd-4e13-cccd-a8272fc97c25"
      },
      "execution_count": null,
      "outputs": [
        {
          "output_type": "execute_result",
          "data": {
            "text/plain": [
              "True"
            ]
          },
          "metadata": {},
          "execution_count": 43
        }
      ]
    },
    {
      "cell_type": "markdown",
      "source": [
        "## Tuples"
      ],
      "metadata": {
        "id": "FppBVDm4sX8O"
      }
    },
    {
      "cell_type": "code",
      "source": [
        "# Create a tuple from the numbers 1, 2 and 3\n",
        "t = (1, 2, 3)"
      ],
      "metadata": {
        "id": "SFJ5JkqxsZcx"
      },
      "execution_count": null,
      "outputs": []
    },
    {
      "cell_type": "code",
      "source": [
        "# t[0] = 100\n",
        "t"
      ],
      "metadata": {
        "id": "ZRmGMttDsiBz",
        "colab": {
          "base_uri": "https://localhost:8080/"
        },
        "outputId": "a224a47c-c887-4abd-885b-99f46d4e71fa"
      },
      "execution_count": null,
      "outputs": [
        {
          "output_type": "execute_result",
          "data": {
            "text/plain": [
              "(1, 2, 3)"
            ]
          },
          "metadata": {},
          "execution_count": 45
        }
      ]
    },
    {
      "cell_type": "markdown",
      "source": [
        "## Loops"
      ],
      "metadata": {
        "id": "f14RQNxxuMfW"
      }
    },
    {
      "cell_type": "code",
      "source": [
        "planets = ['Mercury', 'Venus', 'Earth', 'Mars', 'Jupiter', 'Saturn', 'Uranus', 'Neptune']\n",
        "# print all on 1 line\n",
        "for planet in planets:\n",
        "  print(planet, end=' ')"
      ],
      "metadata": {
        "id": "52IEiMZguNt-",
        "colab": {
          "base_uri": "https://localhost:8080/"
        },
        "outputId": "5afc4983-32d0-42a0-afc4-d8aad3c7ed02"
      },
      "execution_count": null,
      "outputs": [
        {
          "output_type": "stream",
          "name": "stdout",
          "text": [
            "Mercury Venus Earth Mars Jupiter Saturn Uranus Neptune "
          ]
        }
      ]
    },
    {
      "cell_type": "code",
      "source": [
        "s = 'steganograpHy is the practicE of conceaLing a file, message, image, or video within another fiLe, message, image, Or video.'\n",
        "# print all the uppercase letters in s again on 1 line\n",
        "for char in s:\n",
        "  if char.isupper():\n",
        "    print(char, end='')"
      ],
      "metadata": {
        "id": "cDIEhUfLuXxc",
        "colab": {
          "base_uri": "https://localhost:8080/"
        },
        "outputId": "6c0f4c49-8e3c-4594-a163-27fb98f91fef"
      },
      "execution_count": null,
      "outputs": [
        {
          "output_type": "stream",
          "name": "stdout",
          "text": [
            "HELLO"
          ]
        }
      ]
    },
    {
      "cell_type": "markdown",
      "source": [
        "**range()**\n",
        "\n",
        "`range()` is a function that returns a sequence of numbers. It turns out to be very useful for writing loops.\n",
        "\n",
        "For example, if we want to repeat some action 5 times."
      ],
      "metadata": {
        "id": "uJ7_pOUZumWu"
      }
    },
    {
      "cell_type": "code",
      "source": [
        "for i in range(5):  # yield\n",
        "  print(f'Doing important work. i={i}')"
      ],
      "metadata": {
        "colab": {
          "base_uri": "https://localhost:8080/"
        },
        "id": "WF8KL5V4uh7K",
        "outputId": "171f4141-5694-4b17-ad7a-57cd89690b54"
      },
      "execution_count": null,
      "outputs": [
        {
          "output_type": "stream",
          "name": "stdout",
          "text": [
            "Doing important work. i=0\n",
            "Doing important work. i=1\n",
            "Doing important work. i=2\n",
            "Doing important work. i=3\n",
            "Doing important work. i=4\n"
          ]
        }
      ]
    },
    {
      "cell_type": "code",
      "source": [
        "planets"
      ],
      "metadata": {
        "colab": {
          "base_uri": "https://localhost:8080/"
        },
        "id": "F0xajyY5McuY",
        "outputId": "03934279-f419-4844-a3b8-d0bb2a2e5d7b"
      },
      "execution_count": null,
      "outputs": [
        {
          "output_type": "execute_result",
          "data": {
            "text/plain": [
              "['Mercury', 'Venus', 'Earth', 'Mars', 'Jupiter', 'Saturn', 'Uranus', 'Neptune']"
            ]
          },
          "metadata": {},
          "execution_count": 49
        }
      ]
    },
    {
      "cell_type": "code",
      "source": [
        "for i in range(8):\n",
        "  print(f'The {i}th planet is {planets[i]}')"
      ],
      "metadata": {
        "colab": {
          "base_uri": "https://localhost:8080/"
        },
        "id": "l7EYrALgMjFd",
        "outputId": "9f5c73a3-f77f-4f9a-81b8-2d4facc9b751"
      },
      "execution_count": null,
      "outputs": [
        {
          "output_type": "stream",
          "name": "stdout",
          "text": [
            "The 0th planet is Mercury\n",
            "The 1th planet is Venus\n",
            "The 2th planet is Earth\n",
            "The 3th planet is Mars\n",
            "The 4th planet is Jupiter\n",
            "The 5th planet is Saturn\n",
            "The 6th planet is Uranus\n",
            "The 7th planet is Neptune\n"
          ]
        }
      ]
    },
    {
      "cell_type": "code",
      "source": [
        "# zip [0 ..] planets\n",
        "# [(0, 'Mercury')]"
      ],
      "metadata": {
        "id": "V4g8jPqZMsAO"
      },
      "execution_count": null,
      "outputs": []
    },
    {
      "cell_type": "code",
      "source": [
        "# How to get the following output?\n",
        "# The 0th planet is Mercury\n",
        "# The 1th planet is Venus\n",
        "# The 2th planet is Earth\n",
        "# The 3th planet is Mars\n",
        "# The 4th planet is Jupiter\n",
        "# The 5th planet is Saturn\n",
        "# The 6th planet is Uranus\n",
        "# The 7th planet is Neptune\n",
        "for idx, planet in enumerate(planets):\n",
        "  print(f'The {idx}th planet is {planet}')"
      ],
      "metadata": {
        "id": "WagER-OkvCKK",
        "colab": {
          "base_uri": "https://localhost:8080/"
        },
        "outputId": "bec7807e-8d93-48a6-b3a8-e4d279139203"
      },
      "execution_count": null,
      "outputs": [
        {
          "output_type": "stream",
          "name": "stdout",
          "text": [
            "The 0th planet is Mercury\n",
            "The 1th planet is Venus\n",
            "The 2th planet is Earth\n",
            "The 3th planet is Mars\n",
            "The 4th planet is Jupiter\n",
            "The 5th planet is Saturn\n",
            "The 6th planet is Uranus\n",
            "The 7th planet is Neptune\n"
          ]
        }
      ]
    },
    {
      "cell_type": "markdown",
      "source": [
        "**List comprehension**"
      ],
      "metadata": {
        "id": "m9lmfgZUvmuY"
      }
    },
    {
      "cell_type": "code",
      "source": [
        "s = 'steganograpHy is the practicE of conceaLing a file, message, image, or video within another fiLe, message, image, Or video.'"
      ],
      "metadata": {
        "id": "I2PoDH6svnd9"
      },
      "execution_count": null,
      "outputs": []
    },
    {
      "cell_type": "code",
      "source": [
        "# Resolve using LC\n",
        "''.join([ char for char in s if char.isupper() ])"
      ],
      "metadata": {
        "id": "a3l6Q7YPv8IK",
        "colab": {
          "base_uri": "https://localhost:8080/",
          "height": 35
        },
        "outputId": "2783f07e-d35e-40a3-b4fe-4df97b4d200b"
      },
      "execution_count": null,
      "outputs": [
        {
          "output_type": "execute_result",
          "data": {
            "application/vnd.google.colaboratory.intrinsic+json": {
              "type": "string"
            },
            "text/plain": [
              "'HELLO'"
            ]
          },
          "metadata": {},
          "execution_count": 54
        }
      ]
    },
    {
      "cell_type": "code",
      "source": [
        "# Resolve using generators (itertools)\n",
        "''.join(list(filter(lambda x: x.isupper(), s)))"
      ],
      "metadata": {
        "id": "ji8I7U-9vtQJ",
        "colab": {
          "base_uri": "https://localhost:8080/",
          "height": 35
        },
        "outputId": "41ed6f90-9c77-4683-8597-40a5ca3bbfee"
      },
      "execution_count": null,
      "outputs": [
        {
          "output_type": "execute_result",
          "data": {
            "application/vnd.google.colaboratory.intrinsic+json": {
              "type": "string"
            },
            "text/plain": [
              "'HELLO'"
            ]
          },
          "metadata": {},
          "execution_count": 55
        }
      ]
    },
    {
      "cell_type": "code",
      "source": [
        "# Resolve using higher order functions and partial function application\n",
        "''.join(list(filter(str.isupper, s)))"
      ],
      "metadata": {
        "id": "2RisJ83yv_ZL",
        "colab": {
          "base_uri": "https://localhost:8080/",
          "height": 35
        },
        "outputId": "6d9b1125-3854-40a0-f0ca-fe6178987dca"
      },
      "execution_count": null,
      "outputs": [
        {
          "output_type": "execute_result",
          "data": {
            "application/vnd.google.colaboratory.intrinsic+json": {
              "type": "string"
            },
            "text/plain": [
              "'HELLO'"
            ]
          },
          "metadata": {},
          "execution_count": 56
        }
      ]
    },
    {
      "cell_type": "code",
      "source": [
        "# Get the squares of the numbers [0 .. 9] using a for-loop\n",
        "squares = []\n",
        "for i in range(10):\n",
        "  squares.append(i * i)\n",
        "squares"
      ],
      "metadata": {
        "id": "tJdh7odrwsAA",
        "colab": {
          "base_uri": "https://localhost:8080/"
        },
        "outputId": "52847fe6-5d29-481d-b7ed-39b739b10f4f"
      },
      "execution_count": null,
      "outputs": [
        {
          "output_type": "execute_result",
          "data": {
            "text/plain": [
              "[0, 1, 4, 9, 16, 25, 36, 49, 64, 81]"
            ]
          },
          "metadata": {},
          "execution_count": 57
        }
      ]
    },
    {
      "cell_type": "code",
      "source": [
        "# Get the squares of the numbers [0 .. 9] using LC\n",
        "[ i * i for i in range(10) ]"
      ],
      "metadata": {
        "id": "FAoDwLwkwZ0t",
        "colab": {
          "base_uri": "https://localhost:8080/"
        },
        "outputId": "e714afdf-39ce-49ac-f881-de67cd1f4356"
      },
      "execution_count": null,
      "outputs": [
        {
          "output_type": "execute_result",
          "data": {
            "text/plain": [
              "[0, 1, 4, 9, 16, 25, 36, 49, 64, 81]"
            ]
          },
          "metadata": {},
          "execution_count": 58
        }
      ]
    },
    {
      "cell_type": "code",
      "source": [
        "# Get the names of all planets with less than 6 characters using LC\n",
        "x = [ planet for planet in planets if len(planet) < 6]\n",
        "x"
      ],
      "metadata": {
        "id": "dLLOcFpLw3hr",
        "colab": {
          "base_uri": "https://localhost:8080/"
        },
        "outputId": "69f12e93-0b6d-4ddd-fc66-9b5e57c1485c"
      },
      "execution_count": null,
      "outputs": [
        {
          "output_type": "execute_result",
          "data": {
            "text/plain": [
              "['Venus', 'Earth', 'Mars']"
            ]
          },
          "metadata": {},
          "execution_count": 59
        }
      ]
    },
    {
      "cell_type": "code",
      "source": [
        "# How to get the following ouput?\n",
        "# ['VENUS!', 'EARTH!', 'MARS!']\n",
        "[ f'{el.upper()}!' for el in x ]  "
      ],
      "metadata": {
        "id": "4g7FT7e5w_zJ",
        "colab": {
          "base_uri": "https://localhost:8080/"
        },
        "outputId": "3c1b8fbb-0781-4d59-bb4c-9364bb405ba9"
      },
      "execution_count": null,
      "outputs": [
        {
          "output_type": "execute_result",
          "data": {
            "text/plain": [
              "['VENUS!', 'EARTH!', 'MARS!']"
            ]
          },
          "metadata": {},
          "execution_count": 60
        }
      ]
    },
    {
      "cell_type": "code",
      "source": [
        "# The SQL analogy\n",
        "[\n",
        "  x\n",
        " for el in x\n",
        "  if len(x) < 6\n",
        "]"
      ],
      "metadata": {
        "id": "kiJpvxc7xJ87",
        "colab": {
          "base_uri": "https://localhost:8080/"
        },
        "outputId": "5edfb7c2-f661-49bc-bdaf-06704925a6d7"
      },
      "execution_count": null,
      "outputs": [
        {
          "output_type": "execute_result",
          "data": {
            "text/plain": [
              "[['Venus', 'Earth', 'Mars'],\n",
              " ['Venus', 'Earth', 'Mars'],\n",
              " ['Venus', 'Earth', 'Mars']]"
            ]
          },
          "metadata": {},
          "execution_count": 61
        }
      ]
    },
    {
      "cell_type": "code",
      "source": [
        "# Use for-loop\n",
        "def count_negatives(nums):\n",
        "    \"\"\"Return the number of negative numbers in the given list.\n",
        "    \n",
        "    >>> count_negatives([5, -1, -2, 0, 3])\n",
        "    2\n",
        "    \"\"\"\n",
        "    res = 0\n",
        "    \n",
        "    for n in nums:\n",
        "      if n < 0:\n",
        "        res += 1\n",
        "\n",
        "    return res\n",
        "\n",
        "count_negatives([5, -1, -2, 0, 3])"
      ],
      "metadata": {
        "id": "myQkabHSxY_S",
        "colab": {
          "base_uri": "https://localhost:8080/"
        },
        "outputId": "5c23cb60-736f-40e4-ab4a-239f8c0513b5"
      },
      "execution_count": null,
      "outputs": [
        {
          "output_type": "execute_result",
          "data": {
            "text/plain": [
              "2"
            ]
          },
          "metadata": {},
          "execution_count": 62
        }
      ]
    },
    {
      "cell_type": "code",
      "source": [
        "# Use LC\n",
        "def count_negatives(nums):\n",
        "  return len([n for n in nums if n < 0])"
      ],
      "metadata": {
        "id": "FREdqFX2xdLO"
      },
      "execution_count": null,
      "outputs": []
    },
    {
      "cell_type": "code",
      "source": [
        "# Use higher order functions\n",
        "def count_negatives(nums):\n",
        "  return len(list(filter(lambda x: x < 0, nums)))"
      ],
      "metadata": {
        "id": "X1u_lTS1xbQs"
      },
      "execution_count": null,
      "outputs": []
    },
    {
      "cell_type": "code",
      "source": [
        "# Use boolean implicit casting\n",
        "def count_negatives(nums):\n",
        "  return sum([ n < 0 for n in nums ] )"
      ],
      "metadata": {
        "id": "N-iUubOQyHIS"
      },
      "execution_count": null,
      "outputs": []
    },
    {
      "cell_type": "code",
      "source": [
        "count_negatives([5, -1, -2, 0, 3])"
      ],
      "metadata": {
        "colab": {
          "base_uri": "https://localhost:8080/"
        },
        "id": "SfbgD9kkP_ZI",
        "outputId": "c4d0d228-eccf-40f1-a3de-0cfd4c70668c"
      },
      "execution_count": null,
      "outputs": [
        {
          "output_type": "execute_result",
          "data": {
            "text/plain": [
              "2"
            ]
          },
          "metadata": {},
          "execution_count": 66
        }
      ]
    },
    {
      "cell_type": "markdown",
      "source": [
        "# For Home"
      ],
      "metadata": {
        "id": "F7qWW-A8V7MT"
      }
    },
    {
      "cell_type": "markdown",
      "source": [
        "## Strings"
      ],
      "metadata": {
        "id": "7dxIxDfCzIsA"
      }
    },
    {
      "cell_type": "code",
      "source": [
        "# can be defined using either single or double quotation\n",
        "x = 'Pluto is a planet'\n",
        "y = \"Pluto is a planet\"\n",
        "x == y"
      ],
      "metadata": {
        "colab": {
          "base_uri": "https://localhost:8080/"
        },
        "id": "QHmqaM0SzJdW",
        "outputId": "85871d0d-1dc3-4ea5-90b7-6bc80c1b26b0"
      },
      "execution_count": null,
      "outputs": [
        {
          "output_type": "execute_result",
          "data": {
            "text/plain": [
              "True"
            ]
          },
          "metadata": {},
          "execution_count": 67
        }
      ]
    },
    {
      "cell_type": "code",
      "source": [
        "# Double quotes are convenient if your string contains a single quote character (e.g. representing an apostrophe).\n",
        "# Similarly, it's easy to create a string that contains double-quotes if you wrap it in single quotes\n",
        "\n",
        "print(\"Pluto's a planet!\")\n",
        "print('My dog is named \"Pluto\"')"
      ],
      "metadata": {
        "colab": {
          "base_uri": "https://localhost:8080/"
        },
        "id": "9uBVZaAqzKeK",
        "outputId": "0e7300dc-7550-4dd8-d4b5-341fcb64dd01"
      },
      "execution_count": null,
      "outputs": [
        {
          "output_type": "stream",
          "name": "stdout",
          "text": [
            "Pluto's a planet!\n",
            "My dog is named \"Pluto\"\n"
          ]
        }
      ]
    },
    {
      "cell_type": "code",
      "source": [
        "# If we try to put a single quote character inside a single-quoted string, Python gets confused. Uncomment to see\n",
        "# 'Pluto's a planet!'"
      ],
      "metadata": {
        "id": "arQkRsHDzRQd"
      },
      "execution_count": null,
      "outputs": []
    },
    {
      "cell_type": "markdown",
      "source": [
        "Python's triple quote syntax for strings lets us include newlines\n",
        "literally (i.e. by just hitting `Enter` on our keyboard, rather than using\n",
        "the special `\\n` sequence). We've already seen this in the docstrings we\n",
        "use to document our functions, but we can use them anywhere\n",
        "we want to define a string."
      ],
      "metadata": {
        "id": "SVdTHV1wzYaz"
      }
    },
    {
      "cell_type": "code",
      "source": [
        "hello = \"hello\\nworld\"\n",
        "print(hello)\n",
        "\n",
        "triplequoted_hello = \"\"\"hello\n",
        "world\"\"\"\n",
        "print(triplequoted_hello)\n",
        "triplequoted_hello == hello"
      ],
      "metadata": {
        "colab": {
          "base_uri": "https://localhost:8080/"
        },
        "id": "rPMfMPOZzdXt",
        "outputId": "1ad784a3-0f59-4c53-e75b-01ffb7a62d11"
      },
      "execution_count": null,
      "outputs": [
        {
          "output_type": "stream",
          "name": "stdout",
          "text": [
            "hello\n",
            "world\n",
            "hello\n",
            "world\n"
          ]
        },
        {
          "output_type": "execute_result",
          "data": {
            "text/plain": [
              "True"
            ]
          },
          "metadata": {},
          "execution_count": 70
        }
      ]
    },
    {
      "cell_type": "code",
      "source": [
        "# Indexing\n",
        "planet = 'Pluto'\n",
        "planet[0]"
      ],
      "metadata": {
        "colab": {
          "base_uri": "https://localhost:8080/",
          "height": 35
        },
        "id": "G_vvZvC8zl53",
        "outputId": "2d6ea331-ef0c-44fa-e179-0a427fe7b24b"
      },
      "execution_count": null,
      "outputs": [
        {
          "output_type": "execute_result",
          "data": {
            "application/vnd.google.colaboratory.intrinsic+json": {
              "type": "string"
            },
            "text/plain": [
              "'P'"
            ]
          },
          "metadata": {},
          "execution_count": 71
        }
      ]
    },
    {
      "cell_type": "code",
      "source": [
        "# Slicing\n",
        "planet[-3:]"
      ],
      "metadata": {
        "colab": {
          "base_uri": "https://localhost:8080/",
          "height": 35
        },
        "id": "r-gh0KnfzoDX",
        "outputId": "e87d6511-51b7-4953-acd4-ba508eaa3e23"
      },
      "execution_count": null,
      "outputs": [
        {
          "output_type": "execute_result",
          "data": {
            "application/vnd.google.colaboratory.intrinsic+json": {
              "type": "string"
            },
            "text/plain": [
              "'uto'"
            ]
          },
          "metadata": {},
          "execution_count": 72
        }
      ]
    },
    {
      "cell_type": "markdown",
      "source": [
        "> **Common pitfall**: Strings differ from lists is that they are immutable. We can't modify them."
      ],
      "metadata": {
        "id": "ZT1SHfuJz9CI"
      }
    },
    {
      "cell_type": "code",
      "source": [
        "# planet[0] = 'B'\n",
        "# planet.append doesn't work either"
      ],
      "metadata": {
        "id": "hbj5SrTGz6rw"
      },
      "execution_count": null,
      "outputs": []
    },
    {
      "cell_type": "markdown",
      "source": [
        "**String methods**\n",
        "\n",
        "Like `list`, the type `str` has lots of very useful methods. See all of them [here](https://docs.python.org/3/library/stdtypes.html#string-methods)."
      ],
      "metadata": {
        "id": "KVBhaA860P9t"
      }
    },
    {
      "cell_type": "code",
      "source": [
        "claim = \"Pluto is a planet!\""
      ],
      "metadata": {
        "id": "q8JdROul0QYZ"
      },
      "execution_count": 8,
      "outputs": []
    },
    {
      "cell_type": "code",
      "source": [
        "# Convert the `claim` variable into all uppercase\n",
        "claim.upper()"
      ],
      "metadata": {
        "id": "TOfQrz3DX-v7",
        "colab": {
          "base_uri": "https://localhost:8080/",
          "height": 35
        },
        "outputId": "fceb1e85-8da3-4103-89b7-6a423d1397d2"
      },
      "execution_count": 6,
      "outputs": [
        {
          "output_type": "execute_result",
          "data": {
            "text/plain": [
              "'PLUTO IS A PLANET!'"
            ],
            "application/vnd.google.colaboratory.intrinsic+json": {
              "type": "string"
            }
          },
          "metadata": {},
          "execution_count": 6
        }
      ]
    },
    {
      "cell_type": "code",
      "source": [
        "# Convert the `claim` variable into all lowercase\n",
        "claim.lower()"
      ],
      "metadata": {
        "id": "jSVGu3Fo0s9R",
        "colab": {
          "base_uri": "https://localhost:8080/",
          "height": 35
        },
        "outputId": "692cf344-3d1e-450d-dda0-3afa6c3688c6"
      },
      "execution_count": 7,
      "outputs": [
        {
          "output_type": "execute_result",
          "data": {
            "text/plain": [
              "'pluto is a planet!'"
            ],
            "application/vnd.google.colaboratory.intrinsic+json": {
              "type": "string"
            }
          },
          "metadata": {},
          "execution_count": 7
        }
      ]
    },
    {
      "cell_type": "code",
      "source": [
        "# Searching for the first index of a substring\n",
        "claim.index('plan')"
      ],
      "metadata": {
        "colab": {
          "base_uri": "https://localhost:8080/"
        },
        "id": "V-NM_WJX0uA1",
        "outputId": "a9b3fb56-22bf-489d-81c2-e48beddb5d56"
      },
      "execution_count": null,
      "outputs": [
        {
          "output_type": "execute_result",
          "data": {
            "text/plain": [
              "11"
            ]
          },
          "metadata": {},
          "execution_count": 77
        }
      ]
    },
    {
      "cell_type": "code",
      "source": [
        "# Use a function that checks whether `claim` starts with the substring 'Pluto'\n",
        "claim.startswith('Pluto')"
      ],
      "metadata": {
        "id": "9Zu1cvLu0_yk",
        "colab": {
          "base_uri": "https://localhost:8080/"
        },
        "outputId": "aa6a8dfa-45ad-4325-c9b6-ee111e0d0e0b"
      },
      "execution_count": 19,
      "outputs": [
        {
          "output_type": "execute_result",
          "data": {
            "text/plain": [
              "True"
            ]
          },
          "metadata": {},
          "execution_count": 19
        }
      ]
    },
    {
      "cell_type": "code",
      "source": [
        "# Use a function that checks whether `claim` ends with the substring 'Test'\n",
        "claim.endswith('Test')"
      ],
      "metadata": {
        "id": "Wh7gJ20C1V4y",
        "colab": {
          "base_uri": "https://localhost:8080/"
        },
        "outputId": "acbc942d-b36b-4f26-bf8c-bf13516a13ba"
      },
      "execution_count": 33,
      "outputs": [
        {
          "output_type": "execute_result",
          "data": {
            "text/plain": [
              "False"
            ]
          },
          "metadata": {},
          "execution_count": 33
        }
      ]
    },
    {
      "cell_type": "markdown",
      "source": [
        "Going between strings and lists: `.split()` and `.join()`.\n",
        "\n",
        "`str.split()` turns a string into a list of smaller strings, breaking on whitespace by default. This is super useful for taking you from one big string to a list of words."
      ],
      "metadata": {
        "id": "WXL01CLe1ar5"
      }
    },
    {
      "cell_type": "code",
      "source": [
        "words = claim.split()\n",
        "words"
      ],
      "metadata": {
        "colab": {
          "base_uri": "https://localhost:8080/"
        },
        "id": "DMwODOn81XrW",
        "outputId": "194669a4-f560-4c2e-c797-84fb69e5dc34"
      },
      "execution_count": null,
      "outputs": [
        {
          "output_type": "execute_result",
          "data": {
            "text/plain": [
              "['Pluto', 'is', 'a', 'planet!']"
            ]
          },
          "metadata": {},
          "execution_count": 80
        }
      ]
    },
    {
      "cell_type": "code",
      "source": [
        "# Occasionally you'll want to split on something other than whitespace:\n",
        "datestr = '1956-01-31'\n",
        "year, month, day = datestr.split('-')\n",
        "year, month, day"
      ],
      "metadata": {
        "colab": {
          "base_uri": "https://localhost:8080/"
        },
        "id": "1_oqS6pp1klJ",
        "outputId": "e9269688-db9f-46fc-dcef-5ee996fc5605"
      },
      "execution_count": null,
      "outputs": [
        {
          "output_type": "execute_result",
          "data": {
            "text/plain": [
              "('1956', '01', '31')"
            ]
          },
          "metadata": {},
          "execution_count": 81
        }
      ]
    },
    {
      "cell_type": "markdown",
      "source": [
        "`str.join()` takes us in the other direction, sewing a list of strings up into one long string, using the string it was called on as a separator."
      ],
      "metadata": {
        "id": "Virn5IIh1oTI"
      }
    },
    {
      "cell_type": "code",
      "source": [
        "'/'.join([month, day, year])"
      ],
      "metadata": {
        "colab": {
          "base_uri": "https://localhost:8080/",
          "height": 35
        },
        "id": "UU3xAL1P1ny4",
        "outputId": "e6250dd3-f34b-479f-d633-a5e3bd80c499"
      },
      "execution_count": null,
      "outputs": [
        {
          "output_type": "execute_result",
          "data": {
            "application/vnd.google.colaboratory.intrinsic+json": {
              "type": "string"
            },
            "text/plain": [
              "'01/31/1956'"
            ]
          },
          "metadata": {},
          "execution_count": 82
        }
      ]
    },
    {
      "cell_type": "markdown",
      "source": [
        "## Dictionaries\n",
        "\n",
        "A data structure for mapping keys to values."
      ],
      "metadata": {
        "id": "-zo_tgRU1yV3"
      }
    },
    {
      "cell_type": "code",
      "source": [
        "numbers = {'one':1, 'two':2, 'three':3}\n",
        "numbers"
      ],
      "metadata": {
        "colab": {
          "base_uri": "https://localhost:8080/"
        },
        "id": "gS-D8VG010Ar",
        "outputId": "be142509-c093-485c-b8b7-e72fc7d9e46f"
      },
      "execution_count": 20,
      "outputs": [
        {
          "output_type": "execute_result",
          "data": {
            "text/plain": [
              "{'one': 1, 'three': 3, 'two': 2}"
            ]
          },
          "metadata": {},
          "execution_count": 20
        }
      ]
    },
    {
      "cell_type": "markdown",
      "source": [
        "In this case 'one', 'two', and 'three' are the keys, and 1, 2 and 3 are their corresponding values.\n",
        "\n",
        "Values are accessed via square bracket syntax similar to indexing into lists and strings."
      ],
      "metadata": {
        "id": "cBbL86TI15nl"
      }
    },
    {
      "cell_type": "code",
      "source": [
        "numbers.keys(), numbers.values()"
      ],
      "metadata": {
        "colab": {
          "base_uri": "https://localhost:8080/"
        },
        "id": "6ZAli13J16PX",
        "outputId": "0af34ea1-a739-43be-8cff-da2734fa3e53"
      },
      "execution_count": null,
      "outputs": [
        {
          "output_type": "execute_result",
          "data": {
            "text/plain": [
              "(dict_keys(['one', 'two', 'three']), dict_values([1, 2, 3]))"
            ]
          },
          "metadata": {},
          "execution_count": 84
        }
      ]
    },
    {
      "cell_type": "code",
      "source": [
        "numbers['one']"
      ],
      "metadata": {
        "colab": {
          "base_uri": "https://localhost:8080/"
        },
        "id": "gk6QxzzM19Lw",
        "outputId": "50122744-2788-4682-b5c9-e8fe3b275e0a"
      },
      "execution_count": null,
      "outputs": [
        {
          "output_type": "execute_result",
          "data": {
            "text/plain": [
              "1"
            ]
          },
          "metadata": {},
          "execution_count": 85
        }
      ]
    },
    {
      "cell_type": "code",
      "source": [
        "# We can use the same syntax to add another key, value pair\n",
        "numbers['eleven'] = 11\n",
        "numbers"
      ],
      "metadata": {
        "colab": {
          "base_uri": "https://localhost:8080/"
        },
        "id": "Z5Ct_ffB1-l4",
        "outputId": "b40c6b8a-9025-4b20-d9b5-ad6523d3e355"
      },
      "execution_count": null,
      "outputs": [
        {
          "output_type": "execute_result",
          "data": {
            "text/plain": [
              "{'eleven': 11, 'one': 1, 'three': 3, 'two': 2}"
            ]
          },
          "metadata": {},
          "execution_count": 86
        }
      ]
    },
    {
      "cell_type": "code",
      "source": [
        "# Or to change the value associated with an existing key\n",
        "numbers['one'] = 'Pluto'\n",
        "numbers"
      ],
      "metadata": {
        "colab": {
          "base_uri": "https://localhost:8080/"
        },
        "id": "x2gv-7Fc2B6P",
        "outputId": "5f1f86c0-88f5-4967-bc68-cf91ba6f9bd2"
      },
      "execution_count": 21,
      "outputs": [
        {
          "output_type": "execute_result",
          "data": {
            "text/plain": [
              "{'one': 'Pluto', 'three': 3, 'two': 2}"
            ]
          },
          "metadata": {},
          "execution_count": 21
        }
      ]
    },
    {
      "cell_type": "code",
      "source": [
        "# Dict comprehensions!\n",
        "planets = ['Mercury', 'Venus', 'Earth', 'Mars', 'Jupiter', 'Saturn', 'Uranus', 'Neptune']\n",
        "\n",
        "# Create a dictionary that maps every name to its first letter\n",
        "# Result should be:\n",
        "# {'Earth': 'E',\n",
        "#  'Jupiter': 'J',\n",
        "#  'Mars': 'M',\n",
        "#  'Mercury': 'M',\n",
        "#  'Neptune': 'N',\n",
        "#  'Saturn': 'S',\n",
        "#  'Uranus': 'U',\n",
        "#  'Venus': 'V'}\n",
        "\n",
        "planets_dict = {x: x[0] for x in planets}\n",
        "planets_dict"
      ],
      "metadata": {
        "id": "k3oN4s8p2E-3",
        "colab": {
          "base_uri": "https://localhost:8080/"
        },
        "outputId": "9bc71b40-b2a3-4d51-ad2c-04cbad31b658"
      },
      "execution_count": 26,
      "outputs": [
        {
          "output_type": "execute_result",
          "data": {
            "text/plain": [
              "{'Earth': 'E',\n",
              " 'Jupiter': 'J',\n",
              " 'Mars': 'M',\n",
              " 'Mercury': 'M',\n",
              " 'Neptune': 'N',\n",
              " 'Saturn': 'S',\n",
              " 'Uranus': 'U',\n",
              " 'Venus': 'V'}"
            ]
          },
          "metadata": {},
          "execution_count": 26
        }
      ]
    },
    {
      "cell_type": "code",
      "source": [
        "# Check if a value is in the dictionary. For example, check if Earth is a planet\n",
        "if 'Earth' in planets_dict.keys():\n",
        "  print(\"True\")\n",
        "else:\n",
        "  print(\"False\")"
      ],
      "metadata": {
        "id": "j9vvgSY_2KKm",
        "colab": {
          "base_uri": "https://localhost:8080/"
        },
        "outputId": "71d70e77-e37c-430a-e823-c0d035a32791"
      },
      "execution_count": 30,
      "outputs": [
        {
          "output_type": "stream",
          "name": "stdout",
          "text": [
            "True\n"
          ]
        }
      ]
    },
    {
      "cell_type": "code",
      "source": [
        "# A for loop over a dictionary will loop over its KEYS !!!\n",
        "for k in numbers:\n",
        "  print(f'{k} => {numbers[k]}')"
      ],
      "metadata": {
        "colab": {
          "base_uri": "https://localhost:8080/"
        },
        "id": "ykYwLt6T2UQ0",
        "outputId": "57c8e64f-52c9-4e36-fc34-2c2395feaf82"
      },
      "execution_count": null,
      "outputs": [
        {
          "output_type": "stream",
          "name": "stdout",
          "text": [
            "one => Pluto\n",
            "two => 2\n",
            "three => 3\n",
            "eleven => 11\n"
          ]
        }
      ]
    },
    {
      "cell_type": "code",
      "source": [
        "# Loop over the `numbers` dictionary so as to get both the key and value at each step.\n",
        "# Try to get the same output that is in the previous step\n",
        "for k in numbers:\n",
        "  print(f'{k} => {numbers[k]}')"
      ],
      "metadata": {
        "id": "Bj74lfTy2lcN",
        "colab": {
          "base_uri": "https://localhost:8080/"
        },
        "outputId": "da6bd43b-98ed-42fc-c8e2-1b43da859ecb"
      },
      "execution_count": 34,
      "outputs": [
        {
          "output_type": "stream",
          "name": "stdout",
          "text": [
            "one => Pluto\n",
            "two => 2\n",
            "three => 3\n"
          ]
        }
      ]
    },
    {
      "cell_type": "code",
      "source": [
        "# Get all the initials, sort them alphabetically, and put them in a space-separated string.\n",
        "# Result should be: 'E J M M N S U V'\n",
        "a = [x for x in planets_dict.values()]\n",
        "a.sort()\n",
        "' '.join(a)"
      ],
      "metadata": {
        "id": "TyHEIW6n2uIN",
        "colab": {
          "base_uri": "https://localhost:8080/",
          "height": 35
        },
        "outputId": "9faf9afe-ae7b-49c6-d3fb-8873ae795f5c"
      },
      "execution_count": 59,
      "outputs": [
        {
          "output_type": "execute_result",
          "data": {
            "text/plain": [
              "'E J M M N S U V'"
            ],
            "application/vnd.google.colaboratory.intrinsic+json": {
              "type": "string"
            }
          },
          "metadata": {},
          "execution_count": 59
        }
      ]
    }
  ]
}