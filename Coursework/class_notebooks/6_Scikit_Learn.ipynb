{
  "cells": [
    {
      "cell_type": "markdown",
      "metadata": {
        "id": "view-in-github",
        "colab_type": "text"
      },
      "source": [
        "<a href=\"https://colab.research.google.com/github/SimeonHristov99/ML_21-22/blob/main/introduction.ipynb\" target=\"_parent\"><img src=\"https://colab.research.google.com/assets/colab-badge.svg\" alt=\"Open In Colab\"/></a>"
      ]
    },
    {
      "cell_type": "markdown",
      "id": "a272d5b3-0771-4a8e-a1d4-47d568c50491",
      "metadata": {
        "id": "a272d5b3-0771-4a8e-a1d4-47d568c50491"
      },
      "source": [
        "# Hello, [scikit-learn](https://scikit-learn.org/stable/)! Linear Regression"
      ]
    },
    {
      "cell_type": "markdown",
      "id": "346d6e59-bd50-48c4-9189-e82286c66f6b",
      "metadata": {
        "id": "346d6e59-bd50-48c4-9189-e82286c66f6b"
      },
      "source": [
        "Accoding to the official website:\n",
        "\n",
        "Machine Learning in Python\n",
        "\n",
        "- Simple and efficient tools for predictive data analysis\n",
        "- Accessible to everybody, and reusable in various contexts\n",
        "- Built on NumPy, SciPy, and matplotlib\n",
        "- Open source, commercially usable - BSD license"
      ]
    },
    {
      "cell_type": "markdown",
      "id": "a07130b8-092c-4b1a-a002-a03f27aef09d",
      "metadata": {
        "id": "a07130b8-092c-4b1a-a002-a03f27aef09d"
      },
      "source": [
        "![scikit-learn algorithm map](https://scikit-learn.org/stable/_static/ml_map.png)"
      ]
    },
    {
      "cell_type": "markdown",
      "id": "e99ed487-5d9a-4396-8b0b-0860db1396b6",
      "metadata": {
        "id": "e99ed487-5d9a-4396-8b0b-0860db1396b6"
      },
      "source": [
        "## What did *$X$* and *$y$* mean?\n",
        "\n",
        "$X$ (note that it's upper-case) and $y$ (note that it's lower-case) are the input that is fed in our machine learning algorithm. $X$ is always a **matrix** (i.e. a table) of data in which each line is an observation or a **sample** and each column is a characteristic or a **feature** of the samples. $y$ is always a **vector** with the values our model has to learn to predict.\n",
        "\n",
        "| Възраст | Коли | Къща | Деца | Женен?   | Куче? | Диплома   | Купува лодка? |\n",
        "| ------- | ---- | ---- | ---- | -------- | ----- | --------- | :-----------: |\n",
        "| 66      | 1    | да   | 2    | вдовец   | не    | Отличен   |    **да**     |\n",
        "| 52      | 2    | не   | 3    | женен    | не    | Добър     |    **да**     |\n",
        "| 22      | 0    | не   | 0    | женен    | да    | Мн. добър |    **не**     |\n",
        "| 25      | 1    | не   | 1    | неженен  | не    | Добър     |    **не**     |\n",
        "| 44      | 0    | не   | 2    | разведен | не    | Среден    |    **не**     |\n",
        "| 39      | 1    | да   | 2    | женен    | да    | Мн. добър |    **не**     |\n",
        "| 26      | 1    | не   | 2    | неженен  | не    | Отличен   |    **не**     |\n",
        "| 40      | 3    | да   | 1    | женен    | да    | Добър     |    **не**     |\n",
        "| 53      | 2    | да   | 2    | разведен | не    | Отличен   |    **да**     |\n",
        "| 64      | 2    | да   | 3    | разведен | не    | Отличен   |    **да**     |\n",
        "| 58      | 2    | да   | 2    | женен    | да    | Добър     |    **да**     |\n",
        "| 33      | 1    | не   | 1    | неженен  | не    | Мн. добър |    **не**     |"
      ]
    },
    {
      "cell_type": "markdown",
      "id": "b4db1ba6-0d38-4c5c-8766-df0b9358b3f3",
      "metadata": {
        "id": "b4db1ba6-0d38-4c5c-8766-df0b9358b3f3"
      },
      "source": [
        "Let's answer the following questions:\n",
        "\n",
        "- Which columns make up $X$?\n",
        "- Which columns make up $y$?\n",
        "- Can $y$ be more than 1 column?\n",
        "- Is this dataset ready to be passed to our model?\n",
        "- How could we encode boolean data?\n",
        "- How could we encode nominal data?\n",
        "- How could we encode ordinal data?\n",
        "- Should we encode labels?\n",
        "- What is the difference between supervised an unsupervised learning?\n",
        "- What is the difference between regression and classification?"
      ]
    },
    {
      "cell_type": "markdown",
      "id": "af3f1eef-b0c5-4200-92b9-634cade7ba6a",
      "metadata": {
        "id": "af3f1eef-b0c5-4200-92b9-634cade7ba6a"
      },
      "source": [
        "When we're trying to answer questions such as \"Will these people buy a boat?\", we'll pass in the feature matrix $X$ and we'll expect to get a responce vector $\\hat{y}$. Each element in $\\hat{y}$ will contain an answer for the corresponding person. We denote $\\hat{y}$ instead of $y$ to convey that $\\hat{y}$ is an estimate for $y$."
      ]
    },
    {
      "cell_type": "markdown",
      "id": "d75ef3fd-4eb0-4382-95d4-39352e7a23ea",
      "metadata": {
        "id": "d75ef3fd-4eb0-4382-95d4-39352e7a23ea"
      },
      "source": [
        "## Imports and Constants"
      ]
    },
    {
      "cell_type": "code",
      "execution_count": 2,
      "id": "35260708-7a7c-4558-8545-af648a8d35c6",
      "metadata": {
        "id": "35260708-7a7c-4558-8545-af648a8d35c6"
      },
      "outputs": [],
      "source": [
        "import numpy as np\n",
        "import pandas as pd\n",
        "import matplotlib.pyplot as plt\n",
        "import seaborn as sns\n",
        "\n",
        "from sklearn.linear_model import LinearRegression\n",
        "from sklearn.linear_model import Ridge\n",
        "from sklearn.linear_model import Lasso"
      ]
    },
    {
      "cell_type": "code",
      "execution_count": 3,
      "id": "b5243741-e4a2-4a31-a42b-17c31ee98868",
      "metadata": {
        "id": "b5243741-e4a2-4a31-a42b-17c31ee98868"
      },
      "outputs": [],
      "source": [
        "FIG_SIZE = (12, 8)\n",
        "plt.rc('figure', figsize=FIG_SIZE)"
      ]
    },
    {
      "cell_type": "markdown",
      "id": "d3ae1bc4-f432-4fd0-90e8-f188a564e4a9",
      "metadata": {
        "id": "d3ae1bc4-f432-4fd0-90e8-f188a564e4a9"
      },
      "source": [
        "## Linear Regression\n",
        "\n",
        "Linear regression is a popular regression learning algorithm that learns a model which is **a linear combination of features** of the input example."
      ]
    },
    {
      "cell_type": "markdown",
      "id": "94ddaf60-1906-400c-9bb1-69a4420f8357",
      "metadata": {
        "id": "94ddaf60-1906-400c-9bb1-69a4420f8357"
      },
      "source": [
        "If X has only 1 feature the function looks like this:\n",
        "\n",
        "$$f(x) = b + wx$$\n",
        "\n",
        "If X had 3 features, the formula becomes:\n",
        "\n",
        "$$f(x_1 + x_2 + x_3) = b + w_1x_1 + w_2x_2 + w_3x_3$$\n",
        "\n",
        "In general the formula is:\n",
        "\n",
        "$$f(\\vec{X}) = b + w_1x_1 + w_2x_2 + w_3x_3 + \\ldots + w_nx_n$$\n",
        "\n",
        "Notice how we have a bias value ($b$) and a weight $w_i$ for each feature $x_i$. That means that our model $f$ is parametrized by **two** values: $\\vec{w}$ and $b$."
      ]
    },
    {
      "cell_type": "markdown",
      "id": "7ce7f033-1711-4687-b20a-844fccd914e1",
      "metadata": {
        "id": "7ce7f033-1711-4687-b20a-844fccd914e1"
      },
      "source": [
        "Two models parametrized by two different pairs ($\\vec{w}$, $b$) will likely produce two different predictions when applied to the same example. We want to find the optimal values ($\\vec{w}^*$ , $b^*$), i.e. those with which the model will make the most accurate predictions. From the picture we can see that it’s essential to have a requirement that **the regression hyperplane lies as close to the training examples as possible**: if the line was far from the dots, the predictions would have fewer chances to be correct."
      ]
    },
    {
      "cell_type": "markdown",
      "id": "b1c2534a-7764-41df-b2f3-8a720f75bf27",
      "metadata": {
        "id": "b1c2534a-7764-41df-b2f3-8a720f75bf27"
      },
      "source": [
        "To get this latter requirement satisfied, the optimization procedure which we use to find the optimal values for $\\vec{w}$ and $b$ tries to **minimize** the following expression:\n",
        "\n",
        "$$ Err(X) = \\frac{1}{n}\\sum_{k=1}^{n} \\big( y_k - f_{\\vec{w}, b}(x_k) \\big)^2 $$\n",
        "\n",
        "where:\n",
        "\n",
        "* $X$ is an ($n$, $t$) feature matrix we passed in\n",
        "    * $n$ is the number of samples\n",
        "    * $t$ is the number of features each sample has\n",
        "* $x_k \\in \\mathbb{R}^t$ is the $k$-th sample in $X$\n",
        "* $f(x_k)$ is what the model predicted for the $k$-th sample in $X$\n",
        "* $y_k$ is the actual value of the $k$-th sample in $X$\n",
        "* $f: \\mathbb{R}^t\\to\\mathbb{R}$ is a linear function in an $t$-dimensional space\n",
        "\n",
        "The goal of linear regression, therefore, is to **find values for $b$ and $\\vec{w}$ such that $Err(X)$ is minimal**."
      ]
    },
    {
      "cell_type": "markdown",
      "id": "752033e4-bf34-4c83-8753-f70ae72acfe7",
      "metadata": {
        "id": "752033e4-bf34-4c83-8753-f70ae72acfe7"
      },
      "source": [
        "Why is the loss in linear regression a quadratic function? Why couldn’t we get the absolute value of the difference between the true target and the predicted value? We could. Moreover, we also could use a cube instead of a square.\n",
        "\n",
        "One practical justification of the choice of the linear form for the model is that **it’s simple**. Why use a complex model when you can use a simple one? Another consideration is that **linear models rarely overfit**. **Overfitting** is the property of a model such that the model predicts very well labels of the examples used during training but frequently makes errors when applied to examples that weren’t seen by the learning algorithm during training."
      ]
    },
    {
      "cell_type": "code",
      "execution_count": 4,
      "id": "207a7a1c-5675-405d-b308-e7dcbe7f8a42",
      "metadata": {
        "colab": {
          "base_uri": "https://localhost:8080/"
        },
        "id": "207a7a1c-5675-405d-b308-e7dcbe7f8a42",
        "outputId": "0c814dc2-02b9-4947-d498-5ecc1cb72c67"
      },
      "outputs": [
        {
          "output_type": "execute_result",
          "data": {
            "text/plain": [
              "array([  0,  10,  20,  30,  40,  50,  60,  70,  80,  90, 100])"
            ]
          },
          "metadata": {},
          "execution_count": 4
        }
      ],
      "source": [
        "# Get evenly spaced numbers with a step of 10\n",
        "x = np.arange(0, 101, 10)\n",
        "x"
      ]
    },
    {
      "cell_type": "code",
      "execution_count": 5,
      "id": "9e087c89-19cf-4131-9445-3c4df28cef19",
      "metadata": {
        "colab": {
          "base_uri": "https://localhost:8080/"
        },
        "id": "9e087c89-19cf-4131-9445-3c4df28cef19",
        "outputId": "9225810b-1dbf-4f11-992e-79d4d090d2a1"
      },
      "outputs": [
        {
          "output_type": "execute_result",
          "data": {
            "text/plain": [
              "array([  3.38148734,  21.68294618,  39.4119578 ,  60.71888197,\n",
              "        87.42120866, 101.92354062, 118.07642399, 137.08854874,\n",
              "       151.52314867, 183.09924402, 207.70382963])"
            ]
          },
          "metadata": {},
          "execution_count": 5
        }
      ],
      "source": [
        "# Introduce noise\n",
        "y=np.random.normal(2*x+2,5)\n",
        "y"
      ]
    },
    {
      "cell_type": "code",
      "execution_count": 6,
      "id": "ee8c3ca9-f542-4de2-ac20-5a8af8bc0e96",
      "metadata": {
        "colab": {
          "base_uri": "https://localhost:8080/",
          "height": 513
        },
        "id": "ee8c3ca9-f542-4de2-ac20-5a8af8bc0e96",
        "outputId": "d6f0cd8d-1f64-490c-c0d0-e0f5819eabef"
      },
      "outputs": [
        {
          "output_type": "display_data",
          "data": {
            "text/plain": [
              "<Figure size 864x576 with 1 Axes>"
            ],
            "image/png": "[encoded data removed]"
          },
          "metadata": {
            "needs_background": "light"
          }
        }
      ],
      "source": [
        "plt.title('Sample Dataset With Noise')\n",
        "\n",
        "plt.xlabel('Videos released')\n",
        "plt.ylabel('YouTube Ad Revenue')\n",
        "\n",
        "plt.scatter(x, y)\n",
        "\n",
        "plt.show()"
      ]
    },
    {
      "cell_type": "code",
      "execution_count": 7,
      "id": "789f8bfa-df99-4eb1-8830-01392ab75fd6",
      "metadata": {
        "colab": {
          "base_uri": "https://localhost:8080/"
        },
        "id": "789f8bfa-df99-4eb1-8830-01392ab75fd6",
        "outputId": "c2d9b23a-0fb3-434b-ea2e-b7771060b354"
      },
      "outputs": [
        {
          "output_type": "execute_result",
          "data": {
            "text/plain": [
              "array([[1.        , 0.99756882],\n",
              "       [0.99756882, 1.        ]])"
            ]
          },
          "metadata": {},
          "execution_count": 7
        }
      ],
      "source": [
        "np.corrcoef(x, y)"
      ]
    },
    {
      "cell_type": "markdown",
      "id": "086e77c7-f70f-4f8a-882c-816060cc8b99",
      "metadata": {
        "id": "086e77c7-f70f-4f8a-882c-816060cc8b99"
      },
      "source": [
        "Good correlation ($>= 0.5$) means that we should be able to fit a line fairly confidently. And that is true because as we saw we used the function $f(x) = 2x + 2$ to create the $y$-axis."
      ]
    },
    {
      "cell_type": "code",
      "execution_count": 8,
      "id": "e0dfbc90-a50a-413f-947c-a0437eb08eda",
      "metadata": {
        "colab": {
          "base_uri": "https://localhost:8080/",
          "height": 513
        },
        "id": "e0dfbc90-a50a-413f-947c-a0437eb08eda",
        "outputId": "d9aa3612-0035-4343-e918-9a8059914994"
      },
      "outputs": [
        {
          "output_type": "display_data",
          "data": {
            "text/plain": [
              "<Figure size 864x576 with 1 Axes>"
            ],
            "image/png": "[encoded data removed]"
          },
          "metadata": {
            "needs_background": "light"
          }
        }
      ],
      "source": [
        "plt.title('Videos vs. Revenue')\n",
        "\n",
        "plt.xlabel('Videos released')\n",
        "plt.ylabel('YouTube Ad Revenue')\n",
        "\n",
        "plt.scatter(x, y)\n",
        "plt.scatter([95], [2*95 + 2], color='orange')\n",
        "\n",
        "plt.show()"
      ]
    },
    {
      "cell_type": "markdown",
      "id": "d017a100-2117-48f7-bf39-8c1a2ae0dd6b",
      "metadata": {
        "id": "d017a100-2117-48f7-bf39-8c1a2ae0dd6b"
      },
      "source": [
        "Let's use scikit-learn to find a linear function that minimizes the error."
      ]
    },
    {
      "cell_type": "code",
      "execution_count": 9,
      "id": "c0396e68-6a4f-4e7f-ba63-13c212916e4d",
      "metadata": {
        "colab": {
          "base_uri": "https://localhost:8080/"
        },
        "id": "c0396e68-6a4f-4e7f-ba63-13c212916e4d",
        "outputId": "35a446d1-38e9-4e7d-e4cb-06187b530e9e"
      },
      "outputs": [
        {
          "output_type": "execute_result",
          "data": {
            "text/plain": [
              "(11, 1)"
            ]
          },
          "metadata": {},
          "execution_count": 9
        }
      ],
      "source": [
        "x[..., np.newaxis].shape"
      ]
    },
    {
      "cell_type": "code",
      "execution_count": 10,
      "id": "61d9c78d-e6c4-4f69-b5fd-01206368a2bc",
      "metadata": {
        "id": "61d9c78d-e6c4-4f69-b5fd-01206368a2bc"
      },
      "outputs": [],
      "source": [
        "X = x[..., np.newaxis]"
      ]
    },
    {
      "cell_type": "code",
      "execution_count": 11,
      "id": "fa306e3c-3ebd-4ae3-9e02-33ea125a3663",
      "metadata": {
        "colab": {
          "base_uri": "https://localhost:8080/"
        },
        "id": "fa306e3c-3ebd-4ae3-9e02-33ea125a3663",
        "outputId": "2916bf6c-cfe8-4ef5-9596-1190afd46fa4"
      },
      "outputs": [
        {
          "output_type": "execute_result",
          "data": {
            "text/plain": [
              "LinearRegression()"
            ]
          },
          "metadata": {},
          "execution_count": 11
        }
      ],
      "source": [
        "model = LinearRegression()\n",
        "model.fit(X, y)"
      ]
    },
    {
      "cell_type": "code",
      "execution_count": 12,
      "id": "fce65ede-7ac6-4c8a-a042-8237d5c07b43",
      "metadata": {
        "colab": {
          "base_uri": "https://localhost:8080/"
        },
        "id": "fce65ede-7ac6-4c8a-a042-8237d5c07b43",
        "outputId": "4640e662-740e-413c-f92e-b69a866bd1c1"
      },
      "outputs": [
        {
          "output_type": "execute_result",
          "data": {
            "text/plain": [
              "(1.684427770656626, array([1.98818639]))"
            ]
          },
          "metadata": {},
          "execution_count": 12
        }
      ],
      "source": [
        "model.intercept_, model.coef_"
      ]
    },
    {
      "cell_type": "markdown",
      "id": "474b5293-6edb-49ab-8935-316b85ccb9ce",
      "metadata": {
        "id": "474b5293-6edb-49ab-8935-316b85ccb9ce"
      },
      "source": [
        "`.coef_` is an array holding values for $\\vec{w}$ and `intercept_` is the value for $b$. The function the model found is:\n",
        "\n",
        "$$y = 3.68 + 2x$$\n",
        "\n",
        "Let's see how it looks:"
      ]
    },
    {
      "cell_type": "code",
      "execution_count": 13,
      "id": "0080675b-1628-42c2-b26f-d4e557826d10",
      "metadata": {
        "colab": {
          "base_uri": "https://localhost:8080/",
          "height": 513
        },
        "id": "0080675b-1628-42c2-b26f-d4e557826d10",
        "outputId": "d9ee389d-af83-4045-a816-7e6e16253457"
      },
      "outputs": [
        {
          "output_type": "display_data",
          "data": {
            "text/plain": [
              "<Figure size 864x576 with 1 Axes>"
            ],
            "image/png": "[encoded data removed]"
          },
          "metadata": {
            "needs_background": "light"
          }
        }
      ],
      "source": [
        "interval = np.arange(0, 101, 10)\n",
        "result = interval * model.coef_[0] + model.intercept_\n",
        "\n",
        "plt.title('Videos vs. Revenue')\n",
        "\n",
        "plt.xlabel('Videos released')\n",
        "plt.ylabel('YouTube Ad Revenue')\n",
        "\n",
        "plt.scatter(X[:, 0], y)\n",
        "plt.plot(interval, result, color='orange')\n",
        "\n",
        "plt.show()"
      ]
    },
    {
      "cell_type": "markdown",
      "id": "26faeb05-4c4d-48d6-be87-26cdfb2ee266",
      "metadata": {
        "id": "26faeb05-4c4d-48d6-be87-26cdfb2ee266"
      },
      "source": [
        "Now we can make predictions."
      ]
    },
    {
      "cell_type": "code",
      "execution_count": 14,
      "id": "c765da95-9496-4a58-92ca-55a7bed5b540",
      "metadata": {
        "colab": {
          "base_uri": "https://localhost:8080/"
        },
        "id": "c765da95-9496-4a58-92ca-55a7bed5b540",
        "outputId": "97b53007-8ff2-47b3-a475-7b7515578925"
      },
      "outputs": [
        {
          "output_type": "execute_result",
          "data": {
            "text/plain": [
              "(array([190.56213441]), 192)"
            ]
          },
          "metadata": {},
          "execution_count": 14
        }
      ],
      "source": [
        "model.predict([[95]]), 2*95 + 2"
      ]
    },
    {
      "cell_type": "markdown",
      "id": "9d0fbd1d-685d-4470-8d50-04287f9c14aa",
      "metadata": {
        "id": "9d0fbd1d-685d-4470-8d50-04287f9c14aa"
      },
      "source": [
        "This is pretty close to the true value."
      ]
    },
    {
      "cell_type": "markdown",
      "id": "7c69cf48-08f3-4326-b369-f40d81467513",
      "metadata": {
        "id": "7c69cf48-08f3-4326-b369-f40d81467513"
      },
      "source": [
        "Because predict takes in a matrix, we can make predictions for multiple points."
      ]
    },
    {
      "cell_type": "code",
      "execution_count": 15,
      "id": "4cb88faa-c154-4f1a-961e-234d7d9666c4",
      "metadata": {
        "colab": {
          "base_uri": "https://localhost:8080/"
        },
        "id": "4cb88faa-c154-4f1a-961e-234d7d9666c4",
        "outputId": "067a6d8c-db65-46d3-c4c4-17e7721d5847"
      },
      "outputs": [
        {
          "output_type": "execute_result",
          "data": {
            "text/plain": [
              "array([180.62120248, 190.56213441, 200.50306634])"
            ]
          },
          "metadata": {},
          "execution_count": 15
        }
      ],
      "source": [
        "model.predict([[90], [95], [100]])"
      ]
    },
    {
      "cell_type": "markdown",
      "id": "f98a497c-e445-43fe-a6dc-ed7099a3b4fb",
      "metadata": {
        "id": "f98a497c-e445-43fe-a6dc-ed7099a3b4fb"
      },
      "source": [
        "## Generalization\n",
        "\n",
        "A metric that measures the ability of a model to correctly label unseen data."
      ]
    },
    {
      "cell_type": "markdown",
      "id": "041ccd3b-79ba-4ffc-874f-4bf9d7dd692d",
      "metadata": {
        "id": "041ccd3b-79ba-4ffc-874f-4bf9d7dd692d"
      },
      "source": [
        "scikit-learn has predifined functions that allow us to see how well out model performs"
      ]
    },
    {
      "cell_type": "code",
      "execution_count": 16,
      "id": "daafb7bd-d206-4f4b-a1ca-d3770e506c12",
      "metadata": {
        "colab": {
          "base_uri": "https://localhost:8080/"
        },
        "id": "daafb7bd-d206-4f4b-a1ca-d3770e506c12",
        "outputId": "05544a9e-2c07-4bdd-ada7-a9095a07566b"
      },
      "outputs": [
        {
          "output_type": "execute_result",
          "data": {
            "text/plain": [
              "0.9951435497018508"
            ]
          },
          "metadata": {},
          "execution_count": 16
        }
      ],
      "source": [
        "model.score(X, y)"
      ]
    },
    {
      "cell_type": "markdown",
      "id": "66681fcc-1fac-4e92-bc7d-c94cfd016752",
      "metadata": {
        "id": "66681fcc-1fac-4e92-bc7d-c94cfd016752"
      },
      "source": [
        "The result from the `.score` method is a real number in the range $(-\\infty, 1]$. The higher the better."
      ]
    },
    {
      "cell_type": "markdown",
      "id": "573f8236-a9d6-495d-9777-812a7f677534",
      "metadata": {
        "id": "573f8236-a9d6-495d-9777-812a7f677534"
      },
      "source": [
        "In classification this number would be in the range $[0, 1]$ and will correspond the percentage of correctly classified samples. For example, if $X$ were passengers and $y$ is whether they survived the Titanic sinking, a score of $0$ would indicate that the model made no correct predictions and a score of $1$ - only correct ones."
      ]
    },
    {
      "cell_type": "markdown",
      "id": "bd1b15b3-fb28-4b96-baba-a1de25ddb91a",
      "metadata": {
        "id": "bd1b15b3-fb28-4b96-baba-a1de25ddb91a"
      },
      "source": [
        "With regression scoring a model is a bit trickier. It should not be a big deal if the model predicts $\\$200,375$ for a house that is actually worth $\\$200,000$."
      ]
    },
    {
      "cell_type": "markdown",
      "id": "f8fc4612-e9a4-42b5-917f-4f98ffe57ea1",
      "metadata": {
        "id": "f8fc4612-e9a4-42b5-917f-4f98ffe57ea1"
      },
      "source": [
        "## The power of the log!\n",
        "\n",
        "a.k.a. how to apply linear regression on non-linear functions"
      ]
    },
    {
      "cell_type": "code",
      "execution_count": 17,
      "id": "0288031b-142f-464b-a700-b6ed7f8bcb4c",
      "metadata": {
        "colab": {
          "base_uri": "https://localhost:8080/",
          "height": 54
        },
        "id": "0288031b-142f-464b-a700-b6ed7f8bcb4c",
        "outputId": "c0ebefa1-c084-46d1-adf8-e4af4494a7e4"
      },
      "outputs": [
        {
          "output_type": "display_data",
          "data": {
            "text/plain": [
              "<Figure size 864x576 with 1 Axes>"
            ],
            "image/png": "[encoded data removed]"
          },
          "metadata": {
            "needs_background": "light"
          }
        }
      ],
      "source": [
        "exp_data = np.array([[0, 1], [1, 2],  [2, 4], [3, 8], [4, 16], [5, 32]])\n",
        "\n",
        "X, y = exp_data[:, 0:1], exp_data[:, 1]\n",
        "\n",
        "plt.scatter(X[:, 0], y)\n",
        "plt.show()"
      ]
    },
    {
      "cell_type": "code",
      "execution_count": 18,
      "id": "cd825ceb-b689-4dea-8239-e3a513feebd8",
      "metadata": {
        "colab": {
          "base_uri": "https://localhost:8080/",
          "height": 54
        },
        "id": "cd825ceb-b689-4dea-8239-e3a513feebd8",
        "outputId": "12fb7cc0-2251-4565-b650-b36fd4f0776c"
      },
      "outputs": [
        {
          "output_type": "display_data",
          "data": {
            "text/plain": [
              "<Figure size 864x576 with 1 Axes>"
            ],
            "image/png": "[encoded data removed]"
          },
          "metadata": {
            "needs_background": "light"
          }
        }
      ],
      "source": [
        "y_log = np.log(y)\n",
        "\n",
        "plt.scatter(X, y_log)\n",
        "plt.show()"
      ]
    },
    {
      "cell_type": "code",
      "execution_count": 19,
      "id": "55d00e67-859d-44e3-950f-d6d50ab17eac",
      "metadata": {
        "colab": {
          "base_uri": "https://localhost:8080/"
        },
        "id": "55d00e67-859d-44e3-950f-d6d50ab17eac",
        "outputId": "da2e82c4-9ff5-4490-b78b-c27bcb1864b3"
      },
      "outputs": [
        {
          "output_type": "execute_result",
          "data": {
            "text/plain": [
              "array([  256., 65536.])"
            ]
          },
          "metadata": {},
          "execution_count": 19
        }
      ],
      "source": [
        "model = LinearRegression()\n",
        "model.fit(X, y_log)\n",
        "\n",
        "prediction = model.predict([[8], [16]])\n",
        "np.exp(prediction)"
      ]
    },
    {
      "cell_type": "markdown",
      "id": "2ddbf5a7-d705-4633-a8f6-9846300dba77",
      "metadata": {
        "id": "2ddbf5a7-d705-4633-a8f6-9846300dba77"
      },
      "source": [
        "Note that we have to convert the predictions back to the log scale."
      ]
    },
    {
      "cell_type": "code",
      "execution_count": 20,
      "id": "68a08035-a8dc-4721-8837-8d5d7e951572",
      "metadata": {
        "colab": {
          "base_uri": "https://localhost:8080/",
          "height": 54
        },
        "id": "68a08035-a8dc-4721-8837-8d5d7e951572",
        "outputId": "478d0213-3469-4a43-8d09-a83b98882a6b"
      },
      "outputs": [
        {
          "output_type": "display_data",
          "data": {
            "text/plain": [
              "<Figure size 864x576 with 1 Axes>"
            ],
            "image/png": "[encoded data removed]"
          },
          "metadata": {
            "needs_background": "light"
          }
        }
      ],
      "source": [
        "interval = np.linspace(0, 5)\n",
        "result = np.exp(interval * model.coef_[0] + model.intercept_)\n",
        "\n",
        "plt.scatter(X[:, 0], y)\n",
        "plt.plot(interval, result)\n",
        "plt.show()"
      ]
    },
    {
      "cell_type": "markdown",
      "id": "871b376e-aa1d-4ff6-8500-84901d02df75",
      "metadata": {
        "id": "871b376e-aa1d-4ff6-8500-84901d02df75"
      },
      "source": [
        "## Overfitting and underfitting\n",
        "\n",
        "* Underfitting – high training and testing error\n",
        "* Overfitting – low training error but high testing error\n",
        "* Appropriate-fitting – testing error is close to training error\n",
        "\n",
        "![overfitting-vs-underfitting](https://external-content.duckduckgo.com/iu/?u=https%3A%2F%2Fcdn-images-1.medium.com%2Fmax%2F1600%2F1*JZbxrdzabrT33Yl-LrmShw.png&f=1&nofb=1)"
      ]
    },
    {
      "cell_type": "markdown",
      "id": "c91a92df-cd35-41f3-98b9-201e8eafa687",
      "metadata": {
        "id": "c91a92df-cd35-41f3-98b9-201e8eafa687"
      },
      "source": [
        "## Polynomial Regression\n",
        "\n",
        "This is an alternative way (to the log) to fit a model through the data."
      ]
    },
    {
      "cell_type": "code",
      "execution_count": 21,
      "id": "ae4f8af3-b0fa-4791-8928-2cf8c2df22f5",
      "metadata": {
        "colab": {
          "base_uri": "https://localhost:8080/"
        },
        "id": "ae4f8af3-b0fa-4791-8928-2cf8c2df22f5",
        "outputId": "ed6bb17e-eeb4-43d9-fdf0-50fee126466c"
      },
      "outputs": [
        {
          "output_type": "execute_result",
          "data": {
            "text/plain": [
              "array([[ 0.],\n",
              "       [ 2.],\n",
              "       [ 8.],\n",
              "       [ 9.],\n",
              "       [10.]])"
            ]
          },
          "metadata": {},
          "execution_count": 21
        }
      ],
      "source": [
        "linear_data = np.array([[0, 1], [2, 1.7], [8, 3], [9, 3.1], [10, 3.8]])\n",
        "X, y = linear_data[:, 0:1], linear_data[:, 1]\n",
        "X"
      ]
    },
    {
      "cell_type": "code",
      "execution_count": 22,
      "id": "2206d5b2-d849-495e-8a5a-b87867e22e62",
      "metadata": {
        "colab": {
          "base_uri": "https://localhost:8080/"
        },
        "id": "2206d5b2-d849-495e-8a5a-b87867e22e62",
        "outputId": "86df22ba-772d-4814-a3a7-096e4e144e2f"
      },
      "outputs": [
        {
          "output_type": "execute_result",
          "data": {
            "text/plain": [
              "array([1. , 1.7, 3. , 3.1, 3.8])"
            ]
          },
          "metadata": {},
          "execution_count": 22
        }
      ],
      "source": [
        "y"
      ]
    },
    {
      "cell_type": "code",
      "execution_count": 23,
      "id": "f18e83b2-852b-4d7b-bc66-33d76b346534",
      "metadata": {
        "colab": {
          "base_uri": "https://localhost:8080/",
          "height": 483
        },
        "id": "f18e83b2-852b-4d7b-bc66-33d76b346534",
        "outputId": "9addb66b-063a-44a4-c86b-61724d4b2042"
      },
      "outputs": [
        {
          "output_type": "display_data",
          "data": {
            "text/plain": [
              "<Figure size 864x576 with 1 Axes>"
            ],
            "image/png": "[encoded data removed]"
          },
          "metadata": {
            "needs_background": "light"
          }
        }
      ],
      "source": [
        "plt.scatter(X, y)\n",
        "plt.show()"
      ]
    },
    {
      "cell_type": "code",
      "execution_count": 24,
      "id": "e53d5701-c546-43eb-b055-ec78cbc4b680",
      "metadata": {
        "colab": {
          "base_uri": "https://localhost:8080/"
        },
        "id": "e53d5701-c546-43eb-b055-ec78cbc4b680",
        "outputId": "6900baab-4ac3-4a6c-c000-98844aaabebb"
      },
      "outputs": [
        {
          "output_type": "execute_result",
          "data": {
            "text/plain": [
              "array([[   0.,    0.,    0.],\n",
              "       [   2.,    4.,    8.],\n",
              "       [   8.,   64.,  512.],\n",
              "       [   9.,   81.,  729.],\n",
              "       [  10.,  100., 1000.]])"
            ]
          },
          "metadata": {},
          "execution_count": 24
        }
      ],
      "source": [
        "X_poly = np.concatenate((X, X**2, X**3), axis=1)\n",
        "X_poly"
      ]
    },
    {
      "cell_type": "code",
      "execution_count": 25,
      "id": "c6ffc87d-194c-4de9-8a56-5ff25b3a456b",
      "metadata": {
        "colab": {
          "base_uri": "https://localhost:8080/"
        },
        "id": "c6ffc87d-194c-4de9-8a56-5ff25b3a456b",
        "outputId": "53d0a119-b8f4-4309-c956-80dc04a977a2"
      },
      "outputs": [
        {
          "output_type": "execute_result",
          "data": {
            "text/plain": [
              "(0.9931658020945404, array([ 0.47903148, -0.06882004,  0.00483702]))"
            ]
          },
          "metadata": {},
          "execution_count": 25
        }
      ],
      "source": [
        "model = LinearRegression()\n",
        "model.fit(X_poly, y)\n",
        "model.intercept_, model.coef_"
      ]
    },
    {
      "cell_type": "markdown",
      "id": "c625e2f1-056d-40e8-a2bf-eff0e2ca6558",
      "metadata": {
        "id": "c625e2f1-056d-40e8-a2bf-eff0e2ca6558"
      },
      "source": [
        "So if we draw the second degree polynomial we get this."
      ]
    },
    {
      "cell_type": "code",
      "execution_count": 26,
      "id": "d56d1c03-1afd-4122-805b-ede1c21500ff",
      "metadata": {
        "colab": {
          "base_uri": "https://localhost:8080/",
          "height": 487
        },
        "id": "d56d1c03-1afd-4122-805b-ede1c21500ff",
        "outputId": "49b89acb-191d-40c4-95a8-9e2b57ce15c3"
      },
      "outputs": [
        {
          "output_type": "display_data",
          "data": {
            "text/plain": [
              "<Figure size 864x576 with 1 Axes>"
            ],
            "image/png": "[encoded data removed]"
          },
          "metadata": {
            "needs_background": "light"
          }
        }
      ],
      "source": [
        "interval = np.linspace(-2, 16, num=200)\n",
        "\n",
        "def create_poly(x):\n",
        "    return sum(a * x**(b+1) for (b, a) in enumerate(model.coef_)) + model.intercept_\n",
        "\n",
        "plt.scatter(X[:, 0], y)\n",
        "plt.plot(interval, create_poly(interval))\n",
        "plt.gca().set_xlim(-1, 12); plt.gca().set_ylim(0, 6)\n",
        "plt.show()"
      ]
    },
    {
      "cell_type": "markdown",
      "id": "6586c396-bb66-4367-b0bd-16298c0bb8c1",
      "metadata": {
        "id": "6586c396-bb66-4367-b0bd-16298c0bb8c1"
      },
      "source": [
        "Let's fit an 8-th degree polynomial to our synthetic data to see what overfitting it would look like."
      ]
    },
    {
      "cell_type": "code",
      "execution_count": 27,
      "id": "17435796-9de6-4ffe-9937-f734703b55d7",
      "metadata": {
        "colab": {
          "base_uri": "https://localhost:8080/",
          "height": 487
        },
        "id": "17435796-9de6-4ffe-9937-f734703b55d7",
        "outputId": "45b80e9a-1f7b-4152-81cb-439b8b4da095"
      },
      "outputs": [
        {
          "output_type": "display_data",
          "data": {
            "text/plain": [
              "<Figure size 864x576 with 1 Axes>"
            ],
            "image/png": "[encoded data removed]"
          },
          "metadata": {
            "needs_background": "light"
          }
        }
      ],
      "source": [
        "X_poly = np.concatenate((X, X**2, X**3, X**4, X**5, X**6, X**7, X**8), axis=1)\n",
        "\n",
        "model = LinearRegression()\n",
        "model.fit(X_poly, y)\n",
        "model.intercept_, model.coef_\n",
        "\n",
        "interval = np.linspace(-2, 16, num=200)\n",
        "\n",
        "def create_poly(x):\n",
        "    return sum(a * x**(b+1) for (b, a) in enumerate(model.coef_)) + model.intercept_\n",
        "\n",
        "plt.scatter(X[:, 0], y)\n",
        "plt.plot(interval, create_poly(interval))\n",
        "plt.gca().set_xlim(-1, 12); plt.gca().set_ylim(0, 6)\n",
        "plt.show()"
      ]
    },
    {
      "cell_type": "markdown",
      "id": "a118e1e7-5464-42d1-be42-165997fd2a0d",
      "metadata": {
        "id": "a118e1e7-5464-42d1-be42-165997fd2a0d"
      },
      "source": [
        "Here is the overfitting - we have found a very complex model that can predict the values for our training points perfectly, but will do very poorly on new data. Just think about what the model will predict for values between 2 and 8 and after 10 - they will not follow the rather linear relationship."
      ]
    },
    {
      "cell_type": "markdown",
      "id": "f5cdc351-4599-44d0-8a04-62658b106f65",
      "metadata": {
        "id": "f5cdc351-4599-44d0-8a04-62658b106f65"
      },
      "source": [
        "There are several ways to deal with missing values:\n",
        "\n",
        "* Add more data.\n",
        "* Regularization.\n",
        "\n",
        "We'll show the latter."
      ]
    },
    {
      "cell_type": "markdown",
      "id": "6560544c-d807-4214-acdc-3a4d417ce328",
      "metadata": {
        "id": "6560544c-d807-4214-acdc-3a4d417ce328"
      },
      "source": [
        "Regularization is an algorithm that inflates the error function by adding more elements to the sum. The result is a less complex model."
      ]
    },
    {
      "cell_type": "markdown",
      "id": "28d8cb63-0270-43d9-822c-cfe1d68fbf57",
      "metadata": {
        "id": "28d8cb63-0270-43d9-822c-cfe1d68fbf57"
      },
      "source": [
        "In the case of linear regression there are two types of regularization algorithms that aim to reduce the size of the coefficients / weights:\n",
        "\n",
        "* Ridge\n",
        "* Lasso"
      ]
    },
    {
      "cell_type": "markdown",
      "id": "4737e755-f254-4323-81a0-fe050525cc8d",
      "metadata": {
        "id": "4737e755-f254-4323-81a0-fe050525cc8d"
      },
      "source": [
        "The error function for the **ridge regression** is as follows:\n",
        "\n",
        "\\begin{equation*} Err(X) = \\sum_{i=1}^n (y_i - \\sum_{j=1}^p x_{ij}\\beta_j)^2 + \\lambda \\sum_{j=1}^p \\beta_j^2 \\end{equation*}\n",
        "\n",
        "Notice:\n",
        "\n",
        "* have the weights squared in the second sum. That means that models with larger weights will be considered worse, because they'll generate a larger error. Another name for the second sum is **L2 norm**. It comes from the way it is calculated - each coordinate of the vector is squared and all of them are added up.\n",
        "* there is a new parameter $\\lambda$ which is the coefficient of strictness, i.e. the larger it is, the more you'll punish models."
      ]
    },
    {
      "cell_type": "code",
      "execution_count": 28,
      "id": "bd804095-0794-4537-af89-10d38e06d67e",
      "metadata": {
        "id": "bd804095-0794-4537-af89-10d38e06d67e"
      },
      "outputs": [],
      "source": [
        "def draw_regularization(algorithm, alpha=1):\n",
        "    model = algorithm(alpha=alpha, max_iter=100000)\n",
        "    model.fit(X_poly, y)\n",
        "    \n",
        "    interval = np.linspace(-2, 16, num=200)\n",
        "\n",
        "    def polynomial(x):\n",
        "        return sum(a * x**(b+1) for (b, a) in enumerate(model.coef_)) + model.intercept_\n",
        "\n",
        "    plt.scatter(X[:, 0], y)\n",
        "    plt.plot(interval, polynomial(interval))\n",
        "    plt.gca().set_xlim(-1, 20)\n",
        "    plt.gca().set_ylim(0, 10)"
      ]
    },
    {
      "cell_type": "markdown",
      "id": "60a786cb-0925-45d4-99ec-3e8f7407d118",
      "metadata": {
        "id": "60a786cb-0925-45d4-99ec-3e8f7407d118"
      },
      "source": [
        "Watch now how regularization can help us control the weights of the overfit model."
      ]
    },
    {
      "cell_type": "code",
      "execution_count": 29,
      "id": "02ad82e1-2dd8-4bd2-9ee1-cdde4e88fdb0",
      "metadata": {
        "colab": {
          "base_uri": "https://localhost:8080/",
          "height": 483
        },
        "id": "02ad82e1-2dd8-4bd2-9ee1-cdde4e88fdb0",
        "outputId": "cb419051-4379-4c00-e4a7-ade59362dc97"
      },
      "outputs": [
        {
          "output_type": "display_data",
          "data": {
            "text/plain": [
              "<Figure size 864x576 with 1 Axes>"
            ],
            "image/png": "[encoded data removed]"
          },
          "metadata": {
            "needs_background": "light"
          }
        }
      ],
      "source": [
        "linear_data = np.array([[0, 1], [2, 1.7], [8, 3], [9, 3.1], [10, 3.8], [11, 4.3], [12, 4.7], [13, 3.7], [14, 5.2], [15, 6]])\n",
        "X, y = linear_data[:, 0:1], linear_data[:, 1]\n",
        "X_poly = np.concatenate((X, X**2, X**3, X**4, X**5, X**6, X**7, X**8), axis=1)\n",
        "plt.scatter(X, y)\n",
        "plt.show()"
      ]
    },
    {
      "cell_type": "code",
      "execution_count": 30,
      "id": "60686e5b-ea2f-4619-9e83-570f9de1bbab",
      "metadata": {
        "colab": {
          "base_uri": "https://localhost:8080/",
          "height": 522
        },
        "id": "60686e5b-ea2f-4619-9e83-570f9de1bbab",
        "outputId": "54cb59dd-e90d-4fd4-eb0d-8215571f772c"
      },
      "outputs": [
        {
          "output_type": "stream",
          "name": "stderr",
          "text": [
            "/usr/local/lib/python3.7/dist-packages/sklearn/linear_model/_ridge.py:157: LinAlgWarning: Ill-conditioned matrix (rcond=2.48596e-25): result may not be accurate.\n",
            "  return linalg.solve(A, Xy, sym_pos=True, overwrite_a=True).T\n"
          ]
        },
        {
          "output_type": "display_data",
          "data": {
            "text/plain": [
              "<Figure size 864x576 with 1 Axes>"
            ],
            "image/png": "[encoded data removed]"
          },
          "metadata": {
            "needs_background": "light"
          }
        }
      ],
      "source": [
        "draw_regularization(Ridge, alpha=0)"
      ]
    },
    {
      "cell_type": "code",
      "execution_count": 31,
      "id": "b14d3324-c375-488d-a43e-625423217051",
      "metadata": {
        "colab": {
          "base_uri": "https://localhost:8080/",
          "height": 487
        },
        "id": "b14d3324-c375-488d-a43e-625423217051",
        "outputId": "fc6d7c83-157d-4ab3-cab7-a70f1b262f1e"
      },
      "outputs": [
        {
          "output_type": "display_data",
          "data": {
            "text/plain": [
              "<Figure size 864x576 with 1 Axes>"
            ],
            "image/png": "[encoded data removed]"
          },
          "metadata": {
            "needs_background": "light"
          }
        }
      ],
      "source": [
        "draw_regularization(Ridge, alpha=10000)"
      ]
    },
    {
      "cell_type": "markdown",
      "id": "c96d46b5-ff73-44aa-a3e2-0b309d679c87",
      "metadata": {
        "id": "c96d46b5-ff73-44aa-a3e2-0b309d679c87"
      },
      "source": [
        "The error function for the **lasso regression** is as follows:\n",
        "\n",
        "\\begin{equation*} Err(X) = \\sum_{i=1}^n (y_i - \\sum_{j=1}^p x_{ij}\\beta_j)^2 + \\lambda \\sum_{j=1}^p|\\beta_j| \\end{equation*}\n",
        "\n",
        "Notice:\n",
        "\n",
        "* the weights are no longer squared. This is known as **L1 norm**.\n",
        "* the benefit from lasso is that coefficients can become 0, i.e. the feature can be disregarded. This cannot be achieved with Ridge."
      ]
    },
    {
      "cell_type": "code",
      "execution_count": 32,
      "id": "00acade6-7f06-4950-89b5-71c36316889b",
      "metadata": {
        "colab": {
          "base_uri": "https://localhost:8080/",
          "height": 542
        },
        "id": "00acade6-7f06-4950-89b5-71c36316889b",
        "outputId": "6153ff59-8d58-44d9-d0ea-3e69078caf2e"
      },
      "outputs": [
        {
          "output_type": "stream",
          "name": "stderr",
          "text": [
            "/usr/local/lib/python3.7/dist-packages/sklearn/linear_model/_coordinate_descent.py:648: ConvergenceWarning: Objective did not converge. You might want to increase the number of iterations, check the scale of the features or consider increasing regularisation. Duality gap: 6.116e-01, tolerance: 2.103e-03\n",
            "  coef_, l1_reg, l2_reg, X, y, max_iter, tol, rng, random, positive\n"
          ]
        },
        {
          "output_type": "display_data",
          "data": {
            "text/plain": [
              "<Figure size 864x576 with 1 Axes>"
            ],
            "image/png": "[encoded data removed]"
          },
          "metadata": {
            "needs_background": "light"
          }
        }
      ],
      "source": [
        "draw_regularization(Lasso, alpha=1)"
      ]
    },
    {
      "cell_type": "code",
      "execution_count": 33,
      "id": "08f1e7de-5ed1-4ce5-8bf7-5fdc73a47166",
      "metadata": {
        "colab": {
          "base_uri": "https://localhost:8080/",
          "height": 542
        },
        "id": "08f1e7de-5ed1-4ce5-8bf7-5fdc73a47166",
        "outputId": "8cca0d0d-83c9-4fc9-ca4f-e9e9f12587ab"
      },
      "outputs": [
        {
          "output_type": "stream",
          "name": "stderr",
          "text": [
            "/usr/local/lib/python3.7/dist-packages/sklearn/linear_model/_coordinate_descent.py:648: ConvergenceWarning: Objective did not converge. You might want to increase the number of iterations, check the scale of the features or consider increasing regularisation. Duality gap: 3.404e-01, tolerance: 2.103e-03\n",
            "  coef_, l1_reg, l2_reg, X, y, max_iter, tol, rng, random, positive\n"
          ]
        },
        {
          "output_type": "display_data",
          "data": {
            "text/plain": [
              "<Figure size 864x576 with 1 Axes>"
            ],
            "image/png": "[encoded data removed]"
          },
          "metadata": {
            "needs_background": "light"
          }
        }
      ],
      "source": [
        "draw_regularization(Lasso, alpha=10000)"
      ]
    }
  ],
  "metadata": {
    "kernelspec": {
      "display_name": "Python 3",
      "language": "python",
      "name": "python3"
    },
    "language_info": {
      "codemirror_mode": {
        "name": "ipython",
        "version": 3
      },
      "file_extension": ".py",
      "mimetype": "text/x-python",
      "name": "python",
      "nbconvert_exporter": "python",
      "pygments_lexer": "ipython3",
      "version": "3.8.10"
    },
    "colab": {
      "name": "introduction.ipynb",
      "provenance": [],
      "include_colab_link": true
    }
  },
  "nbformat": 4,
  "nbformat_minor": 5
}