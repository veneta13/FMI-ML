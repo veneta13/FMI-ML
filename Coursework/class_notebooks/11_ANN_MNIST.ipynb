{
  "nbformat": 4,
  "nbformat_minor": 0,
  "metadata": {
    "colab": {
      "name": "w11_mnist.ipynb",
      "provenance": [],
      "collapsed_sections": [],
      "toc_visible": true,
      "authorship_tag": "ABX9TyPn1smloLvYAnaa9dV9qQkZ",
      "include_colab_link": true
    },
    "kernelspec": {
      "name": "python3",
      "display_name": "Python 3"
    },
    "language_info": {
      "name": "python"
    },
    "accelerator": "GPU"
  },
  "cells": [
    {
      "cell_type": "markdown",
      "metadata": {
        "id": "view-in-github",
        "colab_type": "text"
      },
      "source": [
        "<a href=\"https://colab.research.google.com/github/SimeonHristov99/ML_21-22/blob/main/ann_mnist.ipynb\" target=\"_parent\"><img src=\"https://colab.research.google.com/assets/colab-badge.svg\" alt=\"Open In Colab\"/></a>"
      ]
    },
    {
      "cell_type": "markdown",
      "source": [
        "# MNIST Digit Classification Challenge\n",
        "- Goal: Classify handwritten digits\n",
        "- Type: Multiclass classification"
      ],
      "metadata": {
        "id": "MNH3ih4-an_j"
      }
    },
    {
      "cell_type": "markdown",
      "source": [
        "## Imports and Constants"
      ],
      "metadata": {
        "id": "H2ImpEUVa9QC"
      }
    },
    {
      "cell_type": "code",
      "source": [
        "import numpy as np\n",
        "import pandas as pd\n",
        "import matplotlib.pyplot as plt\n",
        "import seaborn as sns\n",
        "import tensorflow as tf\n",
        "\n",
        "from tensorflow.keras.datasets.mnist import load_data\n",
        "\n",
        "from tensorflow.keras.layers import Dense, Input\n",
        "\n",
        "from tensorflow.keras.losses import SparseCategoricalCrossentropy\n",
        "from tensorflow.keras.optimizers import Adam"
      ],
      "metadata": {
        "id": "zGK0Uv53auq5"
      },
      "execution_count": null,
      "outputs": []
    },
    {
      "cell_type": "code",
      "source": [
        "FIGSIZE = (12, 10)\n",
        "\n",
        "plt.rc('figure', figsize=FIGSIZE)\n",
        "sns.set_style('whitegrid')"
      ],
      "metadata": {
        "id": "fWDkhWzZJsOD"
      },
      "execution_count": null,
      "outputs": []
    },
    {
      "cell_type": "markdown",
      "source": [
        "## Get the data"
      ],
      "metadata": {
        "id": "4dn047XXb51s"
      }
    },
    {
      "cell_type": "code",
      "source": [
        "(X_train, y_train), (X_test, y_test) = load_data()\n",
        "\n",
        "assert X_train.shape == (60000, 28, 28)\n",
        "assert X_test.shape == (10000, 28, 28)\n",
        "assert y_train.shape == (60000,)\n",
        "assert y_test.shape == (10000,)"
      ],
      "metadata": {
        "id": "DdGHsJaqb6pV"
      },
      "execution_count": null,
      "outputs": []
    },
    {
      "cell_type": "code",
      "source": [
        "X_train"
      ],
      "metadata": {
        "id": "akAyT5vmb80N"
      },
      "execution_count": null,
      "outputs": []
    },
    {
      "cell_type": "markdown",
      "source": [
        "## Exploratory Data Analysis"
      ],
      "metadata": {
        "id": "LO3RS1Vba_Yp"
      }
    },
    {
      "cell_type": "code",
      "source": [
        "pd.Series(y_train).value_counts()"
      ],
      "metadata": {
        "id": "Zqi7dMmft_ch"
      },
      "execution_count": null,
      "outputs": []
    },
    {
      "cell_type": "code",
      "source": [
        "plt.imshow(X_train[0], cmap='gray')\n",
        "plt.axis('off')\n",
        "plt.show()"
      ],
      "metadata": {
        "id": "8v9Mxs99bDpL"
      },
      "execution_count": null,
      "outputs": []
    },
    {
      "cell_type": "code",
      "source": [
        "def plot_random(n):\n",
        "  indices = np.random.choice(X_train.shape[0], n, replace=False)\n",
        "\n",
        "  for i in indices:\n",
        "    plt.title(y_train[i])\n",
        "    plt.imshow(X_train[i], cmap='gray')\n",
        "    plt.axis('off')\n",
        "    plt.show()\n",
        "\n",
        "plot_random(5)"
      ],
      "metadata": {
        "id": "vdvRvRrbctKI"
      },
      "execution_count": null,
      "outputs": []
    },
    {
      "cell_type": "markdown",
      "source": [
        "## Preprocessing"
      ],
      "metadata": {
        "id": "WlsgSLWNbD2C"
      }
    },
    {
      "cell_type": "code",
      "source": [
        "def preprocess_inputs(data):\n",
        "  # since we want to pass a whole image to a NN\n",
        "  # that image must be one vector, not a matrix\n",
        "  data = data.reshape(-1, 28 * 28)\n",
        "\n",
        "  # Scale values to be between 0 and 1\n",
        "  data = data.astype(float) / 255.0\n",
        "\n",
        "  return data"
      ],
      "metadata": {
        "id": "P6DUuw68bFVg"
      },
      "execution_count": null,
      "outputs": []
    },
    {
      "cell_type": "code",
      "source": [
        "X_train = preprocess_inputs(X_train)\n",
        "X_test = preprocess_inputs(X_test)"
      ],
      "metadata": {
        "id": "bDsOoBbkreB9"
      },
      "execution_count": null,
      "outputs": []
    },
    {
      "cell_type": "code",
      "source": [
        "X_train.shape, X_test.shape"
      ],
      "metadata": {
        "id": "FkSo4R2WrhDM"
      },
      "execution_count": null,
      "outputs": []
    },
    {
      "cell_type": "markdown",
      "source": [
        "## Model building (using the [Sequential API](https://www.tensorflow.org/guide/keras/sequential_model))"
      ],
      "metadata": {
        "id": "jnK9NjYLbFjh"
      }
    },
    {
      "cell_type": "code",
      "source": [
        "model = tf.keras.Sequential([\n",
        "    Input(X_train.shape[1]),\n",
        "    Dense(512, activation='relu'),\n",
        "    Dense(256, activation='relu'),\n",
        "    Dense(10)\n",
        "])\n",
        "\n",
        "# Another way of doing the same\n",
        "# model = tf.keras.Sequential()\n",
        "# model.add(Input(X_train.shape[1]))\n",
        "# model.add(Dense(512, activation='relu'))\n",
        "# model.add(Dense(256, activation='relu'))\n",
        "# model.add(Dense(10))\n",
        "\n",
        "model.summary()"
      ],
      "metadata": {
        "id": "1t0heLsubKtp"
      },
      "execution_count": null,
      "outputs": []
    },
    {
      "cell_type": "code",
      "source": [
        "model.compile(\n",
        "    loss=SparseCategoricalCrossentropy(from_logits=True),\n",
        "    optimizer=Adam(),\n",
        "    metrics=['accuracy']\n",
        ")\n",
        "\n",
        "history = model.fit(\n",
        "    X_train,\n",
        "    y_train,\n",
        "    epochs=5,\n",
        "    validation_split=0.30,\n",
        "    batch_size=32,\n",
        "    verbose=2\n",
        ")"
      ],
      "metadata": {
        "id": "LNlQac2uwFS4"
      },
      "execution_count": null,
      "outputs": []
    },
    {
      "cell_type": "markdown",
      "source": [
        "### Introducing the validation split! From now on tune hyperparameters only on the validation set. Use the training set only when you achieve maximum validation accuracy!"
      ],
      "metadata": {
        "id": "ZzLNGAfTI8OI"
      }
    },
    {
      "cell_type": "code",
      "source": [
        "loss, acc = model.evaluate(\n",
        "    X_test,\n",
        "    y_test,\n",
        "    batch_size=32,\n",
        "    verbose=2\n",
        ")"
      ],
      "metadata": {
        "id": "gdybFLL8s0Xn"
      },
      "execution_count": null,
      "outputs": []
    },
    {
      "cell_type": "code",
      "source": [
        "loss"
      ],
      "metadata": {
        "id": "Ci-cW5NCJL06"
      },
      "execution_count": null,
      "outputs": []
    },
    {
      "cell_type": "code",
      "source": [
        "acc"
      ],
      "metadata": {
        "id": "XuOep2hVJNTp"
      },
      "execution_count": null,
      "outputs": []
    },
    {
      "cell_type": "markdown",
      "source": [
        "### But what are logits?"
      ],
      "metadata": {
        "id": "HocX-3hMGbLs"
      }
    },
    {
      "cell_type": "code",
      "source": [
        "logits = model(X_train[0].reshape(1, -1))[0]\n",
        "logits"
      ],
      "metadata": {
        "id": "QQz6adkgEsw-"
      },
      "execution_count": null,
      "outputs": []
    },
    {
      "cell_type": "code",
      "source": [
        "# logits don't sum up to 1\n",
        "tf.reduce_sum(logits)"
      ],
      "metadata": {
        "id": "sRTHVviqEWfV"
      },
      "execution_count": null,
      "outputs": []
    },
    {
      "cell_type": "code",
      "source": [
        "# tf.keras.activations.softmax expects a batch of images\n",
        "batch_one_image = logits[tf.newaxis, ...]\n",
        "batch_one_image_probs = tf.keras.activations.softmax(batch_one_image)\n",
        "batch_one_image_probs"
      ],
      "metadata": {
        "id": "sqVFWliUGp0S"
      },
      "execution_count": null,
      "outputs": []
    },
    {
      "cell_type": "code",
      "source": [
        "tf.argmax(batch_one_image_probs[0])"
      ],
      "metadata": {
        "id": "Z9qpkhJBDwpj"
      },
      "execution_count": null,
      "outputs": []
    },
    {
      "cell_type": "code",
      "source": [
        "tf.argmax(batch_one_image_probs[0]).numpy()"
      ],
      "metadata": {
        "id": "J3sHA8hTHaIN"
      },
      "execution_count": null,
      "outputs": []
    },
    {
      "cell_type": "code",
      "source": [
        "y_train[0]"
      ],
      "metadata": {
        "id": "o9FodBqXD-GF"
      },
      "execution_count": null,
      "outputs": []
    },
    {
      "cell_type": "code",
      "source": [
        "y_true = y_train[0]\n",
        "y_pred = model(X_train[0].reshape(1, -1))[0]"
      ],
      "metadata": {
        "id": "aa1U9R_fIZ2q"
      },
      "execution_count": null,
      "outputs": []
    },
    {
      "cell_type": "code",
      "source": [
        "y_true"
      ],
      "metadata": {
        "id": "3gSO2kzIIP0N"
      },
      "execution_count": null,
      "outputs": []
    },
    {
      "cell_type": "code",
      "source": [
        "y_pred"
      ],
      "metadata": {
        "id": "q-5gA1S-IQnI"
      },
      "execution_count": null,
      "outputs": []
    },
    {
      "cell_type": "code",
      "source": [
        "scce = tf.keras.losses.SparseCategoricalCrossentropy(from_logits=True)\n",
        "scce(y_true, y_pred).numpy()"
      ],
      "metadata": {
        "id": "pGslKw2NEnI_"
      },
      "execution_count": null,
      "outputs": []
    },
    {
      "cell_type": "markdown",
      "source": [
        "### Plot the training and testing accuracies"
      ],
      "metadata": {
        "id": "PvtQaHEuH5-N"
      }
    },
    {
      "cell_type": "code",
      "source": [
        "history.history.keys()"
      ],
      "metadata": {
        "id": "Cdi1NDQQIHE4"
      },
      "execution_count": null,
      "outputs": []
    },
    {
      "cell_type": "markdown",
      "source": [
        "#### Summarize history for accuracy"
      ],
      "metadata": {
        "id": "lQEp35O9KN1r"
      }
    },
    {
      "cell_type": "code",
      "source": [
        "plt.plot(history.history['accuracy'])\n",
        "plt.plot(history.history['val_accuracy'])\n",
        "\n",
        "plt.title('model accuracy')\n",
        "plt.ylabel('accuracy')\n",
        "plt.xlabel('epoch')\n",
        "\n",
        "plt.legend(['train', 'test'], loc='upper left')\n",
        "\n",
        "plt.show()"
      ],
      "metadata": {
        "id": "t4Bh2DdeJ0xz"
      },
      "execution_count": null,
      "outputs": []
    },
    {
      "cell_type": "markdown",
      "source": [
        "#### Summarize history for loss"
      ],
      "metadata": {
        "id": "YFxEVNZYKT8-"
      }
    },
    {
      "cell_type": "code",
      "source": [
        "plt.plot(history.history['loss'])\n",
        "plt.plot(history.history['val_loss'])\n",
        "\n",
        "plt.title('model loss')\n",
        "plt.ylabel('loss')\n",
        "plt.xlabel('epoch')\n",
        "\n",
        "plt.legend(['train', 'test'], loc='upper left')\n",
        "\n",
        "plt.show()"
      ],
      "metadata": {
        "id": "SuNBNpJDIlgR"
      },
      "execution_count": null,
      "outputs": []
    },
    {
      "cell_type": "markdown",
      "source": [
        "From both plots we can see that we have overfitting after epoch 4. That means that we should only train for a maximum of three epochs."
      ],
      "metadata": {
        "id": "-rE6A6lVJ_7t"
      }
    },
    {
      "cell_type": "markdown",
      "source": [
        "## Model building (using the [Functional API](https://www.tensorflow.org/guide/keras/functional))"
      ],
      "metadata": {
        "id": "adYTSeEoxLTC"
      }
    },
    {
      "cell_type": "code",
      "source": [
        "# Using the Functional API\n",
        "inputs = Input(X_train.shape[1])\n",
        "\n",
        "x = Dense(512, activation='relu', name='first_layer')(inputs)\n",
        "x = Dense(256, activation='relu', name='second_layer')(x)\n",
        "outputs = Dense(10, activation='softmax')(x)\n",
        "\n",
        "model = tf.keras.Model(inputs=inputs, outputs=outputs)\n",
        "model.summary()"
      ],
      "metadata": {
        "id": "-fuOzxaWvQsr"
      },
      "execution_count": null,
      "outputs": []
    },
    {
      "cell_type": "code",
      "source": [
        "model.compile(\n",
        "    loss=SparseCategoricalCrossentropy(),\n",
        "    optimizer=Adam(),\n",
        "    metrics=['accuracy']\n",
        ")\n",
        "\n",
        "history = model.fit(\n",
        "    X_train,\n",
        "    y_train,\n",
        "    epochs=5,\n",
        "    validation_split=0.3,\n",
        "    batch_size=32,\n",
        "    verbose=2\n",
        ")"
      ],
      "metadata": {
        "id": "WuPdcsI_xyXP"
      },
      "execution_count": null,
      "outputs": []
    },
    {
      "cell_type": "code",
      "source": [
        "plt.plot(history.history['accuracy'])\n",
        "plt.plot(history.history['val_accuracy'])\n",
        "\n",
        "plt.title('model accuracy')\n",
        "plt.ylabel('accuracy')\n",
        "plt.xlabel('epoch')\n",
        "\n",
        "plt.legend(['train', 'test'], loc='upper left')\n",
        "\n",
        "plt.show()"
      ],
      "metadata": {
        "id": "ZLq72CdQKweU"
      },
      "execution_count": null,
      "outputs": []
    },
    {
      "cell_type": "code",
      "source": [
        "plt.plot(history.history['loss'])\n",
        "plt.plot(history.history['val_loss'])\n",
        "\n",
        "plt.title('model loss')\n",
        "plt.ylabel('loss')\n",
        "plt.xlabel('epoch')\n",
        "\n",
        "plt.legend(['train', 'test'], loc='upper left')\n",
        "\n",
        "plt.show()"
      ],
      "metadata": {
        "id": "Q2dX7AG2Kw-G"
      },
      "execution_count": null,
      "outputs": []
    },
    {
      "cell_type": "code",
      "source": [
        "model.evaluate(\n",
        "    X_test,\n",
        "    y_test,\n",
        "    batch_size=32,\n",
        "    verbose=2\n",
        ")"
      ],
      "metadata": {
        "id": "Rveu-u5qyFHh"
      },
      "execution_count": null,
      "outputs": []
    }
  ]
}