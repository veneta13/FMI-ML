{
  "nbformat": 4,
  "nbformat_minor": 0,
  "metadata": {
    "colab": {
      "name": "w11_hello_tensorflow.ipynb",
      "provenance": [],
      "collapsed_sections": [],
      "toc_visible": true,
      "authorship_tag": "ABX9TyMfS8LRKkeuqwVbrYoAByE9",
      "include_colab_link": true
    },
    "kernelspec": {
      "name": "python3",
      "display_name": "Python 3"
    },
    "language_info": {
      "name": "python"
    }
  },
  "cells": [
    {
      "cell_type": "markdown",
      "metadata": {
        "id": "view-in-github",
        "colab_type": "text"
      },
      "source": [
        "<a href=\"https://colab.research.google.com/github/SimeonHristov99/ML_21-22/blob/main/hello_tensorflow.ipynb\" target=\"_parent\"><img src=\"https://colab.research.google.com/assets/colab-badge.svg\" alt=\"Open In Colab\"/></a>"
      ]
    },
    {
      "cell_type": "markdown",
      "source": [
        "# Hello, [Tensorflow](https://www.tensorflow.org/api_docs)!"
      ],
      "metadata": {
        "id": "NQoFMRPoNsGT"
      }
    },
    {
      "cell_type": "markdown",
      "source": [
        "**But what is a tensor?**\n",
        " - (for the ML engineer) A tensor is a multidimensional array that can be stored and run on a GPU.\n",
        " - (for the mathematician) A generalization of a scalar, vector and matrix:\n",
        "  - a scalar is a 0D tensor\n",
        "  - a vector is a 1D tensor\n",
        "  - a matrix is a 2D tensor"
      ],
      "metadata": {
        "id": "jY2aRRQpNvFg"
      }
    },
    {
      "cell_type": "code",
      "execution_count": null,
      "metadata": {
        "id": "AVvWqBJIV7K9"
      },
      "outputs": [],
      "source": [
        "import tensorflow as tf"
      ]
    },
    {
      "cell_type": "markdown",
      "source": [
        "**ALWAYS** check the tensorflow version. It gets updated really, REALLY frequently!"
      ],
      "metadata": {
        "id": "9WQR5FxXOfNo"
      }
    },
    {
      "cell_type": "code",
      "source": [
        "tf.__version__"
      ],
      "metadata": {
        "id": "SlwKnCcEWK0_",
        "colab": {
          "base_uri": "https://localhost:8080/",
          "height": 35
        },
        "outputId": "467c793b-34b1-4d48-fb3d-3de59798d195"
      },
      "execution_count": null,
      "outputs": [
        {
          "output_type": "execute_result",
          "data": {
            "text/plain": [
              "'2.8.0'"
            ],
            "application/vnd.google.colaboratory.intrinsic+json": {
              "type": "string"
            }
          },
          "metadata": {},
          "execution_count": 2
        }
      ]
    },
    {
      "cell_type": "markdown",
      "source": [
        "## Initialization of Tensors"
      ],
      "metadata": {
        "id": "VPYfnj3eOt66"
      }
    },
    {
      "cell_type": "markdown",
      "source": [
        "### Scalar (0D tensor)"
      ],
      "metadata": {
        "id": "EkIpebTzO_1r"
      }
    },
    {
      "cell_type": "code",
      "source": [
        "x = tf.constant(4)\n",
        "x"
      ],
      "metadata": {
        "id": "3qEy-v_5WL4n",
        "colab": {
          "base_uri": "https://localhost:8080/"
        },
        "outputId": "f3996f57-62df-4efe-a93c-c1312d8238ec"
      },
      "execution_count": null,
      "outputs": [
        {
          "output_type": "execute_result",
          "data": {
            "text/plain": [
              "<tf.Tensor: shape=(), dtype=int32, numpy=4>"
            ]
          },
          "metadata": {},
          "execution_count": 3
        }
      ]
    },
    {
      "cell_type": "code",
      "source": [
        "x = tf.constant(4.)\n",
        "x"
      ],
      "metadata": {
        "id": "17MplvDMPC_M",
        "colab": {
          "base_uri": "https://localhost:8080/"
        },
        "outputId": "741102ba-198a-4c81-c14d-2dde6dcd7926"
      },
      "execution_count": null,
      "outputs": [
        {
          "output_type": "execute_result",
          "data": {
            "text/plain": [
              "<tf.Tensor: shape=(), dtype=float32, numpy=4.0>"
            ]
          },
          "metadata": {},
          "execution_count": 7
        }
      ]
    },
    {
      "cell_type": "code",
      "source": [
        "x.numpy()"
      ],
      "metadata": {
        "id": "yUJeETt1PDIM",
        "colab": {
          "base_uri": "https://localhost:8080/"
        },
        "outputId": "e341e8ce-235a-4fbb-d30c-38c6340fa2d1"
      },
      "execution_count": null,
      "outputs": [
        {
          "output_type": "execute_result",
          "data": {
            "text/plain": [
              "4.0"
            ]
          },
          "metadata": {},
          "execution_count": 5
        }
      ]
    },
    {
      "cell_type": "markdown",
      "source": [
        "### Vector (1D tensor)"
      ],
      "metadata": {
        "id": "i_tvp2FmPON0"
      }
    },
    {
      "cell_type": "code",
      "source": [
        "x = tf.constant(4, shape=(1))\n",
        "x"
      ],
      "metadata": {
        "id": "a6pLA2ftPb0U",
        "colab": {
          "base_uri": "https://localhost:8080/"
        },
        "outputId": "db05a4bd-53df-4b54-8afd-315a109e96b2"
      },
      "execution_count": null,
      "outputs": [
        {
          "output_type": "execute_result",
          "data": {
            "text/plain": [
              "<tf.Tensor: shape=(1,), dtype=int32, numpy=array([4], dtype=int32)>"
            ]
          },
          "metadata": {},
          "execution_count": 8
        }
      ]
    },
    {
      "cell_type": "code",
      "source": [
        "x = tf.constant(4, shape=(5))\n",
        "x"
      ],
      "metadata": {
        "id": "F1f9EuJqPjeO",
        "colab": {
          "base_uri": "https://localhost:8080/"
        },
        "outputId": "957301e0-4e93-46e9-a91b-283332e7a13d"
      },
      "execution_count": null,
      "outputs": [
        {
          "output_type": "execute_result",
          "data": {
            "text/plain": [
              "<tf.Tensor: shape=(5,), dtype=int32, numpy=array([4, 4, 4, 4, 4], dtype=int32)>"
            ]
          },
          "metadata": {},
          "execution_count": 9
        }
      ]
    },
    {
      "cell_type": "code",
      "source": [
        "x = tf.constant(4, shape=(5), dtype=tf.float32)\n",
        "x"
      ],
      "metadata": {
        "id": "BiLWeO4nPmE0",
        "colab": {
          "base_uri": "https://localhost:8080/"
        },
        "outputId": "6df045fa-8147-4167-a98f-b1e28e90e211"
      },
      "execution_count": null,
      "outputs": [
        {
          "output_type": "execute_result",
          "data": {
            "text/plain": [
              "<tf.Tensor: shape=(5,), dtype=float32, numpy=array([4., 4., 4., 4., 4.], dtype=float32)>"
            ]
          },
          "metadata": {},
          "execution_count": 10
        }
      ]
    },
    {
      "cell_type": "markdown",
      "source": [
        "### Matrix (2D tensor)"
      ],
      "metadata": {
        "id": "JqX838N-PunD"
      }
    },
    {
      "cell_type": "code",
      "source": [
        "x = tf.constant(4, shape=(4, 4))\n",
        "x"
      ],
      "metadata": {
        "id": "NxgvUvgJP5qN",
        "colab": {
          "base_uri": "https://localhost:8080/"
        },
        "outputId": "bea93fda-f03f-48be-a182-cbd208c69bec"
      },
      "execution_count": null,
      "outputs": [
        {
          "output_type": "execute_result",
          "data": {
            "text/plain": [
              "<tf.Tensor: shape=(4, 4), dtype=int32, numpy=\n",
              "array([[4, 4, 4, 4],\n",
              "       [4, 4, 4, 4],\n",
              "       [4, 4, 4, 4],\n",
              "       [4, 4, 4, 4]], dtype=int32)>"
            ]
          },
          "metadata": {},
          "execution_count": 11
        }
      ]
    },
    {
      "cell_type": "code",
      "source": [
        "x = tf.constant([[1, 2, 3], [4, 5, 6]])\n",
        "x"
      ],
      "metadata": {
        "id": "IX-dTm0OP8YF",
        "colab": {
          "base_uri": "https://localhost:8080/"
        },
        "outputId": "3d029e1e-c11c-4ba4-e860-cf158cf64a85"
      },
      "execution_count": null,
      "outputs": [
        {
          "output_type": "execute_result",
          "data": {
            "text/plain": [
              "<tf.Tensor: shape=(2, 3), dtype=int32, numpy=\n",
              "array([[1, 2, 3],\n",
              "       [4, 5, 6]], dtype=int32)>"
            ]
          },
          "metadata": {},
          "execution_count": 12
        }
      ]
    },
    {
      "cell_type": "code",
      "source": [
        "tf.ones((3, 3))"
      ],
      "metadata": {
        "id": "ig91pp4PP8hT",
        "colab": {
          "base_uri": "https://localhost:8080/"
        },
        "outputId": "1445efb0-2b4f-45d7-98b3-f13b6ff58b6c"
      },
      "execution_count": null,
      "outputs": [
        {
          "output_type": "execute_result",
          "data": {
            "text/plain": [
              "<tf.Tensor: shape=(3, 3), dtype=float32, numpy=\n",
              "array([[1., 1., 1.],\n",
              "       [1., 1., 1.],\n",
              "       [1., 1., 1.]], dtype=float32)>"
            ]
          },
          "metadata": {},
          "execution_count": 13
        }
      ]
    },
    {
      "cell_type": "code",
      "source": [
        "tf.zeros((3, 3))"
      ],
      "metadata": {
        "id": "uZ64mXsKQLlY",
        "colab": {
          "base_uri": "https://localhost:8080/"
        },
        "outputId": "3af4faa9-cc54-47f8-ff3f-2b5e7386369e"
      },
      "execution_count": null,
      "outputs": [
        {
          "output_type": "execute_result",
          "data": {
            "text/plain": [
              "<tf.Tensor: shape=(3, 3), dtype=float32, numpy=\n",
              "array([[0., 0., 0.],\n",
              "       [0., 0., 0.],\n",
              "       [0., 0., 0.]], dtype=float32)>"
            ]
          },
          "metadata": {},
          "execution_count": 14
        }
      ]
    },
    {
      "cell_type": "code",
      "source": [
        "tf.eye(3)"
      ],
      "metadata": {
        "id": "dww73L4pQRQH",
        "colab": {
          "base_uri": "https://localhost:8080/"
        },
        "outputId": "d6984473-a929-43f1-9d73-3e1ee2dda6b0"
      },
      "execution_count": null,
      "outputs": [
        {
          "output_type": "execute_result",
          "data": {
            "text/plain": [
              "<tf.Tensor: shape=(3, 3), dtype=float32, numpy=\n",
              "array([[1., 0., 0.],\n",
              "       [0., 1., 0.],\n",
              "       [0., 0., 1.]], dtype=float32)>"
            ]
          },
          "metadata": {},
          "execution_count": 15
        }
      ]
    },
    {
      "cell_type": "markdown",
      "source": [
        "### Sampling from the standard normal distribution"
      ],
      "metadata": {
        "id": "yfmja08FQWMQ"
      }
    },
    {
      "cell_type": "code",
      "source": [
        "tf.random.normal((3, 3), mean=0, stddev=1)"
      ],
      "metadata": {
        "id": "-sG25b_8QhCW",
        "colab": {
          "base_uri": "https://localhost:8080/"
        },
        "outputId": "4bc8cefe-482b-4e69-d624-37d5a0825b98"
      },
      "execution_count": null,
      "outputs": [
        {
          "output_type": "execute_result",
          "data": {
            "text/plain": [
              "<tf.Tensor: shape=(3, 3), dtype=float32, numpy=\n",
              "array([[ 0.21536055, -1.0130769 , -0.9780873 ],\n",
              "       [-1.1212182 , -0.40020323, -1.5368457 ],\n",
              "       [-0.798981  ,  0.2069086 ,  1.567747  ]], dtype=float32)>"
            ]
          },
          "metadata": {},
          "execution_count": 16
        }
      ]
    },
    {
      "cell_type": "markdown",
      "source": [
        "### Sampling from the uniform distribution"
      ],
      "metadata": {
        "id": "515NuOVhQv3x"
      }
    },
    {
      "cell_type": "code",
      "source": [
        "tf.random.uniform((3, 3), minval=0, maxval=1)"
      ],
      "metadata": {
        "id": "WCv0ylPbQ4BR",
        "colab": {
          "base_uri": "https://localhost:8080/"
        },
        "outputId": "ecab8739-1262-4cc0-8b4a-10265fdf9032"
      },
      "execution_count": null,
      "outputs": [
        {
          "output_type": "execute_result",
          "data": {
            "text/plain": [
              "<tf.Tensor: shape=(3, 3), dtype=float32, numpy=\n",
              "array([[0.6807418 , 0.69918525, 0.6743777 ],\n",
              "       [0.10172737, 0.26319385, 0.7737119 ],\n",
              "       [0.8087901 , 0.19162154, 0.34336448]], dtype=float32)>"
            ]
          },
          "metadata": {},
          "execution_count": 17
        }
      ]
    },
    {
      "cell_type": "markdown",
      "source": [
        "### Other useful functions"
      ],
      "metadata": {
        "id": "MzzQjpFeQ_b3"
      }
    },
    {
      "cell_type": "code",
      "source": [
        "tf.range(9)"
      ],
      "metadata": {
        "id": "8T9OdzbuRW1S",
        "colab": {
          "base_uri": "https://localhost:8080/"
        },
        "outputId": "fcd4bf7f-8402-4de4-da0c-7e46ae5486e0"
      },
      "execution_count": null,
      "outputs": [
        {
          "output_type": "execute_result",
          "data": {
            "text/plain": [
              "<tf.Tensor: shape=(9,), dtype=int32, numpy=array([0, 1, 2, 3, 4, 5, 6, 7, 8], dtype=int32)>"
            ]
          },
          "metadata": {},
          "execution_count": 18
        }
      ]
    },
    {
      "cell_type": "code",
      "source": [
        "tf.range(start=5, limit=10)"
      ],
      "metadata": {
        "id": "Q7gkSLP-RX5v",
        "colab": {
          "base_uri": "https://localhost:8080/"
        },
        "outputId": "45015e07-8dc6-471e-872e-050084b586b7"
      },
      "execution_count": null,
      "outputs": [
        {
          "output_type": "execute_result",
          "data": {
            "text/plain": [
              "<tf.Tensor: shape=(5,), dtype=int32, numpy=array([5, 6, 7, 8, 9], dtype=int32)>"
            ]
          },
          "metadata": {},
          "execution_count": 19
        }
      ]
    },
    {
      "cell_type": "code",
      "source": [
        "x = tf.range(start=1, limit=10, delta=4)\n",
        "x"
      ],
      "metadata": {
        "id": "v2pIOPBoReO5",
        "colab": {
          "base_uri": "https://localhost:8080/"
        },
        "outputId": "52d5990f-9edb-4a9e-8f19-1e5b55275b58"
      },
      "execution_count": null,
      "outputs": [
        {
          "output_type": "execute_result",
          "data": {
            "text/plain": [
              "<tf.Tensor: shape=(3,), dtype=int32, numpy=array([1, 5, 9], dtype=int32)>"
            ]
          },
          "metadata": {},
          "execution_count": 20
        }
      ]
    },
    {
      "cell_type": "markdown",
      "source": [
        "### Casting"
      ],
      "metadata": {
        "id": "bboa3BwORhby"
      }
    },
    {
      "cell_type": "code",
      "source": [
        "x.dtype"
      ],
      "metadata": {
        "id": "mkqkMWc4Rt2y",
        "colab": {
          "base_uri": "https://localhost:8080/"
        },
        "outputId": "ffc49825-a9c9-4310-f3ed-a177a70e0ca8"
      },
      "execution_count": null,
      "outputs": [
        {
          "output_type": "execute_result",
          "data": {
            "text/plain": [
              "tf.int32"
            ]
          },
          "metadata": {},
          "execution_count": 21
        }
      ]
    },
    {
      "cell_type": "code",
      "source": [
        "# Note that x does not change!\n",
        "# This returns a new tensor.\n",
        "tf.cast(x, tf.float32)"
      ],
      "metadata": {
        "id": "b9DfmfCVRyeq",
        "colab": {
          "base_uri": "https://localhost:8080/"
        },
        "outputId": "82d6d799-960c-4367-bcda-9818b2989fb8"
      },
      "execution_count": null,
      "outputs": [
        {
          "output_type": "execute_result",
          "data": {
            "text/plain": [
              "<tf.Tensor: shape=(3,), dtype=float32, numpy=array([1., 5., 9.], dtype=float32)>"
            ]
          },
          "metadata": {},
          "execution_count": 22
        }
      ]
    },
    {
      "cell_type": "markdown",
      "source": [
        "## Mathematical Operations"
      ],
      "metadata": {
        "id": "on0eEIz_Oxiz"
      }
    },
    {
      "cell_type": "code",
      "source": [
        "x = tf.constant([1, 2, 3])\n",
        "y = tf.constant([9, 8, 7])"
      ],
      "metadata": {
        "id": "Kh_m0mt9O2P6"
      },
      "execution_count": null,
      "outputs": []
    },
    {
      "cell_type": "markdown",
      "source": [
        "### Basic"
      ],
      "metadata": {
        "id": "7pOMUSFpTaAM"
      }
    },
    {
      "cell_type": "code",
      "source": [
        "x + y"
      ],
      "metadata": {
        "id": "oViZu6GCST2K",
        "colab": {
          "base_uri": "https://localhost:8080/"
        },
        "outputId": "de1e0066-e2b4-4691-e184-9baebdea6d35"
      },
      "execution_count": null,
      "outputs": [
        {
          "output_type": "execute_result",
          "data": {
            "text/plain": [
              "<tf.Tensor: shape=(3,), dtype=int32, numpy=array([10, 10, 10], dtype=int32)>"
            ]
          },
          "metadata": {},
          "execution_count": 25
        }
      ]
    },
    {
      "cell_type": "code",
      "source": [
        "x - y"
      ],
      "metadata": {
        "id": "JqzUmeY2Sddi",
        "colab": {
          "base_uri": "https://localhost:8080/"
        },
        "outputId": "fc27de0c-5ed3-46a7-982e-1cf595ef62b4"
      },
      "execution_count": null,
      "outputs": [
        {
          "output_type": "execute_result",
          "data": {
            "text/plain": [
              "<tf.Tensor: shape=(3,), dtype=int32, numpy=array([-8, -6, -4], dtype=int32)>"
            ]
          },
          "metadata": {},
          "execution_count": 26
        }
      ]
    },
    {
      "cell_type": "code",
      "source": [
        "x * y"
      ],
      "metadata": {
        "id": "C5yQVwtgSxfL",
        "colab": {
          "base_uri": "https://localhost:8080/"
        },
        "outputId": "8d052640-e70a-42c8-9335-d42e194d175d"
      },
      "execution_count": null,
      "outputs": [
        {
          "output_type": "execute_result",
          "data": {
            "text/plain": [
              "<tf.Tensor: shape=(3,), dtype=int32, numpy=array([ 9, 16, 21], dtype=int32)>"
            ]
          },
          "metadata": {},
          "execution_count": 27
        }
      ]
    },
    {
      "cell_type": "code",
      "source": [
        "x / y"
      ],
      "metadata": {
        "id": "Gf6jz1ejSmwW",
        "colab": {
          "base_uri": "https://localhost:8080/"
        },
        "outputId": "eb4d5bef-cda4-4e47-f8d9-a88c3c530bb4"
      },
      "execution_count": null,
      "outputs": [
        {
          "output_type": "execute_result",
          "data": {
            "text/plain": [
              "<tf.Tensor: shape=(3,), dtype=float64, numpy=array([0.11111111, 0.25      , 0.42857143])>"
            ]
          },
          "metadata": {},
          "execution_count": 28
        }
      ]
    },
    {
      "cell_type": "code",
      "source": [
        "x / 0"
      ],
      "metadata": {
        "id": "H7iWD6KTSnki",
        "colab": {
          "base_uri": "https://localhost:8080/"
        },
        "outputId": "30a08dc5-6c8f-435f-f449-1ebef7219ac5"
      },
      "execution_count": null,
      "outputs": [
        {
          "output_type": "execute_result",
          "data": {
            "text/plain": [
              "<tf.Tensor: shape=(3,), dtype=float64, numpy=array([inf, inf, inf])>"
            ]
          },
          "metadata": {},
          "execution_count": 29
        }
      ]
    },
    {
      "cell_type": "code",
      "source": [
        "tf.add(x, y)"
      ],
      "metadata": {
        "id": "-JRTTr-USUrz",
        "colab": {
          "base_uri": "https://localhost:8080/"
        },
        "outputId": "fe661d06-7211-4867-aac3-1892f466e993"
      },
      "execution_count": null,
      "outputs": [
        {
          "output_type": "execute_result",
          "data": {
            "text/plain": [
              "<tf.Tensor: shape=(3,), dtype=int32, numpy=array([10, 10, 10], dtype=int32)>"
            ]
          },
          "metadata": {},
          "execution_count": 30
        }
      ]
    },
    {
      "cell_type": "code",
      "source": [
        "tf.subtract(x, y)"
      ],
      "metadata": {
        "id": "i2AMElkXSWUJ",
        "colab": {
          "base_uri": "https://localhost:8080/"
        },
        "outputId": "e6d0c643-b9e4-4bc4-d739-748023db892c"
      },
      "execution_count": null,
      "outputs": [
        {
          "output_type": "execute_result",
          "data": {
            "text/plain": [
              "<tf.Tensor: shape=(3,), dtype=int32, numpy=array([-8, -6, -4], dtype=int32)>"
            ]
          },
          "metadata": {},
          "execution_count": 31
        }
      ]
    },
    {
      "cell_type": "code",
      "source": [
        "tf.multiply(x, y)"
      ],
      "metadata": {
        "id": "D6LFaOK7SgP8",
        "colab": {
          "base_uri": "https://localhost:8080/"
        },
        "outputId": "08c16700-d63e-487a-8a3c-3ac94934bcd4"
      },
      "execution_count": null,
      "outputs": [
        {
          "output_type": "execute_result",
          "data": {
            "text/plain": [
              "<tf.Tensor: shape=(3,), dtype=int32, numpy=array([ 9, 16, 21], dtype=int32)>"
            ]
          },
          "metadata": {},
          "execution_count": 32
        }
      ]
    },
    {
      "cell_type": "code",
      "source": [
        "tf.divide(x, y)"
      ],
      "metadata": {
        "id": "gjpSA9sdSsrt",
        "colab": {
          "base_uri": "https://localhost:8080/"
        },
        "outputId": "eba3ba41-e842-4327-df2f-1e84b0ff1af6"
      },
      "execution_count": null,
      "outputs": [
        {
          "output_type": "execute_result",
          "data": {
            "text/plain": [
              "<tf.Tensor: shape=(3,), dtype=float64, numpy=array([0.11111111, 0.25      , 0.42857143])>"
            ]
          },
          "metadata": {},
          "execution_count": 33
        }
      ]
    },
    {
      "cell_type": "code",
      "source": [
        "x ** 5"
      ],
      "metadata": {
        "id": "uy2hUkWAUFT_",
        "colab": {
          "base_uri": "https://localhost:8080/"
        },
        "outputId": "fdc762f6-824b-4392-860d-a93d1b836dd5"
      },
      "execution_count": null,
      "outputs": [
        {
          "output_type": "execute_result",
          "data": {
            "text/plain": [
              "<tf.Tensor: shape=(3,), dtype=int32, numpy=array([  1,  32, 243], dtype=int32)>"
            ]
          },
          "metadata": {},
          "execution_count": 34
        }
      ]
    },
    {
      "cell_type": "markdown",
      "source": [
        "### Dot product"
      ],
      "metadata": {
        "id": "wvj0d1LYTMfm"
      }
    },
    {
      "cell_type": "code",
      "source": [
        "# Here, the `axes` parameter specifies along which axis to\n",
        "# multiply the elements\n",
        "tf.tensordot(x, y, axes=1)"
      ],
      "metadata": {
        "id": "pjvTi62DTMwm",
        "colab": {
          "base_uri": "https://localhost:8080/"
        },
        "outputId": "20771310-69cf-4cfa-8d09-30462ea55cb9"
      },
      "execution_count": null,
      "outputs": [
        {
          "output_type": "execute_result",
          "data": {
            "text/plain": [
              "<tf.Tensor: shape=(), dtype=int32, numpy=46>"
            ]
          },
          "metadata": {},
          "execution_count": 35
        }
      ]
    },
    {
      "cell_type": "code",
      "source": [
        "tf.reduce_sum(x * y)"
      ],
      "metadata": {
        "id": "jA1XSTfvTSku",
        "colab": {
          "base_uri": "https://localhost:8080/"
        },
        "outputId": "996ec365-ffb0-44ce-e880-f2e9235cc0c1"
      },
      "execution_count": null,
      "outputs": [
        {
          "output_type": "execute_result",
          "data": {
            "text/plain": [
              "<tf.Tensor: shape=(), dtype=int32, numpy=46>"
            ]
          },
          "metadata": {},
          "execution_count": 36
        }
      ]
    },
    {
      "cell_type": "markdown",
      "source": [
        "### Matrix multiplication"
      ],
      "metadata": {
        "id": "527tcCdATNol"
      }
    },
    {
      "cell_type": "code",
      "source": [
        "x = tf.random.normal((2, 3))\n",
        "y = tf.random.normal((3, 4))"
      ],
      "metadata": {
        "id": "X5CYC82gUcrw"
      },
      "execution_count": null,
      "outputs": []
    },
    {
      "cell_type": "code",
      "source": [
        "x"
      ],
      "metadata": {
        "id": "OZttrdeEUmvJ",
        "colab": {
          "base_uri": "https://localhost:8080/"
        },
        "outputId": "5c13d451-d05b-44b4-edaa-9f1292cde9cf"
      },
      "execution_count": null,
      "outputs": [
        {
          "output_type": "execute_result",
          "data": {
            "text/plain": [
              "<tf.Tensor: shape=(2, 3), dtype=float32, numpy=\n",
              "array([[ 0.97646135,  0.79410976,  0.74203026],\n",
              "       [-1.5870793 , -1.0112021 , -0.8590782 ]], dtype=float32)>"
            ]
          },
          "metadata": {},
          "execution_count": 38
        }
      ]
    },
    {
      "cell_type": "code",
      "source": [
        "y"
      ],
      "metadata": {
        "id": "vyIBTdtBUnNc",
        "colab": {
          "base_uri": "https://localhost:8080/"
        },
        "outputId": "7b0bab36-cf3b-4942-dc35-9c7e125c6384"
      },
      "execution_count": null,
      "outputs": [
        {
          "output_type": "execute_result",
          "data": {
            "text/plain": [
              "<tf.Tensor: shape=(3, 4), dtype=float32, numpy=\n",
              "array([[-1.5068967 , -1.4900901 ,  0.6261724 ,  0.63110805],\n",
              "       [-1.2087952 , -0.9861452 , -1.6383635 , -0.34983948],\n",
              "       [-0.6604516 , -0.17339736,  1.9809624 ,  0.6187981 ]],\n",
              "      dtype=float32)>"
            ]
          },
          "metadata": {},
          "execution_count": 39
        }
      ]
    },
    {
      "cell_type": "code",
      "source": [
        "x @ y"
      ],
      "metadata": {
        "id": "27PlQmc2U6wR",
        "colab": {
          "base_uri": "https://localhost:8080/"
        },
        "outputId": "c37e26ec-b36b-45eb-f34e-049308be1d85"
      },
      "execution_count": null,
      "outputs": [
        {
          "output_type": "execute_result",
          "data": {
            "text/plain": [
              "<tf.Tensor: shape=(2, 4), dtype=float32, numpy=\n",
              "array([[-2.9214175 , -2.366789  ,  0.78032684,  0.7976086 ],\n",
              "       [ 4.18128   ,  3.5110455 , -1.0388703 , -1.179456  ]],\n",
              "      dtype=float32)>"
            ]
          },
          "metadata": {},
          "execution_count": 40
        }
      ]
    },
    {
      "cell_type": "code",
      "source": [
        "tf.matmul(x, y)"
      ],
      "metadata": {
        "id": "3o5nkQAeUoRr",
        "colab": {
          "base_uri": "https://localhost:8080/"
        },
        "outputId": "2d217af6-9ea2-4ddc-d12d-886d0a0c0b6e"
      },
      "execution_count": null,
      "outputs": [
        {
          "output_type": "execute_result",
          "data": {
            "text/plain": [
              "<tf.Tensor: shape=(2, 4), dtype=float32, numpy=\n",
              "array([[-2.9214175 , -2.366789  ,  0.78032684,  0.7976086 ],\n",
              "       [ 4.18128   ,  3.5110455 , -1.0388703 , -1.179456  ]],\n",
              "      dtype=float32)>"
            ]
          },
          "metadata": {},
          "execution_count": 41
        }
      ]
    },
    {
      "cell_type": "markdown",
      "source": [
        "## Indexing"
      ],
      "metadata": {
        "id": "c6o9DKFCO2sL"
      }
    },
    {
      "cell_type": "code",
      "source": [
        "x = tf.constant([0, 1, 1, 2, 3, 1, 2, 3])\n",
        "x"
      ],
      "metadata": {
        "id": "4skbi0baO5hR",
        "colab": {
          "base_uri": "https://localhost:8080/"
        },
        "outputId": "f3d0a15c-dc5d-4418-b924-718987cfc7d4"
      },
      "execution_count": null,
      "outputs": [
        {
          "output_type": "execute_result",
          "data": {
            "text/plain": [
              "<tf.Tensor: shape=(8,), dtype=int32, numpy=array([0, 1, 1, 2, 3, 1, 2, 3], dtype=int32)>"
            ]
          },
          "metadata": {},
          "execution_count": 42
        }
      ]
    },
    {
      "cell_type": "code",
      "source": [
        "x[:]"
      ],
      "metadata": {
        "id": "aN5rlvf2VKAB",
        "colab": {
          "base_uri": "https://localhost:8080/"
        },
        "outputId": "0d161e9f-e29b-4097-e603-a8fe3c01facf"
      },
      "execution_count": null,
      "outputs": [
        {
          "output_type": "execute_result",
          "data": {
            "text/plain": [
              "<tf.Tensor: shape=(8,), dtype=int32, numpy=array([0, 1, 1, 2, 3, 1, 2, 3], dtype=int32)>"
            ]
          },
          "metadata": {},
          "execution_count": 43
        }
      ]
    },
    {
      "cell_type": "code",
      "source": [
        "x[5:]"
      ],
      "metadata": {
        "id": "UxJqyW7hVMQC",
        "colab": {
          "base_uri": "https://localhost:8080/"
        },
        "outputId": "87846747-002d-4df5-a8c6-9b66134a7e84"
      },
      "execution_count": null,
      "outputs": [
        {
          "output_type": "execute_result",
          "data": {
            "text/plain": [
              "<tf.Tensor: shape=(3,), dtype=int32, numpy=array([1, 2, 3], dtype=int32)>"
            ]
          },
          "metadata": {},
          "execution_count": 44
        }
      ]
    },
    {
      "cell_type": "code",
      "source": [
        "x[1:3]"
      ],
      "metadata": {
        "id": "7x6_Zh4RVRZL",
        "colab": {
          "base_uri": "https://localhost:8080/"
        },
        "outputId": "c5abc835-8d1d-4c3e-f624-438fe853295d"
      },
      "execution_count": null,
      "outputs": [
        {
          "output_type": "execute_result",
          "data": {
            "text/plain": [
              "<tf.Tensor: shape=(2,), dtype=int32, numpy=array([1, 1], dtype=int32)>"
            ]
          },
          "metadata": {},
          "execution_count": 45
        }
      ]
    },
    {
      "cell_type": "code",
      "source": [
        "x[::2]"
      ],
      "metadata": {
        "id": "9MJBNz0QVeh0",
        "colab": {
          "base_uri": "https://localhost:8080/"
        },
        "outputId": "a7a2baf0-0b27-4722-c45b-b472b3ceccbd"
      },
      "execution_count": null,
      "outputs": [
        {
          "output_type": "execute_result",
          "data": {
            "text/plain": [
              "<tf.Tensor: shape=(4,), dtype=int32, numpy=array([0, 1, 3, 2], dtype=int32)>"
            ]
          },
          "metadata": {},
          "execution_count": 46
        }
      ]
    },
    {
      "cell_type": "code",
      "source": [
        "x[::-1]"
      ],
      "metadata": {
        "id": "_fDnjnvpVlC9",
        "colab": {
          "base_uri": "https://localhost:8080/"
        },
        "outputId": "8ba020f9-8742-42f2-86b4-00ced4132928"
      },
      "execution_count": null,
      "outputs": [
        {
          "output_type": "execute_result",
          "data": {
            "text/plain": [
              "<tf.Tensor: shape=(8,), dtype=int32, numpy=array([3, 2, 1, 3, 2, 1, 1, 0], dtype=int32)>"
            ]
          },
          "metadata": {},
          "execution_count": 47
        }
      ]
    },
    {
      "cell_type": "code",
      "source": [
        "indices = tf.constant([0, 3])\n",
        "tf.gather(x, indices)"
      ],
      "metadata": {
        "id": "afTxYf99V1Mf",
        "colab": {
          "base_uri": "https://localhost:8080/"
        },
        "outputId": "041f1c76-8c3f-4fbd-e568-5fa7e9504494"
      },
      "execution_count": null,
      "outputs": [
        {
          "output_type": "execute_result",
          "data": {
            "text/plain": [
              "<tf.Tensor: shape=(2,), dtype=int32, numpy=array([0, 2], dtype=int32)>"
            ]
          },
          "metadata": {},
          "execution_count": 48
        }
      ]
    },
    {
      "cell_type": "code",
      "source": [
        "tf.gather(x, [0, 3])"
      ],
      "metadata": {
        "colab": {
          "base_uri": "https://localhost:8080/"
        },
        "id": "tdsI7tIgaauZ",
        "outputId": "6a6dc7ab-9ea4-46ac-95e5-f1e892df502b"
      },
      "execution_count": null,
      "outputs": [
        {
          "output_type": "execute_result",
          "data": {
            "text/plain": [
              "<tf.Tensor: shape=(2,), dtype=int32, numpy=array([0, 2], dtype=int32)>"
            ]
          },
          "metadata": {},
          "execution_count": 50
        }
      ]
    },
    {
      "cell_type": "markdown",
      "source": [
        "## Reshaping"
      ],
      "metadata": {
        "id": "AM114X4sO5um"
      }
    },
    {
      "cell_type": "code",
      "source": [
        "x = tf.range(9)\n",
        "x"
      ],
      "metadata": {
        "id": "z-WCEYJKO68g",
        "colab": {
          "base_uri": "https://localhost:8080/"
        },
        "outputId": "95866dba-2e7d-4152-d55e-19722432caff"
      },
      "execution_count": null,
      "outputs": [
        {
          "output_type": "execute_result",
          "data": {
            "text/plain": [
              "<tf.Tensor: shape=(9,), dtype=int32, numpy=array([0, 1, 2, 3, 4, 5, 6, 7, 8], dtype=int32)>"
            ]
          },
          "metadata": {},
          "execution_count": 51
        }
      ]
    },
    {
      "cell_type": "code",
      "source": [
        "x = tf.reshape(x, (3, 3))\n",
        "x"
      ],
      "metadata": {
        "id": "yaobgTpAWXc9",
        "colab": {
          "base_uri": "https://localhost:8080/"
        },
        "outputId": "25e081b7-0ba3-4ad8-f15b-350b45bb004f"
      },
      "execution_count": null,
      "outputs": [
        {
          "output_type": "execute_result",
          "data": {
            "text/plain": [
              "<tf.Tensor: shape=(3, 3), dtype=int32, numpy=\n",
              "array([[0, 1, 2],\n",
              "       [3, 4, 5],\n",
              "       [6, 7, 8]], dtype=int32)>"
            ]
          },
          "metadata": {},
          "execution_count": 52
        }
      ]
    },
    {
      "cell_type": "code",
      "source": [
        "tf.reshape(x, -1)"
      ],
      "metadata": {
        "id": "bEovm0CpcHha",
        "outputId": "308eb5f8-8478-464e-f486-ceb98ef68a76",
        "colab": {
          "base_uri": "https://localhost:8080/"
        }
      },
      "execution_count": null,
      "outputs": [
        {
          "output_type": "execute_result",
          "data": {
            "text/plain": [
              "<tf.Tensor: shape=(9,), dtype=int32, numpy=array([0, 1, 2, 3, 4, 5, 6, 7, 8], dtype=int32)>"
            ]
          },
          "metadata": {},
          "execution_count": 53
        }
      ]
    }
  ]
}