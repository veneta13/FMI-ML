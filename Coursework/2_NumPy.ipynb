{
  "nbformat": 4,
  "nbformat_minor": 0,
  "metadata": {
    "colab": {
      "name": "2_Numpy.ipynb",
      "provenance": [],
      "collapsed_sections": [
        "ONJhQNsKD9d7",
        "6peXOJvvEBGE",
        "QfVUBREZEOR8",
        "mZHThTqIEQF8",
        "WmUi-Aq3ESGc",
        "1eWSgrQlEZQU",
        "r-lvnoD3Eah0",
        "_n9OpLZPy3lu",
        "t6XVuau3uGES"
      ],
      "toc_visible": true
    },
    "kernelspec": {
      "name": "python3",
      "display_name": "Python 3"
    },
    "language_info": {
      "name": "python"
    }
  },
  "cells": [
    {
      "cell_type": "markdown",
      "source": [
        "# Hello, [NumPy](https://numpy.org/doc/stable/reference/)!"
      ],
      "metadata": {
        "id": "AeHB0j-cDwJK"
      }
    },
    {
      "cell_type": "markdown",
      "source": [
        "## What is numpy?"
      ],
      "metadata": {
        "id": "1BYv1YQTDzah"
      }
    },
    {
      "cell_type": "markdown",
      "source": [
        "- (in short) The core library for scientific computing in Python.\n",
        "- (according to the official website) \"NumPy is the fundamental package for scientific computing in Python. It is a Python library that provides a multidimensional array object, various derived objects (such as masked arrays and matrices), and an assortment of routines for fast operations on arrays, including mathematical, logical, shape manipulation, sorting, selecting, I/O, discrete Fourier transforms, basic linear algebra, basic statistical operations, random simulation and much more.\""
      ],
      "metadata": {
        "id": "nc82FS-wE7TU"
      }
    },
    {
      "cell_type": "markdown",
      "source": [
        "**Why use numpy?**\n",
        "\n",
        "- Very fast!\n",
        "- Has a lot of built-in mathematical operations with arrays.\n",
        "- Most of its code is written in C.\n",
        "- Core library for pandas, matplotlib, sklearn!"
      ],
      "metadata": {
        "id": "KQQ_qewIF78A"
      }
    },
    {
      "cell_type": "markdown",
      "source": [
        "**What are some usecases?**\n",
        "- array/matrix operations (linear algebra) (dot product, cross product, inverse of a matrix, determinant of a matrix, eigenvectors, etc)\n",
        "- random numbers\n",
        "- working with images <- They are often represented as a 3-dimensional matrix with RGB values."
      ],
      "metadata": {
        "id": "MSi-fquEIY2O"
      }
    },
    {
      "cell_type": "markdown",
      "source": [
        "## Array basics"
      ],
      "metadata": {
        "id": "ZfOvboDvD1YJ"
      }
    },
    {
      "cell_type": "markdown",
      "source": [
        "**Axis**: Number of dimensions.\n",
        "\n",
        "**Shape**: Number of elements in each dimension.\n",
        "\n",
        "1D array:\n",
        "\n",
        "![1d_array](https://raw.githubusercontent.com/SimeonHristov99/ML_21-22/main/Week_02%20-%20Hello%2C%20Numpy!/assets/1d.png)\n",
        "\n",
        "2D array:\n",
        "\n",
        "![2d_array](https://raw.githubusercontent.com/SimeonHristov99/ML_21-22/main/Week_02%20-%20Hello%2C%20Numpy!/assets/2d.png)\n",
        "\n",
        "3D array:\n",
        "\n",
        "![3D array](https://raw.githubusercontent.com/SimeonHristov99/ML_21-22/main/Week_02%20-%20Hello%2C%20Numpy!/assets/3d.png)"
      ],
      "metadata": {
        "id": "DKWpucjVIFlH"
      }
    },
    {
      "cell_type": "code",
      "source": [
        "import numpy as np"
      ],
      "metadata": {
        "id": "RNH3cnmpGX4c"
      },
      "execution_count": 2,
      "outputs": []
    },
    {
      "cell_type": "code",
      "source": [
        "# Check the version of numpy\n",
        "np.__version__"
      ],
      "metadata": {
        "id": "T1C3ZHcyJOg4",
        "colab": {
          "base_uri": "https://localhost:8080/",
          "height": 35
        },
        "outputId": "a58e9ef1-977e-4bd8-f70d-4709240a59f1"
      },
      "execution_count": null,
      "outputs": [
        {
          "output_type": "execute_result",
          "data": {
            "application/vnd.google.colaboratory.intrinsic+json": {
              "type": "string"
            },
            "text/plain": [
              "'1.21.5'"
            ]
          },
          "metadata": {},
          "execution_count": 79
        }
      ]
    },
    {
      "cell_type": "code",
      "source": [
        "# Create a numpy from the list [7, 2, 9, 10]\n",
        "# Note: Arrays are homogeneours. They can't hold multiple types\n",
        "a = np.array([7, 2, 9, 10])\n",
        "\n",
        "# Print it\n",
        "a"
      ],
      "metadata": {
        "id": "c22_XPTwSu0M",
        "colab": {
          "base_uri": "https://localhost:8080/"
        },
        "outputId": "7e2ce92e-297c-4763-efe7-ff7af4eb5a6b"
      },
      "execution_count": null,
      "outputs": [
        {
          "output_type": "execute_result",
          "data": {
            "text/plain": [
              "array([ 7,  2,  9, 10])"
            ]
          },
          "metadata": {},
          "execution_count": 80
        }
      ]
    },
    {
      "cell_type": "code",
      "source": [
        "# Check \"the shape\" of the array, i.e. how many elements are in each dimension\n",
        "a.shape"
      ],
      "metadata": {
        "id": "bBOpZuWKxejp",
        "colab": {
          "base_uri": "https://localhost:8080/"
        },
        "outputId": "a7814127-01c8-4819-bcc1-5f5a6ac099b4"
      },
      "execution_count": null,
      "outputs": [
        {
          "output_type": "execute_result",
          "data": {
            "text/plain": [
              "(4,)"
            ]
          },
          "metadata": {},
          "execution_count": 81
        }
      ]
    },
    {
      "cell_type": "code",
      "source": [
        "# See what datatype is held in the array\n",
        "a.dtype"
      ],
      "metadata": {
        "id": "D79wa-hxx50S",
        "colab": {
          "base_uri": "https://localhost:8080/"
        },
        "outputId": "71b34356-db8b-4baf-f82d-abf73de7e95b"
      },
      "execution_count": null,
      "outputs": [
        {
          "output_type": "execute_result",
          "data": {
            "text/plain": [
              "dtype('int64')"
            ]
          },
          "metadata": {},
          "execution_count": 82
        }
      ]
    },
    {
      "cell_type": "code",
      "source": [
        "# Check how many dimensions are in the array\n",
        "a.ndim"
      ],
      "metadata": {
        "id": "yE_OSpWjyC_8",
        "colab": {
          "base_uri": "https://localhost:8080/"
        },
        "outputId": "925899a9-0e16-4a21-ba0c-b15cdb226a76"
      },
      "execution_count": null,
      "outputs": [
        {
          "output_type": "execute_result",
          "data": {
            "text/plain": [
              "1"
            ]
          },
          "metadata": {},
          "execution_count": 83
        }
      ]
    },
    {
      "cell_type": "code",
      "source": [
        "# Get the total number of elements in the array\n",
        "# This is the same as if you multiply the values of the shape\n",
        "print(a.size)\n",
        "print(a.shape[0])"
      ],
      "metadata": {
        "id": "d-9z2S3eyLgK",
        "colab": {
          "base_uri": "https://localhost:8080/"
        },
        "outputId": "5bfd56fa-f161-478b-84e1-40cca374d566"
      },
      "execution_count": null,
      "outputs": [
        {
          "output_type": "stream",
          "name": "stdout",
          "text": [
            "4\n",
            "4\n"
          ]
        }
      ]
    },
    {
      "cell_type": "code",
      "source": [
        "# Get the number of elements along the first dimension\n",
        "len(a)"
      ],
      "metadata": {
        "id": "RNAmpiIyJ5wo",
        "colab": {
          "base_uri": "https://localhost:8080/"
        },
        "outputId": "0904c05e-1266-400c-d027-7f618f846091"
      },
      "execution_count": null,
      "outputs": [
        {
          "output_type": "execute_result",
          "data": {
            "text/plain": [
              "4"
            ]
          },
          "metadata": {},
          "execution_count": 85
        }
      ]
    },
    {
      "cell_type": "code",
      "source": [
        "a.itemsize # returns how much memory each element takes (in bytes)\n",
        "# Each element is 64 bits (seen from `a.dtype`),\n",
        "# so we get 8 bytes (= 64 bits) (1 byte = 8 bits)"
      ],
      "metadata": {
        "id": "G12IgxprJ72t",
        "colab": {
          "base_uri": "https://localhost:8080/"
        },
        "outputId": "c47b07c7-a406-4003-a6f2-1372492c4126"
      },
      "execution_count": null,
      "outputs": [
        {
          "output_type": "execute_result",
          "data": {
            "text/plain": [
              "8"
            ]
          },
          "metadata": {},
          "execution_count": 86
        }
      ]
    },
    {
      "cell_type": "code",
      "source": [
        "# Indexing works like in lists.\n",
        "a[0]"
      ],
      "metadata": {
        "id": "df8bW-yRK5jM",
        "colab": {
          "base_uri": "https://localhost:8080/"
        },
        "outputId": "a3d52640-2f9f-407d-dae5-42818172e7c8"
      },
      "execution_count": null,
      "outputs": [
        {
          "output_type": "execute_result",
          "data": {
            "text/plain": [
              "7"
            ]
          },
          "metadata": {},
          "execution_count": 87
        }
      ]
    },
    {
      "cell_type": "code",
      "source": [
        "# Assigning values also works like in lists, i.e. arrays are mutable by default\n",
        "a[0] = 10\n",
        "a"
      ],
      "metadata": {
        "id": "jcL9rj0kLFPT",
        "colab": {
          "base_uri": "https://localhost:8080/"
        },
        "outputId": "76dc9698-ac2d-4aa4-e929-259160ea09cc"
      },
      "execution_count": null,
      "outputs": [
        {
          "output_type": "execute_result",
          "data": {
            "text/plain": [
              "array([10,  2,  9, 10])"
            ]
          },
          "metadata": {},
          "execution_count": 88
        }
      ]
    },
    {
      "cell_type": "markdown",
      "source": [
        "Mathematical operations (sum, dot product, cross product, etc) work **ELEMENTWISE**."
      ],
      "metadata": {
        "id": "MXWn207vLYW8"
      }
    },
    {
      "cell_type": "code",
      "source": [
        "b = a * np.array([2, 0, 0, 2])\n",
        "b"
      ],
      "metadata": {
        "id": "81Tpz_RWLLXs",
        "colab": {
          "base_uri": "https://localhost:8080/"
        },
        "outputId": "fa12ba75-4cdd-465b-9fc7-4dda36c311fc"
      },
      "execution_count": null,
      "outputs": [
        {
          "output_type": "execute_result",
          "data": {
            "text/plain": [
              "array([20,  0,  0, 20])"
            ]
          },
          "metadata": {},
          "execution_count": 89
        }
      ]
    },
    {
      "cell_type": "code",
      "source": [
        "b = a * 2\n",
        "b"
      ],
      "metadata": {
        "colab": {
          "base_uri": "https://localhost:8080/"
        },
        "id": "ithtpXlW9kWA",
        "outputId": "3a3ea085-f98c-4240-b992-7eea5bbb5195"
      },
      "execution_count": null,
      "outputs": [
        {
          "output_type": "execute_result",
          "data": {
            "text/plain": [
              "array([20,  4, 18, 20])"
            ]
          },
          "metadata": {},
          "execution_count": 90
        }
      ]
    },
    {
      "cell_type": "markdown",
      "source": [
        "## Array vs. List"
      ],
      "metadata": {
        "id": "6gCaLe_4D5Rc"
      }
    },
    {
      "cell_type": "markdown",
      "source": [
        "### Visual difference"
      ],
      "metadata": {
        "id": "hLLS9mFa37S8"
      }
    },
    {
      "cell_type": "code",
      "source": [
        "l = [1, 2, 3]\n",
        "a = np.array([1, 2, 3])\n",
        "\n",
        "print(l)\n",
        "print(a)"
      ],
      "metadata": {
        "id": "4XzQKwLRLqBT",
        "colab": {
          "base_uri": "https://localhost:8080/"
        },
        "outputId": "6936093c-3591-42a6-994a-da4d6a294222"
      },
      "execution_count": null,
      "outputs": [
        {
          "output_type": "stream",
          "name": "stdout",
          "text": [
            "[1, 2, 3]\n",
            "[1 2 3]\n"
          ]
        }
      ]
    },
    {
      "cell_type": "markdown",
      "source": [
        "### Appending elements"
      ],
      "metadata": {
        "id": "R5QgjORb33le"
      }
    },
    {
      "cell_type": "markdown",
      "source": [
        "You can append elements to lists"
      ],
      "metadata": {
        "id": "6kcbqwgG4Bx4"
      }
    },
    {
      "cell_type": "code",
      "source": [
        "l.append(4)\n",
        "l"
      ],
      "metadata": {
        "id": "EwzMMseZL034",
        "colab": {
          "base_uri": "https://localhost:8080/"
        },
        "outputId": "af9dd38d-0f20-4f0d-9e02-274c051dd282"
      },
      "execution_count": null,
      "outputs": [
        {
          "output_type": "execute_result",
          "data": {
            "text/plain": [
              "[1, 2, 3, 4]"
            ]
          },
          "metadata": {},
          "execution_count": 92
        }
      ]
    },
    {
      "cell_type": "markdown",
      "source": [
        "But you **CANNOT APPEND** elements to an array"
      ],
      "metadata": {
        "id": "WW7BSuK3MDhk"
      }
    },
    {
      "cell_type": "code",
      "source": [
        "# a.append(4)"
      ],
      "metadata": {
        "id": "bzVZUGhYMCcA"
      },
      "execution_count": null,
      "outputs": []
    },
    {
      "cell_type": "markdown",
      "source": [
        "In order to add an element a new array has to be created (using **np.append**) which is the concatenation of the old one and the new values."
      ],
      "metadata": {
        "id": "Gm8U49ipMufI"
      }
    },
    {
      "cell_type": "code",
      "source": [
        "np.append(a, 4)"
      ],
      "metadata": {
        "id": "CIl3X8IuMMFu",
        "colab": {
          "base_uri": "https://localhost:8080/"
        },
        "outputId": "e198c583-46a2-4be8-805c-d7c5512d4e9a"
      },
      "execution_count": null,
      "outputs": [
        {
          "output_type": "execute_result",
          "data": {
            "text/plain": [
              "array([1, 2, 3, 4])"
            ]
          },
          "metadata": {},
          "execution_count": 94
        }
      ]
    },
    {
      "cell_type": "code",
      "source": [
        "a"
      ],
      "metadata": {
        "colab": {
          "base_uri": "https://localhost:8080/"
        },
        "id": "702y4jdB-PNU",
        "outputId": "ba7b6a1f-d2f5-40f6-e4b7-45e837564523"
      },
      "execution_count": null,
      "outputs": [
        {
          "output_type": "execute_result",
          "data": {
            "text/plain": [
              "array([1, 2, 3])"
            ]
          },
          "metadata": {},
          "execution_count": 95
        }
      ]
    },
    {
      "cell_type": "code",
      "source": [
        "# Python lists and Python tuples are array-like objects for numpy.\n",
        "print(np.append(a, [4, 7]))\n",
        "print(np.append(a, np.array([4, 7])))\n",
        "print(np.append(a, (4, 7)))"
      ],
      "metadata": {
        "id": "Tvet1NeCM1w3",
        "colab": {
          "base_uri": "https://localhost:8080/"
        },
        "outputId": "20d55f3f-bd93-4ecb-cad6-956a3dfa7ea5"
      },
      "execution_count": null,
      "outputs": [
        {
          "output_type": "stream",
          "name": "stdout",
          "text": [
            "[1 2 3 4 7]\n",
            "[1 2 3 4 7]\n",
            "[1 2 3 4 7]\n"
          ]
        }
      ]
    },
    {
      "cell_type": "markdown",
      "source": [
        "### Adding a number to all elements"
      ],
      "metadata": {
        "id": "Zff_lQAx4MC5"
      }
    },
    {
      "cell_type": "code",
      "source": [
        "# It can't be done without some kind of iteration (map, loop, LC)\n",
        "# l + 4 # This won't even be accepted by the compiler\n",
        "l + [4] # This will append a 4"
      ],
      "metadata": {
        "id": "KTbyk7o5NNMB",
        "colab": {
          "base_uri": "https://localhost:8080/"
        },
        "outputId": "5e987e4d-6253-4da5-de98-5dc02c7c2554"
      },
      "execution_count": null,
      "outputs": [
        {
          "output_type": "execute_result",
          "data": {
            "text/plain": [
              "[1, 2, 3, 4, 4]"
            ]
          },
          "metadata": {},
          "execution_count": 97
        }
      ]
    },
    {
      "cell_type": "code",
      "source": [
        "l"
      ],
      "metadata": {
        "colab": {
          "base_uri": "https://localhost:8080/"
        },
        "id": "b8PfpT-r-i8P",
        "outputId": "727b93fb-b7a3-4eb4-c9d3-570b62915aba"
      },
      "execution_count": null,
      "outputs": [
        {
          "output_type": "execute_result",
          "data": {
            "text/plain": [
              "[1, 2, 3, 4]"
            ]
          },
          "metadata": {},
          "execution_count": 98
        }
      ]
    },
    {
      "cell_type": "code",
      "source": [
        "a"
      ],
      "metadata": {
        "colab": {
          "base_uri": "https://localhost:8080/"
        },
        "id": "0zuV6uMz-sUy",
        "outputId": "fadfab25-f3e8-416b-dfea-9ff29ba5f7f7"
      },
      "execution_count": null,
      "outputs": [
        {
          "output_type": "execute_result",
          "data": {
            "text/plain": [
              "array([1, 2, 3])"
            ]
          },
          "metadata": {},
          "execution_count": 99
        }
      ]
    },
    {
      "cell_type": "code",
      "source": [
        "a + 4 # <- Broadcasting!\n",
        "# Under the hood it is actually `a + np.array([4, 4, 4])`"
      ],
      "metadata": {
        "id": "TNKUc9xPNTcI",
        "colab": {
          "base_uri": "https://localhost:8080/"
        },
        "outputId": "6b901525-c9da-4033-92b8-0886a9b78e27"
      },
      "execution_count": null,
      "outputs": [
        {
          "output_type": "execute_result",
          "data": {
            "text/plain": [
              "array([5, 6, 7])"
            ]
          },
          "metadata": {},
          "execution_count": 100
        }
      ]
    },
    {
      "cell_type": "code",
      "source": [
        "l * 2"
      ],
      "metadata": {
        "id": "EKASlT6dNhTQ",
        "colab": {
          "base_uri": "https://localhost:8080/"
        },
        "outputId": "dd7eb6e5-afdb-4085-914f-cddb818416a2"
      },
      "execution_count": null,
      "outputs": [
        {
          "output_type": "execute_result",
          "data": {
            "text/plain": [
              "[1, 2, 3, 4, 1, 2, 3, 4]"
            ]
          },
          "metadata": {},
          "execution_count": 101
        }
      ]
    },
    {
      "cell_type": "code",
      "source": [
        "a * 2"
      ],
      "metadata": {
        "id": "i-9uJUL8N4hp",
        "colab": {
          "base_uri": "https://localhost:8080/"
        },
        "outputId": "8f8e6ff2-580e-4092-8c7f-11d93a015e91"
      },
      "execution_count": null,
      "outputs": [
        {
          "output_type": "execute_result",
          "data": {
            "text/plain": [
              "array([2, 4, 6])"
            ]
          },
          "metadata": {},
          "execution_count": 102
        }
      ]
    },
    {
      "cell_type": "code",
      "source": [
        "a * np.array([2, 3, 8])"
      ],
      "metadata": {
        "colab": {
          "base_uri": "https://localhost:8080/"
        },
        "id": "YKQp-Fce_HIk",
        "outputId": "ed9c6c47-d37e-4885-f277-cca7f8948a1e"
      },
      "execution_count": null,
      "outputs": [
        {
          "output_type": "execute_result",
          "data": {
            "text/plain": [
              "array([ 2,  6, 24])"
            ]
          },
          "metadata": {},
          "execution_count": 103
        }
      ]
    },
    {
      "cell_type": "code",
      "source": [
        "# Remember that mathematical operations work elementwise!\n",
        "np.sqrt(a)"
      ],
      "metadata": {
        "id": "RMK6cRtjOCtr",
        "colab": {
          "base_uri": "https://localhost:8080/"
        },
        "outputId": "103109e9-b44c-47ca-ea23-dabf19a51883"
      },
      "execution_count": null,
      "outputs": [
        {
          "output_type": "execute_result",
          "data": {
            "text/plain": [
              "array([1.        , 1.41421356, 1.73205081])"
            ]
          },
          "metadata": {},
          "execution_count": 104
        }
      ]
    },
    {
      "cell_type": "code",
      "source": [
        "# Natural logarithm.\n",
        "np.log(a)"
      ],
      "metadata": {
        "id": "VWXSG8LuOMC5",
        "colab": {
          "base_uri": "https://localhost:8080/"
        },
        "outputId": "11d2fbe8-3f3c-413a-af27-cdf2d6a77a17"
      },
      "execution_count": null,
      "outputs": [
        {
          "output_type": "execute_result",
          "data": {
            "text/plain": [
              "array([0.        , 0.69314718, 1.09861229])"
            ]
          },
          "metadata": {},
          "execution_count": 105
        }
      ]
    },
    {
      "cell_type": "markdown",
      "source": [
        "## Dot product"
      ],
      "metadata": {
        "id": "c5FRWIB6D7rk"
      }
    },
    {
      "cell_type": "code",
      "source": [
        "l1 = [1, 2, 3]\n",
        "l2 = [4, 5, 6]\n",
        "\n",
        "sum([ x * y for x, y in zip(l1, l2) ]) # Should be 32."
      ],
      "metadata": {
        "id": "x-60LQD4Oc_i",
        "colab": {
          "base_uri": "https://localhost:8080/"
        },
        "outputId": "8da0afb9-e5ef-44f6-fb11-911d779cc3e8"
      },
      "execution_count": null,
      "outputs": [
        {
          "output_type": "execute_result",
          "data": {
            "text/plain": [
              "32"
            ]
          },
          "metadata": {},
          "execution_count": 106
        }
      ]
    },
    {
      "cell_type": "code",
      "source": [
        "a1 = np.array(l1)\n",
        "a2 = np.array(l2)\n",
        "\n",
        "print(np.dot(a1, a2))\n",
        "print(np.sum(a1*a2))\n",
        "print((a1*a2).sum())\n",
        "print(a1 @ a2)"
      ],
      "metadata": {
        "id": "K8l_nlqeOmDi",
        "colab": {
          "base_uri": "https://localhost:8080/"
        },
        "outputId": "e9076834-acef-477d-d9ad-26b9c462e6bd"
      },
      "execution_count": null,
      "outputs": [
        {
          "output_type": "stream",
          "name": "stdout",
          "text": [
            "32\n",
            "32\n",
            "32\n",
            "32\n"
          ]
        }
      ]
    },
    {
      "cell_type": "markdown",
      "source": [
        "## Speed Test: Iterating over Python lists vs. Using np.array() operations."
      ],
      "metadata": {
        "id": "ONJhQNsKD9d7"
      }
    },
    {
      "cell_type": "code",
      "source": [
        "from timeit import default_timer as timer\n",
        "\n",
        "number_of_elements = 10000\n",
        "number_of_calls = 1000\n",
        "\n",
        "py_list = list(range(number_of_elements))\n",
        "np_arr = np.array(py_list)\n",
        "\n",
        "def add2_list():\n",
        "  return [ i + 2 for i in py_list ]\n",
        "\n",
        "def add2_np():\n",
        "  return np_arr + 2"
      ],
      "metadata": {
        "id": "EAuXBJk7PlfZ"
      },
      "execution_count": null,
      "outputs": []
    },
    {
      "cell_type": "code",
      "source": [
        "start = timer()\n",
        "\n",
        "for _ in range(number_of_calls):\n",
        "  add2_list()\n",
        "\n",
        "end = timer()\n",
        "\n",
        "time_python = end - start\n",
        "time_python"
      ],
      "metadata": {
        "id": "2rw2zmaIQmn5",
        "colab": {
          "base_uri": "https://localhost:8080/"
        },
        "outputId": "a2f10f76-d074-4663-eda3-f02bafd40a88"
      },
      "execution_count": null,
      "outputs": [
        {
          "output_type": "execute_result",
          "data": {
            "text/plain": [
              "0.6045484380001653"
            ]
          },
          "metadata": {},
          "execution_count": 109
        }
      ]
    },
    {
      "cell_type": "code",
      "source": [
        "start = timer()\n",
        "\n",
        "for _ in range(number_of_calls):\n",
        "  add2_np()\n",
        "\n",
        "end = timer()\n",
        "\n",
        "time_np = end - start\n",
        "time_np"
      ],
      "metadata": {
        "id": "1rrbMpDqQubB",
        "colab": {
          "base_uri": "https://localhost:8080/"
        },
        "outputId": "9ba42449-0a96-4fe1-ac2b-99c7ec671b3e"
      },
      "execution_count": null,
      "outputs": [
        {
          "output_type": "execute_result",
          "data": {
            "text/plain": [
              "0.00758357100039575"
            ]
          },
          "metadata": {},
          "execution_count": 110
        }
      ]
    },
    {
      "cell_type": "code",
      "source": [
        "# numpy operations are 80+ times faster than list operations\n",
        "time_python / time_np"
      ],
      "metadata": {
        "id": "YThv4GaCTcmm",
        "colab": {
          "base_uri": "https://localhost:8080/"
        },
        "outputId": "a7b6cfea-02ce-43ae-eedf-1f6c489409c1"
      },
      "execution_count": null,
      "outputs": [
        {
          "output_type": "execute_result",
          "data": {
            "text/plain": [
              "79.7181747185616"
            ]
          },
          "metadata": {},
          "execution_count": 111
        }
      ]
    },
    {
      "cell_type": "markdown",
      "source": [
        "## Multidimensional arrays (nd-array)"
      ],
      "metadata": {
        "id": "6peXOJvvEBGE"
      }
    },
    {
      "cell_type": "code",
      "source": [
        "# Let's create one\n",
        "a = np.array([[5.2, 3, 4.5], [9.1, 0.1, 0.3]])\n",
        "\n",
        "# Print it\n",
        "a"
      ],
      "metadata": {
        "id": "TvuV_lUvUIBE",
        "colab": {
          "base_uri": "https://localhost:8080/"
        },
        "outputId": "afb40044-760f-48bb-a5db-b425e50d0a1a"
      },
      "execution_count": null,
      "outputs": [
        {
          "output_type": "execute_result",
          "data": {
            "text/plain": [
              "array([[5.2, 3. , 4.5],\n",
              "       [9.1, 0.1, 0.3]])"
            ]
          },
          "metadata": {},
          "execution_count": 114
        }
      ]
    },
    {
      "cell_type": "code",
      "source": [
        "# Check its shape\n",
        "a.shape"
      ],
      "metadata": {
        "id": "5oVYn6TWUWwZ",
        "colab": {
          "base_uri": "https://localhost:8080/"
        },
        "outputId": "c2939a50-adfd-463e-dc97-697886727cbb"
      },
      "execution_count": null,
      "outputs": [
        {
          "output_type": "execute_result",
          "data": {
            "text/plain": [
              "(2, 3)"
            ]
          },
          "metadata": {},
          "execution_count": 115
        }
      ]
    },
    {
      "cell_type": "markdown",
      "source": [
        "## Array indexing / slicing / boolean indexing"
      ],
      "metadata": {
        "id": "40-mBO6VEG3F"
      }
    },
    {
      "cell_type": "code",
      "source": [
        "# Get the elements on the first row\n",
        "print(a[0])\n",
        "\n",
        "# We can omit the `:` when it's the last `argument` of the slice\n",
        "print(a[0, :])"
      ],
      "metadata": {
        "id": "Y5LcteHNUZVt",
        "colab": {
          "base_uri": "https://localhost:8080/"
        },
        "outputId": "97f0be99-20f4-4eeb-a1cc-110f2f001efb"
      },
      "execution_count": null,
      "outputs": [
        {
          "output_type": "stream",
          "name": "stdout",
          "text": [
            "[5.2 3.  4.5]\n",
            "[5.2 3.  4.5]\n"
          ]
        }
      ]
    },
    {
      "cell_type": "code",
      "source": [
        "# Get the left-most element\n",
        "print(a[0][0])\n",
        "print(a[0, 0])"
      ],
      "metadata": {
        "id": "lG1RAbA2Uh59",
        "colab": {
          "base_uri": "https://localhost:8080/"
        },
        "outputId": "514b5ded-bcfd-478a-80b2-fcde3eb9b0c3"
      },
      "execution_count": null,
      "outputs": [
        {
          "output_type": "stream",
          "name": "stdout",
          "text": [
            "5.2\n",
            "5.2\n"
          ]
        }
      ]
    },
    {
      "cell_type": "code",
      "source": [
        "# Get the first element from all rows\n",
        "a[:, 0]"
      ],
      "metadata": {
        "id": "vB6E2pEtUmI8",
        "colab": {
          "base_uri": "https://localhost:8080/"
        },
        "outputId": "3f97184c-11e0-43f2-8fe3-67caca8af450"
      },
      "execution_count": null,
      "outputs": [
        {
          "output_type": "execute_result",
          "data": {
            "text/plain": [
              "array([5.2, 9.1])"
            ]
          },
          "metadata": {},
          "execution_count": 118
        }
      ]
    },
    {
      "cell_type": "code",
      "source": [
        "# Transposing an array\n",
        "a.T"
      ],
      "metadata": {
        "id": "8IJyR42qVAjL",
        "colab": {
          "base_uri": "https://localhost:8080/"
        },
        "outputId": "c7bea799-7fb0-4603-df93-417917738faa"
      },
      "execution_count": null,
      "outputs": [
        {
          "output_type": "execute_result",
          "data": {
            "text/plain": [
              "array([[5.2, 9.1],\n",
              "       [3. , 0.1],\n",
              "       [4.5, 0.3]])"
            ]
          },
          "metadata": {},
          "execution_count": 119
        }
      ]
    },
    {
      "cell_type": "code",
      "source": [
        "a"
      ],
      "metadata": {
        "colab": {
          "base_uri": "https://localhost:8080/"
        },
        "id": "ZKdZ6qImB2CC",
        "outputId": "374ee16f-f0c2-40ee-e48c-3ad7799ba40d"
      },
      "execution_count": null,
      "outputs": [
        {
          "output_type": "execute_result",
          "data": {
            "text/plain": [
              "array([[5.2, 3. , 4.5],\n",
              "       [9.1, 0.1, 0.3]])"
            ]
          },
          "metadata": {},
          "execution_count": 120
        }
      ]
    },
    {
      "cell_type": "code",
      "source": [
        "# Get the elements along the diagonal.\n",
        "el_on_diag = np.diag(a)\n",
        "# Note: a 1D array is returned\n",
        "el_on_diag"
      ],
      "metadata": {
        "id": "U9qF2uLhVlMu",
        "colab": {
          "base_uri": "https://localhost:8080/"
        },
        "outputId": "cef50272-ae03-4fde-9647-efe3116588ba"
      },
      "execution_count": null,
      "outputs": [
        {
          "output_type": "execute_result",
          "data": {
            "text/plain": [
              "array([5.2, 0.1])"
            ]
          },
          "metadata": {},
          "execution_count": 121
        }
      ]
    },
    {
      "cell_type": "code",
      "source": [
        "# If you pass a 1D vector to np.diag, it creates a square matrix with those elements on the diagonal and 0s everywhere else.\n",
        "np.diag(el_on_diag)"
      ],
      "metadata": {
        "id": "Xd_1S_9TVygs",
        "colab": {
          "base_uri": "https://localhost:8080/"
        },
        "outputId": "2a552803-645c-43d8-b3c7-49915c29f68b"
      },
      "execution_count": null,
      "outputs": [
        {
          "output_type": "execute_result",
          "data": {
            "text/plain": [
              "array([[5.2, 0. ],\n",
              "       [0. , 0.1]])"
            ]
          },
          "metadata": {},
          "execution_count": 122
        }
      ]
    },
    {
      "cell_type": "code",
      "source": [
        "a = np.array([[1, 2, 3, 4], [5, 6, 7, 8]])\n",
        "a"
      ],
      "metadata": {
        "id": "X4Ox2iqQWEun",
        "colab": {
          "base_uri": "https://localhost:8080/"
        },
        "outputId": "00052ece-644e-461f-a457-ad9a275d10a5"
      },
      "execution_count": null,
      "outputs": [
        {
          "output_type": "execute_result",
          "data": {
            "text/plain": [
              "array([[1, 2, 3, 4],\n",
              "       [5, 6, 7, 8]])"
            ]
          },
          "metadata": {},
          "execution_count": 123
        }
      ]
    },
    {
      "cell_type": "code",
      "source": [
        "# How to get only 6 and 7?\n",
        "a[1, 1:3]"
      ],
      "metadata": {
        "id": "r2x8OKQfWl5C",
        "colab": {
          "base_uri": "https://localhost:8080/"
        },
        "outputId": "75087bae-0d50-4ccc-c6da-0408e3e73ca1"
      },
      "execution_count": null,
      "outputs": [
        {
          "output_type": "execute_result",
          "data": {
            "text/plain": [
              "array([6, 7])"
            ]
          },
          "metadata": {},
          "execution_count": 124
        }
      ]
    },
    {
      "cell_type": "code",
      "source": [
        "# How to get 8?\n",
        "print(a[1, -1])\n",
        "print(a[-1, -1])"
      ],
      "metadata": {
        "id": "XcS_4FJGW06o",
        "colab": {
          "base_uri": "https://localhost:8080/"
        },
        "outputId": "8a77d464-ca65-4189-eb23-21b20bbbcc32"
      },
      "execution_count": null,
      "outputs": [
        {
          "output_type": "stream",
          "name": "stdout",
          "text": [
            "8\n",
            "8\n"
          ]
        }
      ]
    },
    {
      "cell_type": "code",
      "source": [
        "a = np.array([[1, 2], [3, 4], [5, 6]])\n",
        "a, a.shape"
      ],
      "metadata": {
        "id": "sRqpt9etW2b3",
        "colab": {
          "base_uri": "https://localhost:8080/"
        },
        "outputId": "2e5a6b5c-4633-4193-9fad-4ed398b00e84"
      },
      "execution_count": null,
      "outputs": [
        {
          "output_type": "execute_result",
          "data": {
            "text/plain": [
              "(array([[1, 2],\n",
              "        [3, 4],\n",
              "        [5, 6]]), (3, 2))"
            ]
          },
          "metadata": {},
          "execution_count": 126
        }
      ]
    },
    {
      "cell_type": "code",
      "source": [
        "# Check whether the values are greater than 2\n",
        "a > 2"
      ],
      "metadata": {
        "id": "xdwWWLnBXGWk",
        "colab": {
          "base_uri": "https://localhost:8080/"
        },
        "outputId": "6108b753-b9c7-44e0-fc68-958d8d84b8a3"
      },
      "execution_count": null,
      "outputs": [
        {
          "output_type": "execute_result",
          "data": {
            "text/plain": [
              "array([[False, False],\n",
              "       [ True,  True],\n",
              "       [ True,  True]])"
            ]
          },
          "metadata": {},
          "execution_count": 127
        }
      ]
    },
    {
      "cell_type": "code",
      "source": [
        "# Get the values greater than 2\n",
        "# Note: The return value is 1D\n",
        "a[a > 2]"
      ],
      "metadata": {
        "id": "GHrMFUR2XOqE",
        "colab": {
          "base_uri": "https://localhost:8080/"
        },
        "outputId": "43cb4ded-047b-4dbe-ec44-1c4709932bc5"
      },
      "execution_count": null,
      "outputs": [
        {
          "output_type": "execute_result",
          "data": {
            "text/plain": [
              "array([3, 4, 5, 6])"
            ]
          },
          "metadata": {},
          "execution_count": 128
        }
      ]
    },
    {
      "cell_type": "code",
      "source": [
        "# Flatten an array in three ways\n",
        "print(a.ravel())\n",
        "print(a.flatten())\n",
        "print(a.reshape(-1))"
      ],
      "metadata": {
        "id": "K_tjLfp-ba0u",
        "colab": {
          "base_uri": "https://localhost:8080/"
        },
        "outputId": "b1f3091a-5760-49bf-bdb1-8ef305f9d6f0"
      },
      "execution_count": null,
      "outputs": [
        {
          "output_type": "stream",
          "name": "stdout",
          "text": [
            "[1 2 3 4 5 6]\n",
            "[1 2 3 4 5 6]\n",
            "[1 2 3 4 5 6]\n"
          ]
        }
      ]
    },
    {
      "cell_type": "code",
      "source": [
        "# Index using another array or list\n",
        "a = a.reshape(-1)\n",
        "b = [1, 3, 5]\n",
        "a[b]"
      ],
      "metadata": {
        "id": "bhN2f22F8SQx",
        "colab": {
          "base_uri": "https://localhost:8080/"
        },
        "outputId": "096863e8-6c95-422a-9b08-b494e07e4569"
      },
      "execution_count": null,
      "outputs": [
        {
          "output_type": "execute_result",
          "data": {
            "text/plain": [
              "array([2, 4, 6])"
            ]
          },
          "metadata": {},
          "execution_count": 130
        }
      ]
    },
    {
      "cell_type": "code",
      "source": [
        "# Note a[1, 3, 5] will not work, because we don't have enough dimensions\n",
        "# It will assume that we're getting the\n",
        "# element at idx 1 from the first dimension\n",
        "# from it the element at idx 3 from the second dimension, etc \n",
        "a[[1, 3, 5]]"
      ],
      "metadata": {
        "id": "J_fIepNa8WkE",
        "colab": {
          "base_uri": "https://localhost:8080/"
        },
        "outputId": "c5f1be64-fcdb-492c-be0d-aa294dccdda4"
      },
      "execution_count": null,
      "outputs": [
        {
          "output_type": "execute_result",
          "data": {
            "text/plain": [
              "array([2, 4, 6])"
            ]
          },
          "metadata": {},
          "execution_count": 131
        }
      ]
    },
    {
      "cell_type": "code",
      "source": [
        "# Substitute the values less than or equal to 2 with -1.\n",
        "# Analogous to the ternary operator.\n",
        "np.where(a <= 2, -1, a)"
      ],
      "metadata": {
        "id": "-nfoVuV7Xbwp",
        "colab": {
          "base_uri": "https://localhost:8080/"
        },
        "outputId": "5fd0188e-2890-45bf-dc84-fbde91b9b8da"
      },
      "execution_count": null,
      "outputs": [
        {
          "output_type": "execute_result",
          "data": {
            "text/plain": [
              "array([-1, -1,  3,  4,  5,  6])"
            ]
          },
          "metadata": {},
          "execution_count": 132
        }
      ]
    },
    {
      "cell_type": "code",
      "source": [
        "a[a <= 2] = -1\n",
        "a"
      ],
      "metadata": {
        "colab": {
          "base_uri": "https://localhost:8080/"
        },
        "id": "b3adkC4qDpaE",
        "outputId": "9a33304b-675c-4008-9eaa-a19a2c85a740"
      },
      "execution_count": null,
      "outputs": [
        {
          "output_type": "execute_result",
          "data": {
            "text/plain": [
              "array([-1, -1,  3,  4,  5,  6])"
            ]
          },
          "metadata": {},
          "execution_count": 133
        }
      ]
    },
    {
      "cell_type": "markdown",
      "source": [
        "## Reshape"
      ],
      "metadata": {
        "id": "Jeg-lb9IELKF"
      }
    },
    {
      "cell_type": "code",
      "source": [
        "# Generate an array with consecutive elements\n",
        "a = np.arange(1, 7)\n",
        "a, a.shape"
      ],
      "metadata": {
        "id": "qe9rLuZxZPNw",
        "colab": {
          "base_uri": "https://localhost:8080/"
        },
        "outputId": "86cfc118-351f-44da-ee23-017e762ca133"
      },
      "execution_count": null,
      "outputs": [
        {
          "output_type": "execute_result",
          "data": {
            "text/plain": [
              "(array([1, 2, 3, 4, 5, 6]), (6,))"
            ]
          },
          "metadata": {},
          "execution_count": 134
        }
      ]
    },
    {
      "cell_type": "code",
      "source": [
        "np.reshape(a, (2, 3))"
      ],
      "metadata": {
        "id": "AsA__ZlqZSlz",
        "colab": {
          "base_uri": "https://localhost:8080/"
        },
        "outputId": "16fe9ba8-0bc4-456d-eee1-30e80517cb3a"
      },
      "execution_count": null,
      "outputs": [
        {
          "output_type": "execute_result",
          "data": {
            "text/plain": [
              "array([[1, 2, 3],\n",
              "       [4, 5, 6]])"
            ]
          },
          "metadata": {},
          "execution_count": 135
        }
      ]
    },
    {
      "cell_type": "code",
      "source": [
        "a.reshape((2, 3))"
      ],
      "metadata": {
        "id": "pvQR3ogGZddY",
        "colab": {
          "base_uri": "https://localhost:8080/"
        },
        "outputId": "dd6f9d80-8946-470d-9313-0e96ce73e994"
      },
      "execution_count": null,
      "outputs": [
        {
          "output_type": "execute_result",
          "data": {
            "text/plain": [
              "array([[1, 2, 3],\n",
              "       [4, 5, 6]])"
            ]
          },
          "metadata": {},
          "execution_count": 136
        }
      ]
    },
    {
      "cell_type": "code",
      "source": [
        "# Note: The product of the new shapes must equal the initial shape!\n",
        "# a.reshape((5, 6))"
      ],
      "metadata": {
        "id": "KlMHOMv5Zj3_"
      },
      "execution_count": null,
      "outputs": []
    },
    {
      "cell_type": "code",
      "source": [
        "# numpy can guess a shape\n",
        "# Note: Use -1 only for one dimension\n",
        "np.reshape(a, (2, -1))"
      ],
      "metadata": {
        "id": "GzWrf7umZwmQ",
        "colab": {
          "base_uri": "https://localhost:8080/"
        },
        "outputId": "91ce1ff3-acf0-4c3e-ec33-8de4d6e07b57"
      },
      "execution_count": null,
      "outputs": [
        {
          "output_type": "execute_result",
          "data": {
            "text/plain": [
              "array([[1, 2, 3],\n",
              "       [4, 5, 6]])"
            ]
          },
          "metadata": {},
          "execution_count": 138
        }
      ]
    },
    {
      "cell_type": "markdown",
      "source": [
        "### Create a new dimension"
      ],
      "metadata": {
        "id": "k_aKdocp8wmt"
      }
    },
    {
      "cell_type": "code",
      "source": [
        "a, a.shape"
      ],
      "metadata": {
        "id": "mrz8n-qvZynh",
        "colab": {
          "base_uri": "https://localhost:8080/"
        },
        "outputId": "307a1939-3dfd-41c3-94ff-8fa7353fe484"
      },
      "execution_count": null,
      "outputs": [
        {
          "output_type": "execute_result",
          "data": {
            "text/plain": [
              "(array([1, 2, 3, 4, 5, 6]), (6,))"
            ]
          },
          "metadata": {},
          "execution_count": 139
        }
      ]
    },
    {
      "cell_type": "code",
      "source": [
        "a"
      ],
      "metadata": {
        "colab": {
          "base_uri": "https://localhost:8080/"
        },
        "id": "D0FLhbrQEw5g",
        "outputId": "d1c46b9f-c5f4-4025-9a75-549e0605131a"
      },
      "execution_count": null,
      "outputs": [
        {
          "output_type": "execute_result",
          "data": {
            "text/plain": [
              "array([1, 2, 3, 4, 5, 6])"
            ]
          },
          "metadata": {},
          "execution_count": 140
        }
      ]
    },
    {
      "cell_type": "code",
      "source": [
        "# Add a new dimension on the left\n",
        "a = a[np.newaxis, ...]\n",
        "a"
      ],
      "metadata": {
        "id": "AoM4TyPVZ8a5",
        "colab": {
          "base_uri": "https://localhost:8080/"
        },
        "outputId": "28eff062-29cd-43df-86a2-6ee926dd8e15"
      },
      "execution_count": null,
      "outputs": [
        {
          "output_type": "execute_result",
          "data": {
            "text/plain": [
              "array([[1, 2, 3, 4, 5, 6]])"
            ]
          },
          "metadata": {},
          "execution_count": 141
        }
      ]
    },
    {
      "cell_type": "code",
      "source": [
        "# Check the shape\n",
        "a.shape"
      ],
      "metadata": {
        "id": "3nSBl-i1Z_3g",
        "colab": {
          "base_uri": "https://localhost:8080/"
        },
        "outputId": "80a4dbaf-d751-4f55-f475-8d32339f53fa"
      },
      "execution_count": null,
      "outputs": [
        {
          "output_type": "execute_result",
          "data": {
            "text/plain": [
              "(1, 6)"
            ]
          },
          "metadata": {},
          "execution_count": 142
        }
      ]
    },
    {
      "cell_type": "code",
      "source": [
        "# Add a new dimension on the right\n",
        "a = a[..., np.newaxis]\n",
        "a"
      ],
      "metadata": {
        "id": "082iGULKaLpA",
        "colab": {
          "base_uri": "https://localhost:8080/"
        },
        "outputId": "248ddaa9-c36c-4ee1-df69-8533b2dd5e4c"
      },
      "execution_count": null,
      "outputs": [
        {
          "output_type": "execute_result",
          "data": {
            "text/plain": [
              "array([[[1],\n",
              "        [2],\n",
              "        [3],\n",
              "        [4],\n",
              "        [5],\n",
              "        [6]]])"
            ]
          },
          "metadata": {},
          "execution_count": 143
        }
      ]
    },
    {
      "cell_type": "code",
      "source": [
        "# Check the shape\n",
        "a.shape"
      ],
      "metadata": {
        "id": "qSDfRvsBaPxJ",
        "colab": {
          "base_uri": "https://localhost:8080/"
        },
        "outputId": "7b973e9f-1d40-4b99-d766-bc5842710155"
      },
      "execution_count": null,
      "outputs": [
        {
          "output_type": "execute_result",
          "data": {
            "text/plain": [
              "(1, 6, 1)"
            ]
          },
          "metadata": {},
          "execution_count": 144
        }
      ]
    },
    {
      "cell_type": "markdown",
      "source": [
        "## Concatenation"
      ],
      "metadata": {
        "id": "QfVUBREZEOR8"
      }
    },
    {
      "cell_type": "code",
      "source": [
        "a = np.reshape(np.arange(1, 5), (2, 2))\n",
        "a"
      ],
      "metadata": {
        "id": "IIXB1NwbaTzg",
        "colab": {
          "base_uri": "https://localhost:8080/"
        },
        "outputId": "40085677-7e2c-4484-b2da-9025da5a366d"
      },
      "execution_count": null,
      "outputs": [
        {
          "output_type": "execute_result",
          "data": {
            "text/plain": [
              "array([[1, 2],\n",
              "       [3, 4]])"
            ]
          },
          "metadata": {},
          "execution_count": 145
        }
      ]
    },
    {
      "cell_type": "code",
      "source": [
        "b = np.array([[5, 6]])\n",
        "b"
      ],
      "metadata": {
        "id": "MX1zLqT_aokX",
        "colab": {
          "base_uri": "https://localhost:8080/"
        },
        "outputId": "866232a9-4b84-44c6-abb4-67b4f8b5ccc0"
      },
      "execution_count": null,
      "outputs": [
        {
          "output_type": "execute_result",
          "data": {
            "text/plain": [
              "array([[5, 6]])"
            ]
          },
          "metadata": {},
          "execution_count": 146
        }
      ]
    },
    {
      "cell_type": "code",
      "source": [
        "# Concatenate along axis=0\n",
        "print(np.concatenate((a, b)))\n",
        "print(np.concatenate((a, b), axis=0))"
      ],
      "metadata": {
        "id": "J6HXkfugaui_",
        "colab": {
          "base_uri": "https://localhost:8080/"
        },
        "outputId": "e55e7ae1-86dc-4a7e-8a1d-494469782de9"
      },
      "execution_count": null,
      "outputs": [
        {
          "output_type": "stream",
          "name": "stdout",
          "text": [
            "[[1 2]\n",
            " [3 4]\n",
            " [5 6]]\n",
            "[[1 2]\n",
            " [3 4]\n",
            " [5 6]]\n"
          ]
        }
      ]
    },
    {
      "cell_type": "code",
      "source": [
        "# Axes must match exactly!\n",
        "# print(np.concatenate((a, b), axis=1))"
      ],
      "metadata": {
        "id": "N_8_bzSca_Bq"
      },
      "execution_count": null,
      "outputs": []
    },
    {
      "cell_type": "code",
      "source": [
        "# In order to add the new elements as a column, we must transpose\n",
        "c = np.concatenate((a, b.T), axis=1)\n",
        "c"
      ],
      "metadata": {
        "id": "r6abhNtMbOYw",
        "colab": {
          "base_uri": "https://localhost:8080/"
        },
        "outputId": "e37cbe8d-ef21-482c-c683-b807cfa2fc60"
      },
      "execution_count": null,
      "outputs": [
        {
          "output_type": "execute_result",
          "data": {
            "text/plain": [
              "array([[1, 2, 5],\n",
              "       [3, 4, 6]])"
            ]
          },
          "metadata": {},
          "execution_count": 150
        }
      ]
    },
    {
      "cell_type": "code",
      "source": [
        "# You can flatten the result\n",
        "c.reshape(-1)"
      ],
      "metadata": {
        "id": "AUZlLZcSa4Yc",
        "colab": {
          "base_uri": "https://localhost:8080/"
        },
        "outputId": "e7c722df-71e0-4672-d642-49fc79e4acaf"
      },
      "execution_count": null,
      "outputs": [
        {
          "output_type": "execute_result",
          "data": {
            "text/plain": [
              "array([1, 2, 5, 3, 4, 6])"
            ]
          },
          "metadata": {},
          "execution_count": 151
        }
      ]
    },
    {
      "cell_type": "markdown",
      "source": [
        "**hstack**: Add a new column"
      ],
      "metadata": {
        "id": "SwRsKt10bZfx"
      }
    },
    {
      "cell_type": "code",
      "source": [
        "a = np.array([1, 2, 3, 4])\n",
        "b = np.array([5, 6, 7, 8])\n",
        "\n",
        "np.hstack((a, b))"
      ],
      "metadata": {
        "id": "0DEUNUaNa5z3",
        "colab": {
          "base_uri": "https://localhost:8080/"
        },
        "outputId": "4dbe3e63-b505-429c-bb39-1c03b2647bed"
      },
      "execution_count": null,
      "outputs": [
        {
          "output_type": "execute_result",
          "data": {
            "text/plain": [
              "array([1, 2, 3, 4, 5, 6, 7, 8])"
            ]
          },
          "metadata": {},
          "execution_count": 100
        }
      ]
    },
    {
      "cell_type": "markdown",
      "source": [
        "**vstack**: Add a new row"
      ],
      "metadata": {
        "id": "L9NazhjEbedR"
      }
    },
    {
      "cell_type": "code",
      "source": [
        "np.vstack((a, b))"
      ],
      "metadata": {
        "id": "HK-s1xvZbkBV",
        "colab": {
          "base_uri": "https://localhost:8080/"
        },
        "outputId": "da62ac1c-ccde-44b1-eff3-315c7346707d"
      },
      "execution_count": null,
      "outputs": [
        {
          "output_type": "execute_result",
          "data": {
            "text/plain": [
              "array([[1, 2, 3, 4],\n",
              "       [5, 6, 7, 8]])"
            ]
          },
          "metadata": {},
          "execution_count": 101
        }
      ]
    },
    {
      "cell_type": "markdown",
      "source": [
        "## Broadcasting"
      ],
      "metadata": {
        "id": "mZHThTqIEQF8"
      }
    },
    {
      "cell_type": "markdown",
      "source": [
        "- a mechanism that allows numpy to work with arrays of different shapes"
      ],
      "metadata": {
        "id": "xaInkNO9Frf3"
      }
    },
    {
      "cell_type": "code",
      "source": [
        "x = np.array([[1, 2, 3], [4, 5, 6], [1, 2, 3], [4, 5, 6]])\n",
        "a = np.array([1, 0, 1])\n",
        "\n",
        "print(x)\n",
        "print(a)"
      ],
      "metadata": {
        "id": "-Vk_eZENb5vQ",
        "colab": {
          "base_uri": "https://localhost:8080/"
        },
        "outputId": "2e779bdd-cded-4838-c2b7-0d65d93eee4b"
      },
      "execution_count": null,
      "outputs": [
        {
          "output_type": "stream",
          "name": "stdout",
          "text": [
            "[[1 2 3]\n",
            " [4 5 6]\n",
            " [1 2 3]\n",
            " [4 5 6]]\n",
            "[1 0 1]\n"
          ]
        }
      ]
    },
    {
      "cell_type": "code",
      "source": [
        "x.shape"
      ],
      "metadata": {
        "id": "HZrG2zLT9le_",
        "colab": {
          "base_uri": "https://localhost:8080/"
        },
        "outputId": "a929c01b-9812-45f2-eb39-4d74f6988a90"
      },
      "execution_count": null,
      "outputs": [
        {
          "output_type": "execute_result",
          "data": {
            "text/plain": [
              "(4, 3)"
            ]
          },
          "metadata": {},
          "execution_count": 179
        }
      ]
    },
    {
      "cell_type": "code",
      "source": [
        "a.shape"
      ],
      "metadata": {
        "id": "fIqiz67Q9mus",
        "colab": {
          "base_uri": "https://localhost:8080/"
        },
        "outputId": "7c907dcf-c98a-469f-a670-9a805624750e"
      },
      "execution_count": null,
      "outputs": [
        {
          "output_type": "execute_result",
          "data": {
            "text/plain": [
              "(3,)"
            ]
          },
          "metadata": {},
          "execution_count": 180
        }
      ]
    },
    {
      "cell_type": "code",
      "source": [
        "# Technically, we should have the same shape on both arrays, but numpy can automatically create it for us.\n",
        "x + a"
      ],
      "metadata": {
        "id": "EdP2DTvPcHRL",
        "colab": {
          "base_uri": "https://localhost:8080/"
        },
        "outputId": "cf06731e-ae52-47db-b079-25ce54dcf7fb"
      },
      "execution_count": null,
      "outputs": [
        {
          "output_type": "execute_result",
          "data": {
            "text/plain": [
              "array([[2, 2, 4],\n",
              "       [5, 5, 7],\n",
              "       [2, 2, 4],\n",
              "       [5, 5, 7]])"
            ]
          },
          "metadata": {},
          "execution_count": 181
        }
      ]
    },
    {
      "cell_type": "markdown",
      "source": [
        "## Data Science Functions and Axes"
      ],
      "metadata": {
        "id": "WmUi-Aq3ESGc"
      }
    },
    {
      "cell_type": "code",
      "source": [
        "a = np.reshape(np.arange(7, 25), (2, -1))\n",
        "a"
      ],
      "metadata": {
        "id": "PTPAvg2AcdIh",
        "colab": {
          "base_uri": "https://localhost:8080/"
        },
        "outputId": "c9586505-ea98-4ae3-cdda-ff86a2d82e33"
      },
      "execution_count": null,
      "outputs": [
        {
          "output_type": "execute_result",
          "data": {
            "text/plain": [
              "array([[ 7,  8,  9, 10, 11, 12, 13, 14, 15],\n",
              "       [16, 17, 18, 19, 20, 21, 22, 23, 24]])"
            ]
          },
          "metadata": {},
          "execution_count": 183
        }
      ]
    },
    {
      "cell_type": "code",
      "source": [
        "# Get the sum of all elements\n",
        "print(np.sum(a))\n",
        "print(np.sum(a, axis=None))\n",
        "print(a.sum())\n",
        "print(a.sum(axis=None))"
      ],
      "metadata": {
        "id": "N6PKozRMcuG6",
        "colab": {
          "base_uri": "https://localhost:8080/"
        },
        "outputId": "a26529aa-86e0-4eef-e266-3b4fd06d723a"
      },
      "execution_count": null,
      "outputs": [
        {
          "output_type": "stream",
          "name": "stdout",
          "text": [
            "279\n",
            "279\n",
            "279\n",
            "279\n"
          ]
        }
      ]
    },
    {
      "cell_type": "code",
      "source": [
        "print(np.sum(a, axis=0)) # Squish the rows (first dim)\n",
        "print(np.sum(a, axis=1)) # Squish the cols (second dim)\n",
        "print(np.sum(a, axis=-1)) # Squish the last dimension (in this case the cols)"
      ],
      "metadata": {
        "id": "hbMP_mbCc4c5",
        "colab": {
          "base_uri": "https://localhost:8080/"
        },
        "outputId": "1174496c-248b-4ed4-d8e6-e5421297995b"
      },
      "execution_count": null,
      "outputs": [
        {
          "output_type": "stream",
          "name": "stdout",
          "text": [
            "[23 25 27 29 31 33 35 37 39]\n",
            "[ 99 180]\n",
            "[ 99 180]\n"
          ]
        }
      ]
    },
    {
      "cell_type": "code",
      "source": [
        "print(np.mean(a, axis=None))\n",
        "print(np.mean(a, axis=0))\n",
        "print(np.mean(a, axis=1))"
      ],
      "metadata": {
        "id": "ENnwLXf_dTJP",
        "colab": {
          "base_uri": "https://localhost:8080/"
        },
        "outputId": "1bfce14d-35ff-4673-ae09-9cad48e72c1a"
      },
      "execution_count": null,
      "outputs": [
        {
          "output_type": "stream",
          "name": "stdout",
          "text": [
            "15.5\n",
            "[11.5 12.5 13.5 14.5 15.5 16.5 17.5 18.5 19.5]\n",
            "[11. 20.]\n"
          ]
        }
      ]
    },
    {
      "cell_type": "code",
      "source": [
        "print(np.var(a, axis=None))\n",
        "print(np.var(a, axis=0))\n",
        "print(np.var(a, axis=1))"
      ],
      "metadata": {
        "id": "PcGTF2auddfr",
        "colab": {
          "base_uri": "https://localhost:8080/"
        },
        "outputId": "2b9209a2-a467-408e-825d-49ffd4df47a0"
      },
      "execution_count": null,
      "outputs": [
        {
          "output_type": "stream",
          "name": "stdout",
          "text": [
            "26.916666666666668\n",
            "[20.25 20.25 20.25 20.25 20.25 20.25 20.25 20.25 20.25]\n",
            "[6.66666667 6.66666667]\n"
          ]
        }
      ]
    },
    {
      "cell_type": "code",
      "source": [
        "print(np.std(a, axis=None))\n",
        "print(np.std(a, axis=0))\n",
        "print(np.std(a, axis=1))"
      ],
      "metadata": {
        "id": "wNaHnpE_du9s",
        "colab": {
          "base_uri": "https://localhost:8080/"
        },
        "outputId": "e24e13f6-8ba4-43cd-d288-fce107faf240"
      },
      "execution_count": null,
      "outputs": [
        {
          "output_type": "stream",
          "name": "stdout",
          "text": [
            "5.188127472091127\n",
            "[4.5 4.5 4.5 4.5 4.5 4.5 4.5 4.5 4.5]\n",
            "[2.5819889 2.5819889]\n"
          ]
        }
      ]
    },
    {
      "cell_type": "code",
      "source": [
        "print(np.min(a))\n",
        "print(np.min(a, axis=0))\n",
        "print(np.min(a, axis=1))"
      ],
      "metadata": {
        "id": "oqt0IOozd4yP",
        "colab": {
          "base_uri": "https://localhost:8080/"
        },
        "outputId": "44af515d-eebe-40b4-c35a-0820845e8af0"
      },
      "execution_count": null,
      "outputs": [
        {
          "output_type": "stream",
          "name": "stdout",
          "text": [
            "7\n",
            "[ 7  8  9 10 11 12 13 14 15]\n",
            "[ 7 16]\n"
          ]
        }
      ]
    },
    {
      "cell_type": "code",
      "source": [
        "print(np.max(a, axis=None))\n",
        "print(np.max(a, axis=0))\n",
        "print(np.max(a, axis=1))"
      ],
      "metadata": {
        "id": "-Dxj9e7Hd7LU",
        "colab": {
          "base_uri": "https://localhost:8080/"
        },
        "outputId": "fd07dee1-771d-4f94-974a-606cee5dc524"
      },
      "execution_count": null,
      "outputs": [
        {
          "output_type": "stream",
          "name": "stdout",
          "text": [
            "24\n",
            "[16 17 18 19 20 21 22 23 24]\n",
            "[15 24]\n"
          ]
        }
      ]
    },
    {
      "cell_type": "markdown",
      "source": [
        "## Datatypes"
      ],
      "metadata": {
        "id": "iQ3QDNXYEXFO"
      }
    },
    {
      "cell_type": "code",
      "source": [
        "x = np.array([1, 2])\n",
        "x"
      ],
      "metadata": {
        "id": "u1vptFMYeBbF",
        "colab": {
          "base_uri": "https://localhost:8080/"
        },
        "outputId": "fe936b76-ddd6-4bf8-fdab-b960bfe79431"
      },
      "execution_count": null,
      "outputs": [
        {
          "output_type": "execute_result",
          "data": {
            "text/plain": [
              "array([1, 2])"
            ]
          },
          "metadata": {},
          "execution_count": 164
        }
      ]
    },
    {
      "cell_type": "code",
      "source": [
        "# If no `.` are used, the elements in the array get allocated as 64 bit intergers.\n",
        "x.dtype"
      ],
      "metadata": {
        "id": "Rom-CeMeeEVz",
        "colab": {
          "base_uri": "https://localhost:8080/"
        },
        "outputId": "e80f17c5-7736-45b1-fe43-202f93b2dd31"
      },
      "execution_count": null,
      "outputs": [
        {
          "output_type": "execute_result",
          "data": {
            "text/plain": [
              "dtype('int64')"
            ]
          },
          "metadata": {},
          "execution_count": 165
        }
      ]
    },
    {
      "cell_type": "code",
      "source": [
        "x = np.array([1., 2])\n",
        "x"
      ],
      "metadata": {
        "id": "aoKhzZcbeF4t",
        "colab": {
          "base_uri": "https://localhost:8080/"
        },
        "outputId": "8d0d17b7-fa6d-4bfb-aaf1-a89e9d984d5e"
      },
      "execution_count": null,
      "outputs": [
        {
          "output_type": "execute_result",
          "data": {
            "text/plain": [
              "array([1., 2.])"
            ]
          },
          "metadata": {},
          "execution_count": 166
        }
      ]
    },
    {
      "cell_type": "code",
      "source": [
        "# If at least one `.` is used, the elements in the array get allocated as 64 bit floats.\n",
        "x.dtype"
      ],
      "metadata": {
        "id": "2M7XUk9QebKd",
        "colab": {
          "base_uri": "https://localhost:8080/"
        },
        "outputId": "71de0a5c-e929-4832-ab9b-ad9daa980a57"
      },
      "execution_count": null,
      "outputs": [
        {
          "output_type": "execute_result",
          "data": {
            "text/plain": [
              "dtype('float64')"
            ]
          },
          "metadata": {},
          "execution_count": 167
        }
      ]
    },
    {
      "cell_type": "code",
      "source": [
        "# We can also enforce the type\n",
        "x = np.array([1., 2], dtype=np.int32)\n",
        "x"
      ],
      "metadata": {
        "id": "F-XKbSMRecjU",
        "colab": {
          "base_uri": "https://localhost:8080/"
        },
        "outputId": "eeb0268c-7c27-44d7-8fd8-bd7790497f9c"
      },
      "execution_count": null,
      "outputs": [
        {
          "output_type": "execute_result",
          "data": {
            "text/plain": [
              "array([1, 2], dtype=int32)"
            ]
          },
          "metadata": {},
          "execution_count": 168
        }
      ]
    },
    {
      "cell_type": "code",
      "source": [
        "x = np.array([1, 2], dtype=np.float32)\n",
        "x"
      ],
      "metadata": {
        "id": "5zMux2bBe0_m",
        "colab": {
          "base_uri": "https://localhost:8080/"
        },
        "outputId": "8023909e-f3ed-4f64-ec45-af3aee922352"
      },
      "execution_count": null,
      "outputs": [
        {
          "output_type": "execute_result",
          "data": {
            "text/plain": [
              "array([1., 2.], dtype=float32)"
            ]
          },
          "metadata": {},
          "execution_count": 169
        }
      ]
    },
    {
      "cell_type": "markdown",
      "source": [
        "## Copying"
      ],
      "metadata": {
        "id": "1eWSgrQlEZQU"
      }
    },
    {
      "cell_type": "code",
      "source": [
        "# Using `=` only results in copying by reference.\n",
        "a = np.array([1, 2, 3])\n",
        "b = a\n",
        "b[0] = 42\n",
        "\n",
        "print(f'a={a}')\n",
        "print(f'b={b}')"
      ],
      "metadata": {
        "id": "bJJ_WeXhPPSV",
        "colab": {
          "base_uri": "https://localhost:8080/"
        },
        "outputId": "c47dccb3-624e-491f-f158-c7f3aca243d5"
      },
      "execution_count": null,
      "outputs": [
        {
          "output_type": "stream",
          "name": "stdout",
          "text": [
            "a=[42  2  3]\n",
            "b=[42  2  3]\n"
          ]
        }
      ]
    },
    {
      "cell_type": "code",
      "source": [
        "a = np.array([1, 2, 3])\n",
        "# b = np.copy(a)\n",
        "b = a.copy() # same as `a.copy()`\n",
        "b[0] = 42\n",
        "\n",
        "print(f'a={a}')\n",
        "print(f'b={b}')"
      ],
      "metadata": {
        "id": "JtrLORNbPlVE",
        "colab": {
          "base_uri": "https://localhost:8080/"
        },
        "outputId": "1e9079f2-f462-4201-ee63-ef37fb9d5ffd"
      },
      "execution_count": null,
      "outputs": [
        {
          "output_type": "stream",
          "name": "stdout",
          "text": [
            "a=[1 2 3]\n",
            "b=[42  2  3]\n"
          ]
        }
      ]
    },
    {
      "cell_type": "markdown",
      "source": [
        "## Generating arrays"
      ],
      "metadata": {
        "id": "r-lvnoD3Eah0"
      }
    },
    {
      "cell_type": "code",
      "source": [
        "# Generate zeros in a specified shape\n",
        "np.zeros((2, 3))"
      ],
      "metadata": {
        "id": "pibKh0qfP85S",
        "colab": {
          "base_uri": "https://localhost:8080/"
        },
        "outputId": "53cf83a1-91c3-40ec-a748-109a3c7055d2"
      },
      "execution_count": null,
      "outputs": [
        {
          "output_type": "execute_result",
          "data": {
            "text/plain": [
              "array([[0., 0., 0.],\n",
              "       [0., 0., 0.]])"
            ]
          },
          "metadata": {},
          "execution_count": 189
        }
      ]
    },
    {
      "cell_type": "code",
      "source": [
        "np.zeros((2, 3), dtype=np.int32)"
      ],
      "metadata": {
        "colab": {
          "base_uri": "https://localhost:8080/"
        },
        "id": "FHXRhsb9Izmb",
        "outputId": "39fdada5-244d-4e62-dfb2-84e2dd09c2a9"
      },
      "execution_count": null,
      "outputs": [
        {
          "output_type": "execute_result",
          "data": {
            "text/plain": [
              "array([[0, 0, 0],\n",
              "       [0, 0, 0]], dtype=int32)"
            ]
          },
          "metadata": {},
          "execution_count": 190
        }
      ]
    },
    {
      "cell_type": "code",
      "source": [
        "# Same but for ones\n",
        "a = np.ones((2, 3))\n",
        "a"
      ],
      "metadata": {
        "id": "Toc7OXuHQCCF",
        "colab": {
          "base_uri": "https://localhost:8080/"
        },
        "outputId": "3752e493-73ef-48da-da5a-cadaa8a406b0"
      },
      "execution_count": null,
      "outputs": [
        {
          "output_type": "execute_result",
          "data": {
            "text/plain": [
              "array([[1., 1., 1.],\n",
              "       [1., 1., 1.]])"
            ]
          },
          "metadata": {},
          "execution_count": 191
        }
      ]
    },
    {
      "cell_type": "code",
      "source": [
        "# Note: The default value type is float!\n",
        "a.dtype"
      ],
      "metadata": {
        "id": "phshhAWOQGaL",
        "colab": {
          "base_uri": "https://localhost:8080/"
        },
        "outputId": "784b9cf7-1b8a-4fad-886a-516c7bb67c7d"
      },
      "execution_count": null,
      "outputs": [
        {
          "output_type": "execute_result",
          "data": {
            "text/plain": [
              "dtype('float64')"
            ]
          },
          "metadata": {},
          "execution_count": 192
        }
      ]
    },
    {
      "cell_type": "code",
      "source": [
        "# If you want to have an array of elements all with a certain value, use `np.full()`:\n",
        "np.full((2, 3), 42, dtype=np.float32)"
      ],
      "metadata": {
        "id": "g94m8j2CQWfd",
        "colab": {
          "base_uri": "https://localhost:8080/"
        },
        "outputId": "29185f1d-d6d6-423d-f47e-6cbbc9d7a09e"
      },
      "execution_count": null,
      "outputs": [
        {
          "output_type": "execute_result",
          "data": {
            "text/plain": [
              "array([[42., 42., 42.],\n",
              "       [42., 42., 42.]], dtype=float32)"
            ]
          },
          "metadata": {},
          "execution_count": 193
        }
      ]
    },
    {
      "cell_type": "code",
      "source": [
        "# Generate the identity matrix\n",
        "np.eye(3)"
      ],
      "metadata": {
        "id": "pftVxQ_PQpR2",
        "colab": {
          "base_uri": "https://localhost:8080/"
        },
        "outputId": "61ee3a31-a989-494f-c702-93290072169d"
      },
      "execution_count": null,
      "outputs": [
        {
          "output_type": "execute_result",
          "data": {
            "text/plain": [
              "array([[1., 0., 0.],\n",
              "       [0., 1., 0.],\n",
              "       [0., 0., 1.]])"
            ]
          },
          "metadata": {},
          "execution_count": 194
        }
      ]
    },
    {
      "cell_type": "code",
      "source": [
        "np.arange(5, 101)"
      ],
      "metadata": {
        "id": "kiGEB9oSQ8nL",
        "colab": {
          "base_uri": "https://localhost:8080/"
        },
        "outputId": "ddf4a575-4f7c-4d55-9bf9-069051aeb8b0"
      },
      "execution_count": null,
      "outputs": [
        {
          "output_type": "execute_result",
          "data": {
            "text/plain": [
              "array([  5,   6,   7,   8,   9,  10,  11,  12,  13,  14,  15,  16,  17,\n",
              "        18,  19,  20,  21,  22,  23,  24,  25,  26,  27,  28,  29,  30,\n",
              "        31,  32,  33,  34,  35,  36,  37,  38,  39,  40,  41,  42,  43,\n",
              "        44,  45,  46,  47,  48,  49,  50,  51,  52,  53,  54,  55,  56,\n",
              "        57,  58,  59,  60,  61,  62,  63,  64,  65,  66,  67,  68,  69,\n",
              "        70,  71,  72,  73,  74,  75,  76,  77,  78,  79,  80,  81,  82,\n",
              "        83,  84,  85,  86,  87,  88,  89,  90,  91,  92,  93,  94,  95,\n",
              "        96,  97,  98,  99, 100])"
            ]
          },
          "metadata": {},
          "execution_count": 195
        }
      ]
    },
    {
      "cell_type": "code",
      "source": [
        "# Get an array of equally spaced numbers\n",
        "np.linspace(0, 10, 5)"
      ],
      "metadata": {
        "id": "Biog-u2XQ-V2",
        "colab": {
          "base_uri": "https://localhost:8080/"
        },
        "outputId": "afc4f8ca-d3d3-46bb-aef9-e0930b282626"
      },
      "execution_count": null,
      "outputs": [
        {
          "output_type": "execute_result",
          "data": {
            "text/plain": [
              "array([ 0. ,  2.5,  5. ,  7.5, 10. ])"
            ]
          },
          "metadata": {},
          "execution_count": 196
        }
      ]
    },
    {
      "cell_type": "markdown",
      "source": [
        "## Random numbers"
      ],
      "metadata": {
        "id": "9XpIm0udEdTE"
      }
    },
    {
      "cell_type": "code",
      "source": [
        "# Sample numbers from the uniform distribution between 0 and 1.\n",
        "np.random.random((5, 2))"
      ],
      "metadata": {
        "id": "OZa0a78QRZLy",
        "colab": {
          "base_uri": "https://localhost:8080/"
        },
        "outputId": "67343c92-0465-4eb2-a2aa-7cef292240be"
      },
      "execution_count": null,
      "outputs": [
        {
          "output_type": "execute_result",
          "data": {
            "text/plain": [
              "array([[0.55170886, 0.36744799],\n",
              "       [0.14491221, 0.7833791 ],\n",
              "       [0.34117847, 0.20446458],\n",
              "       [0.20330215, 0.78932258],\n",
              "       [0.99397061, 0.96693583]])"
            ]
          },
          "metadata": {},
          "execution_count": 197
        }
      ]
    },
    {
      "cell_type": "code",
      "source": [
        "a = np.random.random(10000)\n",
        "print(np.mean(a)) # Mean is (a+b) / 2\n",
        "print(np.var(a)) # Variance is (b-a)^2 / 12\n",
        "print(1/12)"
      ],
      "metadata": {
        "id": "NF6iuLeTSx8V",
        "colab": {
          "base_uri": "https://localhost:8080/"
        },
        "outputId": "ceba2588-4a29-4aec-b660-9a533dd1360c"
      },
      "execution_count": null,
      "outputs": [
        {
          "output_type": "stream",
          "name": "stdout",
          "text": [
            "0.4995239586336188\n",
            "0.08262813587873413\n",
            "0.08333333333333333\n"
          ]
        }
      ]
    },
    {
      "cell_type": "code",
      "source": [
        "# Sample numbers from the standard normal distribution.\n",
        "np.random.randn(5)"
      ],
      "metadata": {
        "id": "Ys3r9R95RjWI",
        "colab": {
          "base_uri": "https://localhost:8080/"
        },
        "outputId": "89c09a9c-126c-4a19-f78b-4e9ab6cae0fa"
      },
      "execution_count": null,
      "outputs": [
        {
          "output_type": "execute_result",
          "data": {
            "text/plain": [
              "array([ 0.33085627,  0.3921214 , -0.41096262, -0.31086236, -0.67623644])"
            ]
          },
          "metadata": {},
          "execution_count": 199
        }
      ]
    },
    {
      "cell_type": "code",
      "source": [
        "# Note: Each dimension has be a separate argument!\n",
        "# a = np.random.randn((5, 2)) # Will not work, because dimensions are a tuple.\n",
        "a = np.random.randn(10).reshape((5, 2))\n",
        "a"
      ],
      "metadata": {
        "id": "t9SBw9oaSVf-",
        "colab": {
          "base_uri": "https://localhost:8080/"
        },
        "outputId": "6fb0c91b-308a-4f55-caa9-e93595d5e0bc"
      },
      "execution_count": null,
      "outputs": [
        {
          "output_type": "execute_result",
          "data": {
            "text/plain": [
              "array([[-0.87883487, -0.33558881],\n",
              "       [ 1.42692404,  0.383609  ],\n",
              "       [-0.6685725 ,  0.72681509],\n",
              "       [-0.91004897,  1.4862225 ],\n",
              "       [ 1.63329621,  0.44020223]])"
            ]
          },
          "metadata": {},
          "execution_count": 200
        }
      ]
    },
    {
      "cell_type": "code",
      "source": [
        "np.random.randn(5, 2)"
      ],
      "metadata": {
        "colab": {
          "base_uri": "https://localhost:8080/"
        },
        "id": "DNP6QmcnKZF4",
        "outputId": "6ae30677-0b6d-44f7-980b-70029c582a96"
      },
      "execution_count": null,
      "outputs": [
        {
          "output_type": "execute_result",
          "data": {
            "text/plain": [
              "array([[ 1.22359584, -0.32824495],\n",
              "       [-0.2691076 , -0.05365897],\n",
              "       [-0.77556713, -0.00804016],\n",
              "       [ 1.15047101, -0.38999238],\n",
              "       [-1.17629154, -0.98887078]])"
            ]
          },
          "metadata": {},
          "execution_count": 201
        }
      ]
    },
    {
      "cell_type": "code",
      "source": [
        "a = np.random.randn(10000)\n",
        "print(np.mean(a))\n",
        "print(np.var(a))"
      ],
      "metadata": {
        "id": "jIynDETzSnCB",
        "colab": {
          "base_uri": "https://localhost:8080/"
        },
        "outputId": "6c9b0f76-e4c8-44c2-afbc-89f776a41b34"
      },
      "execution_count": null,
      "outputs": [
        {
          "output_type": "stream",
          "name": "stdout",
          "text": [
            "0.007875454258887665\n",
            "1.001358346883476\n"
          ]
        }
      ]
    },
    {
      "cell_type": "code",
      "source": [
        "# Generate a random integer\n",
        "# in the interval [0, 9]\n",
        "print(np.random.randint(10))\n",
        "\n",
        "# in the interval [3, 9]\n",
        "print(np.random.randint(3, 10))\n",
        "\n",
        "# 3x3 matrix with values from the interval [42, 68]\n",
        "print(np.random.randint(41, 69, size=(3,3)))"
      ],
      "metadata": {
        "id": "QLyTlBrMTn_x",
        "colab": {
          "base_uri": "https://localhost:8080/"
        },
        "outputId": "48c4a944-3193-4050-b4a7-fe672a83d21c"
      },
      "execution_count": null,
      "outputs": [
        {
          "output_type": "stream",
          "name": "stdout",
          "text": [
            "2\n",
            "8\n",
            "[[66 65 57]\n",
            " [48 67 67]\n",
            " [52 50 58]]\n"
          ]
        }
      ]
    },
    {
      "cell_type": "code",
      "source": [
        "# Sample random elements from an array\n",
        "# random elements with replacement from the interval [0, 4]\n",
        "print(np.random.choice(5, size=10))\n",
        "\n",
        "# random elements with replacement from an array\n",
        "print(np.random.choice(a, size=10))\n",
        "\n",
        "# random elements with replacement from a list\n",
        "print(np.random.choice([1, 2, 3], size=10))"
      ],
      "metadata": {
        "id": "lLY2GY-WUGfV",
        "colab": {
          "base_uri": "https://localhost:8080/"
        },
        "outputId": "f9551a20-2f08-49ad-8c8f-960e833cc2e6"
      },
      "execution_count": null,
      "outputs": [
        {
          "output_type": "stream",
          "name": "stdout",
          "text": [
            "[3 4 4 1 4 3 1 0 0 1]\n",
            "[-1.01401758  0.29479999 -0.12733891  1.0053528  -0.25651692 -2.72577909\n",
            " -0.42410709  0.83501539 -0.41025931 -0.59572304]\n",
            "[3 1 2 3 2 2 3 3 3 3]\n"
          ]
        }
      ]
    },
    {
      "cell_type": "markdown",
      "source": [
        "# Hello, Machine Learning!"
      ],
      "metadata": {
        "id": "_n9OpLZPy3lu"
      }
    },
    {
      "cell_type": "markdown",
      "source": [
        "Definition for **artificial intelligence**: Simulating human knowledge and decision making with computers."
      ],
      "metadata": {
        "id": "BFYTTlRFSBPT"
      }
    },
    {
      "cell_type": "markdown",
      "source": [
        "![Map of AI](https://raw.githubusercontent.com/SimeonHristov99/ML_21-22/f9550c86a953a71695695a06e582b3fdc576b9b3/Week_01%20-%20Hello,%20Python!/assets/map_of_ai.png)"
      ],
      "metadata": {
        "id": "VUXgtEAZnsP-"
      }
    },
    {
      "cell_type": "markdown",
      "source": [
        "Definitions for **machine learning**:\n",
        "\n",
        "*   The ability of machines to predict outcomes without being explicitly programmed to do so.\n",
        "*   Creating algorithms that let machines receive data and use this data to:\n",
        "    - make predictions\n",
        "    - analyse patterns\n",
        "    - give recommendations"
      ],
      "metadata": {
        "id": "CVySk-dxol8u"
      }
    },
    {
      "cell_type": "markdown",
      "source": [
        "![Map of AI](https://raw.githubusercontent.com/SimeonHristov99/ML_21-22/f9550c86a953a71695695a06e582b3fdc576b9b3/Week_01%20-%20Hello,%20Python!/assets/map_of_ml.png)"
      ],
      "metadata": {
        "id": "47i7wmJXoHfo"
      }
    },
    {
      "cell_type": "markdown",
      "source": [
        "### **The three major types of Machine Learning Problems**\n",
        "\n",
        "\n",
        "**Classification**: divide samples into predefined groups\n",
        "- email classification (spam vs non-spam) (binary classification)\n",
        "- animal classification (cat vs dog) (binary classification)\n",
        "- digit classification (multiclass classification)\n",
        "\n",
        "**Regression**: predict value of a given sample\n",
        "- house price prediction\n",
        "- likelihood of cancer\n",
        "- stock prediction\n",
        "\n",
        "**Clustering**: divide samples into groups (that are not predefined)\n",
        "- customer segmentation\n",
        "- anomaly detection"
      ],
      "metadata": {
        "id": "4EfKeE5Oia46"
      }
    },
    {
      "cell_type": "markdown",
      "source": [
        "Every type of problem has samples that can be represented as a collection of **features**:\n",
        "\n",
        "$$ sample1 = [feature1, feature2 .. featureN] $$\n",
        "$$ sample2 = [feature1, feature2 .. featureN] $$\n",
        "$$ sample3 = [feature1, feature2 .. featureN] $$\n",
        "$$ ... $$\n",
        "$$ sampleM = [feature1, feature2 .. featureN] $$\n",
        "\n",
        "**features** = independent quantities that represent a characteristic of sample data"
      ],
      "metadata": {
        "id": "kUDT7Xy8ikrP"
      }
    },
    {
      "cell_type": "markdown",
      "source": [
        "Example: **Predict House Price**\n",
        "\n",
        "- Goal: \\$300,000, \\$400,000, \\$401,000\n",
        "\n",
        "- What kind of problem is this? Regression\n",
        "\n",
        "- Characteristics of House that determine Prices? Size, Location\n",
        "\n",
        "> \"30 sq. House in NYC\" -> [30 sq, NYC] -> [30, 100] (since all have to measure quantity)\n",
        "\n",
        "> \"50 sq. House in Kansas City\" -> [50, 74.04]\n",
        "\n",
        "- There are numerous features that can determine the price. It's up to us (and sometimes to the model) to figure out which are relevant and which not."
      ],
      "metadata": {
        "id": "8QHm2LGhixH3"
      }
    },
    {
      "cell_type": "markdown",
      "source": [
        "**Scaling values**\n",
        "\n",
        "> [No. of Squares] -> [0 - 70]\n",
        "\n",
        "> [zip code] -> [0 - 150]\n",
        "\n",
        "They are on different scales. We want all features to be weighted equally\n",
        "\n",
        "> **Problem**: Greater the variance, greater the importance.\n",
        "\n",
        "Solution: feature scaling to bring the values to a common range. Often the range is:\n",
        "- [0, 1] (x - xmin) / (xmax - xmin)\n",
        "- [-1, 1] (standard normal distribution).\n",
        "\n",
        "> [30, 100] -> [0.43, 0.67]\n",
        "\n",
        "> [50, 74.04] -> [0.71, 0.49]\n",
        "\n",
        "Perfect! Now we can send this data to a model!"
      ],
      "metadata": {
        "id": "KbxuIehJjwsR"
      }
    },
    {
      "cell_type": "markdown",
      "source": [
        "### **The three major types of Machine Learning Algorithms**\n",
        "\n",
        "**Supervised learning**: Making predictions using data with the outputs provided.\n",
        "    \n",
        "- Example: Is a given email \"spam\" or \"ham\"?\n",
        "- There is an outcome we are trying to predict\n",
        "- (input, correct output)\n",
        "\n",
        "**Unsupervised learning**: Extracting structure from data.\n",
        "\n",
        "- Example: Segment grocery store shoppers into clusters that exhibit similar behaviors\n",
        "- There is no \"right answer\" (there are no outputs).\n",
        "- (input, ?)\n",
        "\n",
        "**Reinforcement / Semi-supervised learning**: Learning through trial and error.\n",
        "\n",
        "- (input, some output, grade for this output)\n",
        "- the model makes an action\n",
        "- we tell it how `good` that action is\n",
        "- main application is playing games"
      ],
      "metadata": {
        "id": "ModMdLErlJyS"
      }
    },
    {
      "cell_type": "markdown",
      "source": [
        "**Supervised Learning**\n",
        "\n",
        "- Solves Classification and Regression problems\n",
        "- in regression: labels are House Prices\n",
        "- in classification: labels are categories (dogs, cats)\n",
        "\n",
        "\n",
        "    here's a set of features for sample house 1. here's its price. learn it\n",
        "    here's a set of features for sample house 2. here's its price. learn it\n",
        "    here's a set of features for sample house 3. here's its price. learn it\n",
        "    ...\n",
        "\n",
        "After the model has seen for ex. 1000 samples, it should be able to predict (give a good estimate for) the price for an unseen house.\n",
        "\n",
        "Possible algorithms: Logistic regression, Linear regression, KNN, Decision Trees, Random Forests, SVMs, Neural Networks, etc"
      ],
      "metadata": {
        "id": "l59D2X9hmPLP"
      }
    },
    {
      "cell_type": "markdown",
      "source": [
        "The primary goal of supervised learning is to build a model that \"generalizes\", i.e. it accurately predicts the **future** rather than the **past**!"
      ],
      "metadata": {
        "id": "ToGk01xuqy5h"
      }
    },
    {
      "cell_type": "markdown",
      "source": [
        "**Unsupervised Learning**\n",
        "\n",
        "- Solves Clustering problems\n",
        "- Categorize 1000 Articles by topic\n",
        "- Hypothetical labels: sports, music, politics, ...\n",
        "- features: frequency of every word (each constituting a feature)\n",
        "  - each sample will hold how many times we've seen every word\n",
        "- 1000 articles, 100,000 unique total words. Thus, 100,000 features\n",
        "\n",
        "- in the ML world these vectors represent points in a high dimensional plane. The model plots them virtually and then groups points that are close to each other. They are considered to be of the same topic.\n",
        "\n",
        "- Possible algorithms: Hierarchical Clustering, K-means, PCA, etc"
      ],
      "metadata": {
        "id": "rbn13NTGmtAi"
      }
    },
    {
      "cell_type": "markdown",
      "source": [
        "## Questions about Machine Learning\n",
        "\n",
        "- How do I choose **which attributes** of my data to include in the model?\n",
        "- How do I choose **which model** to use?\n",
        "- How do I **optimize** this model for best performance?\n",
        "- How do I ensure that I'm building a model that will **generalize** to unseen data?\n",
        "- Can I **estimate** how well my model is likely to perform on unseen data?"
      ],
      "metadata": {
        "id": "pGWevW3trQ-t"
      }
    },
    {
      "cell_type": "markdown",
      "source": [
        "## Topics which you can explore in case you want to dive deeper\n",
        "\n",
        "### 1.   How AI is connected to business\n",
        "\n",
        "![ai_business](https://raw.githubusercontent.com/SimeonHristov99/ML_21-22/main/Week_02%20-%20Hello%2C%20Numpy!/assets/context_of_ai.png)\n",
        "\n",
        "### 2.   ML can be regarded as part of another field - Data Science\n",
        "\n",
        "![ds_ml](https://raw.githubusercontent.com/SimeonHristov99/ML_21-22/main/Week_02%20-%20Hello%2C%20Numpy!/assets/context_ml_ds.png)"
      ],
      "metadata": {
        "id": "Sv1_322KWj1Y"
      }
    },
    {
      "cell_type": "markdown",
      "source": [
        "# Coding the building block of neural networks - the Perceptron!"
      ],
      "metadata": {
        "id": "t6XVuau3uGES"
      }
    },
    {
      "cell_type": "markdown",
      "source": [
        "![neuron](https://raw.githubusercontent.com/SimeonHristov99/ML_21-22/main/Week_02%20-%20Hello%2C%20Numpy!/assets/neuron.png)"
      ],
      "metadata": {
        "id": "xCRW5lq7wcYV"
      }
    },
    {
      "cell_type": "markdown",
      "source": [
        "What's the purpose of weights and biases? Let's check it out with a concrete example [in Desmos](https://www.desmos.com/calculator)."
      ],
      "metadata": {
        "id": "drzZ1-C45hTW"
      }
    },
    {
      "cell_type": "code",
      "source": [
        "# Model 1 neuron with 3 weights.\n",
        "inputs = [1.2, 5.1, 2.1]\n",
        "weights = [3.1, 2.1, 8.7]\n",
        "bias = 3"
      ],
      "metadata": {
        "id": "eMGNRBGiuIf5"
      },
      "execution_count": null,
      "outputs": []
    },
    {
      "cell_type": "code",
      "source": [
        "output = inputs[0]*weights[0] + inputs[1]*weights[1] + inputs[2]*weights[2] + bias\n",
        "output"
      ],
      "metadata": {
        "id": "NjOXu8G9vqB2",
        "colab": {
          "base_uri": "https://localhost:8080/"
        },
        "outputId": "6e3239c9-6843-4aa2-c532-78352647460b"
      },
      "execution_count": null,
      "outputs": [
        {
          "output_type": "execute_result",
          "data": {
            "text/plain": [
              "35.7"
            ]
          },
          "metadata": {},
          "execution_count": 232
        }
      ]
    },
    {
      "cell_type": "markdown",
      "source": [
        "![3 neurons](https://raw.githubusercontent.com/SimeonHristov99/ML_21-22/main/Week_02%20-%20Hello%2C%20Numpy!/assets/3neurons.png)"
      ],
      "metadata": {
        "id": "I0NyAP5AW1X5"
      }
    },
    {
      "cell_type": "code",
      "source": [
        "# Model 3 neurons with 4 weights.\n",
        "inputs = [1, 2, 3, 2.5]\n",
        "\n",
        "weights1 = [0.2, 0.8, -0.5, 1.0]\n",
        "weights2 = [0.5, -0.91, 0.26, -0.5]\n",
        "weights3 = [-0.26, -0.27, 0.17, 0.87]\n",
        "\n",
        "bias1 = 2\n",
        "bias2 = 3\n",
        "bias3 = 0.5"
      ],
      "metadata": {
        "id": "fHz4KeRAwLvR"
      },
      "execution_count": null,
      "outputs": []
    },
    {
      "cell_type": "code",
      "source": [
        "output = [\n",
        "        inputs[0]*weights1[0] + inputs[1]*weights1[1] + inputs[2]*weights1[2] + bias,\n",
        "        inputs[0]*weights2[0] + inputs[1]*weights2[1] + inputs[2]*weights2[2] + bias,\n",
        "        inputs[0]*weights3[0] + inputs[1]*weights3[1] + inputs[2]*weights3[2] + bias,\n",
        "]\n",
        "output"
      ],
      "metadata": {
        "id": "xd742wz7V7lG",
        "colab": {
          "base_uri": "https://localhost:8080/"
        },
        "outputId": "353edae8-6813-49ed-d038-460bbea9ece7"
      },
      "execution_count": null,
      "outputs": [
        {
          "output_type": "execute_result",
          "data": {
            "text/plain": [
              "[3.3, 2.46, 2.71]"
            ]
          },
          "metadata": {},
          "execution_count": 234
        }
      ]
    },
    {
      "cell_type": "markdown",
      "source": [
        "How would you change the output?\n",
        "  - can you change the input values? No\n",
        "  - can you change the weight values? Yes\n",
        "  - can you change the bias values? Yes"
      ],
      "metadata": {
        "id": "01QkQZDDzXxq"
      }
    },
    {
      "cell_type": "markdown",
      "source": [
        "Optimize (more of a convenience for programmer, but still slow)"
      ],
      "metadata": {
        "id": "GdjKrSuo0bIg"
      }
    },
    {
      "cell_type": "code",
      "source": [
        "weights = [\n",
        " [0.2, 0.8, -0.5, 1.0],\n",
        " [0.5, -0.91, 0.26, -0.5],\n",
        " [-0.26, -0.27, 0.17, 0.87]\n",
        "]\n",
        "\n",
        "biases = [2, 3, 0.5]"
      ],
      "metadata": {
        "id": "nbmR3zlx0cNM"
      },
      "execution_count": null,
      "outputs": []
    },
    {
      "cell_type": "code",
      "source": [
        "layer_outputs = [] # output of current layer of neurons\n",
        "\n",
        "for ws, b in zip(weights, biases):\n",
        "  neuron_output = 0 # output of a given neuron\n",
        "\n",
        "  for inp, w in zip(inputs, ws):\n",
        "    neuron_output += (inp * w)\n",
        "\n",
        "  neuron_output += b\n",
        "  layer_outputs.append(neuron_output)\n",
        "\n",
        "layer_outputs"
      ],
      "metadata": {
        "id": "RkaQ-F1u0gzH",
        "colab": {
          "base_uri": "https://localhost:8080/"
        },
        "outputId": "094a5a1a-7fae-4eaf-eb4f-be51c4ac405e"
      },
      "execution_count": null,
      "outputs": [
        {
          "output_type": "execute_result",
          "data": {
            "text/plain": [
              "[4.8, 1.21, 2.385]"
            ]
          },
          "metadata": {},
          "execution_count": 236
        }
      ]
    },
    {
      "cell_type": "markdown",
      "source": [
        "Really optimize (convenience for programmer and fast)"
      ],
      "metadata": {
        "id": "5uV_Gq-iz-dV"
      }
    },
    {
      "cell_type": "code",
      "source": [
        "inputs = np.array([1, 2, 3, 2.5])\n",
        "weights = np.array([\n",
        " [0.2, 0.8, -0.5, 1.0],\n",
        " [0.5, -0.91, 0.26, -0.5],\n",
        " [-0.26, -0.27, 0.17, 0.87]\n",
        "])\n",
        "biases = np.array([2, 3, 0.5])"
      ],
      "metadata": {
        "id": "oFin3kOIzdkc"
      },
      "execution_count": null,
      "outputs": []
    },
    {
      "cell_type": "code",
      "source": [
        "np.dot(weights, inputs) + bias"
      ],
      "metadata": {
        "id": "ASz-VnE83jow",
        "colab": {
          "base_uri": "https://localhost:8080/"
        },
        "outputId": "14cf483a-04db-4794-ae83-ff70241a8f62"
      },
      "execution_count": null,
      "outputs": [
        {
          "output_type": "execute_result",
          "data": {
            "text/plain": [
              "array([5.8  , 1.21 , 4.885])"
            ]
          },
          "metadata": {},
          "execution_count": 238
        }
      ]
    },
    {
      "cell_type": "markdown",
      "source": [
        "![perceptron](https://raw.githubusercontent.com/SimeonHristov99/ML_21-22/c85ba2003e0058f86104de1d13233a4f0f322b4a/Week_02%20-%20Hello%2C%20Numpy!/assets/perceptron.svg)"
      ],
      "metadata": {
        "id": "7cUG7dC6xWcY"
      }
    },
    {
      "cell_type": "markdown",
      "source": [
        "# For Home"
      ],
      "metadata": {
        "id": "YWK7K8DkC80n"
      }
    },
    {
      "cell_type": "markdown",
      "source": [
        "## Part 1: NumPy exercises"
      ],
      "metadata": {
        "id": "HNVQ5G80xrmz"
      }
    },
    {
      "cell_type": "code",
      "source": [
        "# 1. Create a vector of 10 zeros but the fifth value of which is 1\n",
        "a = np.zeros(10)\n",
        "a[4] = 1\n",
        "a"
      ],
      "metadata": {
        "id": "9Bmebg-UsWyc",
        "colab": {
          "base_uri": "https://localhost:8080/"
        },
        "outputId": "73c18cca-0048-408c-aa39-909be1eaf5eb"
      },
      "execution_count": null,
      "outputs": [
        {
          "output_type": "execute_result",
          "data": {
            "text/plain": [
              "array([0., 0., 0., 0., 1., 0., 0., 0., 0., 0.])"
            ]
          },
          "metadata": {},
          "execution_count": 348
        }
      ]
    },
    {
      "cell_type": "code",
      "source": [
        "# 2. Create a vector with values ranging from 10 to 49 \n",
        "np.arange(10, 50,)"
      ],
      "metadata": {
        "id": "VPZryFhnwUh3",
        "colab": {
          "base_uri": "https://localhost:8080/"
        },
        "outputId": "aefb6de0-ef04-45de-a039-0b60dbc6638a"
      },
      "execution_count": 13,
      "outputs": [
        {
          "output_type": "execute_result",
          "data": {
            "text/plain": [
              "array([10, 11, 12, 13, 14, 15, 16, 17, 18, 19, 20, 21, 22, 23, 24, 25, 26,\n",
              "       27, 28, 29, 30, 31, 32, 33, 34, 35, 36, 37, 38, 39, 40, 41, 42, 43,\n",
              "       44, 45, 46, 47, 48, 49])"
            ]
          },
          "metadata": {},
          "execution_count": 13
        }
      ]
    },
    {
      "cell_type": "code",
      "source": [
        "# 3. Reverse an array in TWO ways:\n",
        "# using `the Python way`\n",
        "# and using a NumPy function\n",
        "a = [1, 2, 3, 4]\n",
        "print(a[::-1])\n",
        "print(np.flip(a))"
      ],
      "metadata": {
        "id": "5cBSp1btwXHS",
        "colab": {
          "base_uri": "https://localhost:8080/"
        },
        "outputId": "6e2ab2cf-c451-4d74-cf5d-5596cf652b5c"
      },
      "execution_count": null,
      "outputs": [
        {
          "output_type": "stream",
          "name": "stdout",
          "text": [
            "[4, 3, 2, 1]\n",
            "[4 3 2 1]\n"
          ]
        }
      ]
    },
    {
      "cell_type": "code",
      "source": [
        "# 4. Create a 3x3 matrix with the values from 0 to 8\n",
        "a = np.arange(9,)\n",
        "a.reshape((3, 3,))"
      ],
      "metadata": {
        "id": "a3v0vtZ3wZFm",
        "colab": {
          "base_uri": "https://localhost:8080/"
        },
        "outputId": "92a4a8e1-393d-4312-d75d-9abf4ccc6095"
      },
      "execution_count": 12,
      "outputs": [
        {
          "output_type": "execute_result",
          "data": {
            "text/plain": [
              "array([[0, 1, 2],\n",
              "       [3, 4, 5],\n",
              "       [6, 7, 8]])"
            ]
          },
          "metadata": {},
          "execution_count": 12
        }
      ]
    },
    {
      "cell_type": "code",
      "source": [
        "# 5. Find indices of non-zero elements from a = np.array([1,2,0,0,4,0])\n",
        "# Output should be: array([0, 1, 4])\n",
        "a = np.array([1,2,0,0,4,0])\n",
        "a.nonzero()"
      ],
      "metadata": {
        "id": "qgMOUPXlwa3b",
        "colab": {
          "base_uri": "https://localhost:8080/"
        },
        "outputId": "08a04b3f-33fd-4ebe-fefe-4c62ca6f508b"
      },
      "execution_count": null,
      "outputs": [
        {
          "output_type": "execute_result",
          "data": {
            "text/plain": [
              "(array([0, 1, 4]),)"
            ]
          },
          "metadata": {},
          "execution_count": 260
        }
      ]
    },
    {
      "cell_type": "code",
      "source": [
        "# 6. Create a 3x3 identity matrix\n",
        "np.eye(3)"
      ],
      "metadata": {
        "id": "I8ss7fE0wcoD",
        "colab": {
          "base_uri": "https://localhost:8080/"
        },
        "outputId": "723a3647-ea24-41a2-878e-9c32b30167af"
      },
      "execution_count": null,
      "outputs": [
        {
          "output_type": "execute_result",
          "data": {
            "text/plain": [
              "array([[1., 0., 0.],\n",
              "       [0., 1., 0.],\n",
              "       [0., 0., 1.]])"
            ]
          },
          "metadata": {},
          "execution_count": 258
        }
      ]
    },
    {
      "cell_type": "code",
      "source": [
        "# 7. Create a 3x3x3 array with random values drawn from the uniform distribution\n",
        "np.random.random((3, 3, 3,))"
      ],
      "metadata": {
        "id": "ytLLwhbuweQ6",
        "colab": {
          "base_uri": "https://localhost:8080/"
        },
        "outputId": "502eb781-ff5a-43e3-e4d6-b39bdabdcb71"
      },
      "execution_count": 10,
      "outputs": [
        {
          "output_type": "execute_result",
          "data": {
            "text/plain": [
              "array([[[0.77186176, 0.68991741, 0.00271579],\n",
              "        [0.28360942, 0.60420027, 0.26372976],\n",
              "        [0.72009643, 0.82171338, 0.99217543]],\n",
              "\n",
              "       [[0.07190303, 0.667413  , 0.1867261 ],\n",
              "        [0.29884121, 0.18125092, 0.25050779],\n",
              "        [0.55541568, 0.27426732, 0.86225023]],\n",
              "\n",
              "       [[0.25112681, 0.86670482, 0.2759248 ],\n",
              "        [0.63006758, 0.33207636, 0.35438262],\n",
              "        [0.4786721 , 0.09696697, 0.33004738]]])"
            ]
          },
          "metadata": {},
          "execution_count": 10
        }
      ]
    },
    {
      "cell_type": "code",
      "source": [
        "# 8. Create a 10x10 array with random values and find the minimum and maximum values\n",
        "# The distribution does not matter.\n",
        "a = np.random.random((10, 10,))\n",
        "print(a)\n",
        "print(np.min(a))\n",
        "print(np.max(a))"
      ],
      "metadata": {
        "id": "sBYhtq6rwgDK",
        "colab": {
          "base_uri": "https://localhost:8080/"
        },
        "outputId": "8f994f4f-d1e1-4eff-f703-f8a9eb342ec6"
      },
      "execution_count": 4,
      "outputs": [
        {
          "output_type": "stream",
          "name": "stdout",
          "text": [
            "[[0.24519102 0.7172304  0.21386182 0.76639654 0.59082858 0.2863735\n",
            "  0.92221344 0.88039776 0.06494283 0.32316453]\n",
            " [0.11101401 0.21793906 0.07595678 0.4302423  0.7284019  0.03268601\n",
            "  0.55994246 0.6157714  0.92832743 0.26079845]\n",
            " [0.05075203 0.7333775  0.96571549 0.96561953 0.15050326 0.54616969\n",
            "  0.30482732 0.14810213 0.41134462 0.89177518]\n",
            " [0.34469621 0.84893578 0.75415401 0.60260488 0.17127036 0.19039678\n",
            "  0.71804518 0.06340387 0.76252121 0.10066981]\n",
            " [0.38470072 0.20276508 0.3878409  0.5505849  0.51766013 0.87212728\n",
            "  0.51990499 0.42222    0.27057241 0.15003106]\n",
            " [0.08665299 0.25368711 0.86848329 0.31356234 0.49035581 0.83747223\n",
            "  0.95400036 0.99931285 0.74439205 0.26269556]\n",
            " [0.82257433 0.86060136 0.03736444 0.18693587 0.74822951 0.20927649\n",
            "  0.72534282 0.99218983 0.15293586 0.38981171]\n",
            " [0.37560164 0.93886381 0.91704772 0.28394606 0.5945812  0.3757553\n",
            "  0.77171302 0.62565642 0.23750781 0.13115158]\n",
            " [0.10768465 0.64437498 0.73210312 0.5449259  0.5036881  0.86819275\n",
            "  0.45489708 0.29342424 0.71409465 0.05333773]\n",
            " [0.10085412 0.63191475 0.0253812  0.96360724 0.6056372  0.15335623\n",
            "  0.57667478 0.906493   0.25667928 0.35901277]]\n",
            "0.025381195324558625\n",
            "0.9993128507703871\n"
          ]
        }
      ]
    },
    {
      "cell_type": "code",
      "source": [
        "# 9. Create a random array of size 30 and find the mean value\n",
        "a = np.random.random((30,))\n",
        "print(a)\n",
        "np.mean(a)"
      ],
      "metadata": {
        "id": "Fjux7FP6wiLG",
        "colab": {
          "base_uri": "https://localhost:8080/"
        },
        "outputId": "5064af07-af27-49bb-9e01-edc1c91f4e9b"
      },
      "execution_count": 3,
      "outputs": [
        {
          "output_type": "stream",
          "name": "stdout",
          "text": [
            "[0.49751525 0.41586886 0.92779714 0.95277945 0.15248533 0.9019038\n",
            " 0.66164495 0.03136283 0.48366254 0.78773543 0.19713915 0.81380708\n",
            " 0.77707744 0.89650291 0.57443536 0.75392704 0.66855274 0.66949509\n",
            " 0.15399369 0.39768819 0.81780393 0.52853917 0.0289103  0.13802125\n",
            " 0.15172346 0.08710085 0.57512084 0.18991575 0.02294374 0.53400027]\n"
          ]
        },
        {
          "output_type": "execute_result",
          "data": {
            "text/plain": [
              "0.4929817940976793"
            ]
          },
          "metadata": {},
          "execution_count": 3
        }
      ]
    },
    {
      "cell_type": "code",
      "source": [
        "# 10. Create a 5x5 array with 1 on the border and 0 inside\n",
        "a = np.ones((5, 5,))\n",
        "a[1:-1,1:-1] = 0\n",
        "a"
      ],
      "metadata": {
        "id": "VBE0Np1Cwj5P",
        "colab": {
          "base_uri": "https://localhost:8080/"
        },
        "outputId": "96465695-786e-45af-9e7f-8c13dce7929f"
      },
      "execution_count": null,
      "outputs": [
        {
          "output_type": "execute_result",
          "data": {
            "text/plain": [
              "array([[1., 1., 1., 1., 1.],\n",
              "       [1., 0., 0., 0., 1.],\n",
              "       [1., 0., 0., 0., 1.],\n",
              "       [1., 0., 0., 0., 1.],\n",
              "       [1., 1., 1., 1., 1.]])"
            ]
          },
          "metadata": {},
          "execution_count": 296
        }
      ]
    },
    {
      "cell_type": "code",
      "source": [
        "# 11. Add a border filled with 0's on the two sides of an array.\n",
        "# Result should be: array([0, 1, 2, 3, 0])\n",
        "# Hint: np.pad\n",
        "a = [1, 2, 3]\n",
        "np.pad(a, (1, 1,), 'constant', constant_values=(0))"
      ],
      "metadata": {
        "id": "ZQSrAw1zwllw",
        "colab": {
          "base_uri": "https://localhost:8080/"
        },
        "outputId": "466d5d9e-b446-4940-ee14-017c7a904aea"
      },
      "execution_count": 5,
      "outputs": [
        {
          "output_type": "execute_result",
          "data": {
            "text/plain": [
              "array([0, 1, 2, 3, 0])"
            ]
          },
          "metadata": {},
          "execution_count": 5
        }
      ]
    },
    {
      "cell_type": "code",
      "source": [
        "# 12. Create a 5x5 matrix with values 1,2,3,4 just below the diagonal\n",
        "# Expected result:\n",
        "# array([[0, 0, 0, 0, 0],\n",
        "#        [1, 0, 0, 0, 0],\n",
        "#        [0, 2, 0, 0, 0],\n",
        "#        [0, 0, 3, 0, 0],\n",
        "#        [0, 0, 0, 4, 0]])\n",
        "# Hint: np.diag\n",
        "np.diag([1, 2, 3, 4], k=-1)"
      ],
      "metadata": {
        "id": "JGZChipEwnmr",
        "colab": {
          "base_uri": "https://localhost:8080/"
        },
        "outputId": "a726e562-a073-4dec-a62a-5d3a30ba4f91"
      },
      "execution_count": null,
      "outputs": [
        {
          "output_type": "execute_result",
          "data": {
            "text/plain": [
              "array([[0, 0, 0, 0, 0],\n",
              "       [1, 0, 0, 0, 0],\n",
              "       [0, 2, 0, 0, 0],\n",
              "       [0, 0, 3, 0, 0],\n",
              "       [0, 0, 0, 4, 0]])"
            ]
          },
          "metadata": {},
          "execution_count": 307
        }
      ]
    },
    {
      "cell_type": "code",
      "source": [
        "# 13. Create and multiply a 5x3 matrix by a 3x2 matrix (real matrix product)\n",
        "# The matrices can hold random values or you can create them manually.\n",
        "a = np.arange(10, 25,).reshape((5, 3,))\n",
        "b = np.arange(2, 8,).reshape((3, 2,))\n",
        "np.dot(a, b)"
      ],
      "metadata": {
        "id": "hNFX0eGVwtj_",
        "colab": {
          "base_uri": "https://localhost:8080/"
        },
        "outputId": "610e9bc1-50f7-49e0-ef1e-26f8456c7365"
      },
      "execution_count": 6,
      "outputs": [
        {
          "output_type": "execute_result",
          "data": {
            "text/plain": [
              "array([[136, 169],\n",
              "       [172, 214],\n",
              "       [208, 259],\n",
              "       [244, 304],\n",
              "       [280, 349]])"
            ]
          },
          "metadata": {},
          "execution_count": 6
        }
      ]
    },
    {
      "cell_type": "code",
      "source": [
        "# 14. Create a 1D array of random integers between 0 and 9\n",
        "# negate all elements which are between 3 and 8.\n",
        "a = np.arange(10)\n",
        "np.where((a > 3) & (a < 8) , -a , a)"
      ],
      "metadata": {
        "id": "M9IQNbmJwzah",
        "colab": {
          "base_uri": "https://localhost:8080/"
        },
        "outputId": "26f686d9-2847-4565-b2d2-09734b8b8214"
      },
      "execution_count": null,
      "outputs": [
        {
          "output_type": "execute_result",
          "data": {
            "text/plain": [
              "array([ 0,  1,  2,  3, -4, -5, -6, -7,  8,  9])"
            ]
          },
          "metadata": {},
          "execution_count": 337
        }
      ]
    },
    {
      "cell_type": "code",
      "source": [
        "# 15. Create a random array of size 10 and sort it\n",
        "np.sort(np.random.random(10,))"
      ],
      "metadata": {
        "id": "ufEMUrNmxPRX",
        "colab": {
          "base_uri": "https://localhost:8080/"
        },
        "outputId": "f3c65349-4163-4e8a-a9d6-95b93c21b788"
      },
      "execution_count": 7,
      "outputs": [
        {
          "output_type": "execute_result",
          "data": {
            "text/plain": [
              "array([0.0033326 , 0.17300734, 0.18219138, 0.29408923, 0.40198801,\n",
              "       0.4214717 , 0.62995354, 0.65727007, 0.91694854, 0.98106699])"
            ]
          },
          "metadata": {},
          "execution_count": 7
        }
      ]
    },
    {
      "cell_type": "code",
      "source": [
        "# 16. Create random vector of size 10 and replace the maximum value by 0\n",
        "a = np.random.rand((10))\n",
        "np.where(a == np.max(a), 0 , a)"
      ],
      "metadata": {
        "id": "nSldPimWxVBz",
        "colab": {
          "base_uri": "https://localhost:8080/"
        },
        "outputId": "2a5e1d52-40ff-442b-98dc-9b00cbc4363a"
      },
      "execution_count": 9,
      "outputs": [
        {
          "output_type": "execute_result",
          "data": {
            "text/plain": [
              "array([0.        , 0.02292698, 0.75739451, 0.32669521, 0.54521033,\n",
              "       0.27416999, 0.80706011, 0.50407248, 0.42386127, 0.94647341])"
            ]
          },
          "metadata": {},
          "execution_count": 9
        }
      ]
    },
    {
      "cell_type": "markdown",
      "source": [
        "## Part 2: KNN Implementation using efficient NumPy operations"
      ],
      "metadata": {
        "id": "dv4PIlV8xy1I"
      }
    },
    {
      "cell_type": "code",
      "source": [
        "# Define the `KNN` class here\n",
        "class KNN:\n",
        "  def fit(self):\n",
        "    pass\n",
        "\n",
        "  def predict(self):\n",
        "    pass"
      ],
      "metadata": {
        "id": "p0t5lWdlC-ZQ"
      },
      "execution_count": null,
      "outputs": []
    },
    {
      "cell_type": "code",
      "source": [
        "import matplotlib.pyplot as plt\n",
        "from sklearn import datasets\n",
        "from sklearn.model_selection import train_test_split\n",
        "\n",
        "def accuracy(y_true, y_pred):\n",
        "  accuracy = np.sum(y_true == y_pred) / len(y_true)\n",
        "  return accuracy\n",
        "\n",
        "X, y = datasets.make_blobs(\n",
        "    n_samples=150, n_features=2, centers=2, cluster_std=1.05, random_state=2\n",
        ")\n",
        "X_train, X_test, y_train, y_test = train_test_split(\n",
        "    X, y, test_size=0.2, random_state=123\n",
        ")"
      ],
      "metadata": {
        "id": "P1yVSDYGZJrG"
      },
      "execution_count": null,
      "outputs": []
    },
    {
      "cell_type": "code",
      "source": [
        "X_train[:5]"
      ],
      "metadata": {
        "id": "8EqYuI2xZgww",
        "colab": {
          "base_uri": "https://localhost:8080/"
        },
        "outputId": "02eb8842-0600-4545-99b2-2d236229a096"
      },
      "execution_count": null,
      "outputs": [
        {
          "output_type": "execute_result",
          "data": {
            "text/plain": [
              "array([[ -1.96601474,  -8.59689627],\n",
              "       [  1.40959572,  -1.62390046],\n",
              "       [ -0.75207647, -10.78902785],\n",
              "       [ -0.53278301,  -1.64847081],\n",
              "       [ -0.12118447,  -1.40749481]])"
            ]
          },
          "metadata": {},
          "execution_count": 176
        }
      ]
    },
    {
      "cell_type": "code",
      "source": [
        "y_train[:5]"
      ],
      "metadata": {
        "id": "_CtMBmHIZh3A",
        "colab": {
          "base_uri": "https://localhost:8080/"
        },
        "outputId": "7d920321-71c6-499c-b5ab-c9516ac21478"
      },
      "execution_count": null,
      "outputs": [
        {
          "output_type": "execute_result",
          "data": {
            "text/plain": [
              "array([0, 1, 0, 1, 1])"
            ]
          },
          "metadata": {},
          "execution_count": 177
        }
      ]
    },
    {
      "cell_type": "code",
      "source": [
        "knn = KNN(k=2)\n",
        "knn.fit(X_train, y_train)\n",
        "predictions = knn.predict(X_test)\n",
        "\n",
        "print(\"Training classification accuracy\", accuracy(y_train, knn.predict(X_train)))\n",
        "print(\"Testing classification accuracy\", accuracy(y_test, predictions))"
      ],
      "metadata": {
        "colab": {
          "base_uri": "https://localhost:8080/"
        },
        "id": "s2SilPICS83y",
        "outputId": "afaa0c67-1eb8-40b8-aee0-51e6ae5936a0"
      },
      "execution_count": null,
      "outputs": [
        {
          "output_type": "stream",
          "name": "stdout",
          "text": [
            "Training classification accuracy 1.0\n",
            "Testing classification accuracy 1.0\n"
          ]
        }
      ]
    },
    {
      "cell_type": "markdown",
      "source": [
        "### Be patient - the following cell will take some time to run."
      ],
      "metadata": {
        "id": "NbHL6LRZcZbI"
      }
    },
    {
      "cell_type": "code",
      "source": [
        "h = .02 # step size in the mesh\n",
        "\n",
        "# Plot the decision boundary. For that, we will asign a color to each\n",
        "# point in the mesh [x_min, m_max]x[y_min, y_max].\n",
        "x_min, x_max = X_test[:,0].min() - .5, X_test[:,0].max() + .5\n",
        "y_min, y_max = X_test[:,1].min() - .5, X_test[:,1].max() + .5\n",
        "xx, yy = np.meshgrid(np.arange(x_min, x_max, h), np.arange(y_min, y_max, h))\n",
        "Z = knn.predict(np.c_[xx.ravel(), yy.ravel()])\n",
        "\n",
        "# Put the result into a color plot\n",
        "Z = Z.reshape(xx.shape)\n",
        "plt.figure(1, figsize=(12, 7))\n",
        "plt.pcolormesh(xx, yy, Z, cmap=plt.cm.Pastel1)\n",
        "\n",
        "# Plot also the training points\n",
        "plt.scatter(X_test[:,0], X_test[:,1],c=y_test, cmap=plt.cm.Dark2)\n",
        "\n",
        "plt.xlim(xx.min(), xx.max())\n",
        "plt.ylim(yy.min(), yy.max())\n",
        "plt.xticks(())\n",
        "plt.yticks(())\n",
        "plt.tight_layout()"
      ],
      "metadata": {
        "colab": {
          "base_uri": "https://localhost:8080/",
          "height": 513
        },
        "id": "oBtCf1M1T2TC",
        "outputId": "557ae135-8e82-452c-b806-c3ffcdd4b22d"
      },
      "execution_count": null,
      "outputs": [
        {
          "output_type": "display_data",
          "data": {
            "image/png": "[encoded data removed]",
            "text/plain": [
              "<Figure size 864x504 with 1 Axes>"
            ]
          },
          "metadata": {}
        }
      ]
    }
  ]
}